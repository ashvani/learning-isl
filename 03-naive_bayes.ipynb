{
 "cells": [
  {
   "cell_type": "markdown",
   "id": "0e55550f-40f4-481f-854b-0c9942793dcf",
   "metadata": {},
   "source": [
    "## Bayes Theorem  \n",
    "- Mathematical way to invert conditional probabilities\n",
    "- $P(A|B) = \\frac{P(A\\cap{B})}{P(B)} = \\frac{P(B|A)P(A)}{P(B)}$\n",
    "- P(A|B) and P(B|A) are called conditional probabilities\n",
    "- Let $f_k(X) = P(X | Y = k)$ denote the density function of X for an observation that comes from kth class then\n",
    "  $P(Y = k | X = x) = \\frac{P(Y = k, X = x)}{P(X = x)} = \\frac{P(X = x | Y = k) P(Y = k)}{P(X = x)}$\n",
    "  = $\\frac{P(X = x | Y = k) P(Y = k)}{\\Sigma^{K}_{l=1}P(X = x| Y = k)P(Y = k)}$ = $\\frac{\\pi_k f_k(x)}{\\Sigma^{K}_{l = 1}\\pi_l f_l(x)}$\n",
    "- Pr(Y = k|X = x) is the posterior probability that an observation X = x belongs to the $k^{th}$ class and $\\pi_k$ represent the overall or `prior probability` that a randomly chosen observation comes from the kth class\n",
    "- To compute Pr(Y = k|X = x), we need to have estimates of $\\pi_k$'s and $f_k$'s for k = 1, 2, ...., K\n",
    "- Estimating the prior probabilities $\\pi_1$, $\\pi_2$, ..., $\\pi_K$ is typically straightforward: for instance, we can estimate $\\hat{\\pi_k}$ as the proportion of training observations belonging to the kth class, for k = 1, . . . ,K.\n",
    "- We assume that features are independent. Stated mathematically, this assumption means that for k = 1, . . . ,K,\n",
    "  </br> $f_k(x) = f_{k1}(x_1) × f_{k2}(x_2)×· · ·×f_{kp}(x_p)$\n",
    "  "
   ]
  },
  {
   "cell_type": "code",
   "execution_count": 1,
   "id": "51493205-61e7-4e5c-97f3-20b87f510a62",
   "metadata": {},
   "outputs": [],
   "source": [
    "import pandas as pd\n",
    "from sklearn.metrics import classification_report, confusion_matrix\n",
    "from sklearn.naive_bayes import GaussianNB"
   ]
  },
  {
   "cell_type": "code",
   "execution_count": 2,
   "id": "e0fe13a5-a5f1-475f-a272-02923c8842e8",
   "metadata": {},
   "outputs": [
    {
     "data": {
      "text/html": [
       "<div>\n",
       "<style scoped>\n",
       "    .dataframe tbody tr th:only-of-type {\n",
       "        vertical-align: middle;\n",
       "    }\n",
       "\n",
       "    .dataframe tbody tr th {\n",
       "        vertical-align: top;\n",
       "    }\n",
       "\n",
       "    .dataframe thead th {\n",
       "        text-align: right;\n",
       "    }\n",
       "</style>\n",
       "<table border=\"1\" class=\"dataframe\">\n",
       "  <thead>\n",
       "    <tr style=\"text-align: right;\">\n",
       "      <th></th>\n",
       "      <th>default</th>\n",
       "      <th>student</th>\n",
       "      <th>balance</th>\n",
       "      <th>income</th>\n",
       "    </tr>\n",
       "  </thead>\n",
       "  <tbody>\n",
       "    <tr>\n",
       "      <th>0</th>\n",
       "      <td>No</td>\n",
       "      <td>0</td>\n",
       "      <td>729.526495</td>\n",
       "      <td>44361.62507</td>\n",
       "    </tr>\n",
       "    <tr>\n",
       "      <th>1</th>\n",
       "      <td>No</td>\n",
       "      <td>1</td>\n",
       "      <td>817.180407</td>\n",
       "      <td>12106.13470</td>\n",
       "    </tr>\n",
       "    <tr>\n",
       "      <th>2</th>\n",
       "      <td>No</td>\n",
       "      <td>0</td>\n",
       "      <td>1073.549164</td>\n",
       "      <td>31767.13895</td>\n",
       "    </tr>\n",
       "    <tr>\n",
       "      <th>3</th>\n",
       "      <td>No</td>\n",
       "      <td>0</td>\n",
       "      <td>529.250605</td>\n",
       "      <td>35704.49394</td>\n",
       "    </tr>\n",
       "    <tr>\n",
       "      <th>4</th>\n",
       "      <td>No</td>\n",
       "      <td>0</td>\n",
       "      <td>785.655883</td>\n",
       "      <td>38463.49588</td>\n",
       "    </tr>\n",
       "  </tbody>\n",
       "</table>\n",
       "</div>"
      ],
      "text/plain": [
       "  default  student      balance       income\n",
       "0      No        0   729.526495  44361.62507\n",
       "1      No        1   817.180407  12106.13470\n",
       "2      No        0  1073.549164  31767.13895\n",
       "3      No        0   529.250605  35704.49394\n",
       "4      No        0   785.655883  38463.49588"
      ]
     },
     "execution_count": 2,
     "metadata": {},
     "output_type": "execute_result"
    }
   ],
   "source": [
    "df = pd.read_csv(r'Default.csv')\n",
    "df['student'] = df['student'].factorize()[0]\n",
    "df.head()"
   ]
  },
  {
   "cell_type": "code",
   "execution_count": 3,
   "id": "ebf83e6f-4b09-4dae-9528-6059e0cde356",
   "metadata": {},
   "outputs": [],
   "source": [
    "## https://scikit-learn.org/1.5/modules/naive_bayes.html"
   ]
  },
  {
   "cell_type": "code",
   "execution_count": 4,
   "id": "a3a0230b-dbf0-41d8-b65d-0d97512ab976",
   "metadata": {},
   "outputs": [
    {
     "data": {
      "text/html": [
       "<style>#sk-container-id-1 {color: black;}#sk-container-id-1 pre{padding: 0;}#sk-container-id-1 div.sk-toggleable {background-color: white;}#sk-container-id-1 label.sk-toggleable__label {cursor: pointer;display: block;width: 100%;margin-bottom: 0;padding: 0.3em;box-sizing: border-box;text-align: center;}#sk-container-id-1 label.sk-toggleable__label-arrow:before {content: \"▸\";float: left;margin-right: 0.25em;color: #696969;}#sk-container-id-1 label.sk-toggleable__label-arrow:hover:before {color: black;}#sk-container-id-1 div.sk-estimator:hover label.sk-toggleable__label-arrow:before {color: black;}#sk-container-id-1 div.sk-toggleable__content {max-height: 0;max-width: 0;overflow: hidden;text-align: left;background-color: #f0f8ff;}#sk-container-id-1 div.sk-toggleable__content pre {margin: 0.2em;color: black;border-radius: 0.25em;background-color: #f0f8ff;}#sk-container-id-1 input.sk-toggleable__control:checked~div.sk-toggleable__content {max-height: 200px;max-width: 100%;overflow: auto;}#sk-container-id-1 input.sk-toggleable__control:checked~label.sk-toggleable__label-arrow:before {content: \"▾\";}#sk-container-id-1 div.sk-estimator input.sk-toggleable__control:checked~label.sk-toggleable__label {background-color: #d4ebff;}#sk-container-id-1 div.sk-label input.sk-toggleable__control:checked~label.sk-toggleable__label {background-color: #d4ebff;}#sk-container-id-1 input.sk-hidden--visually {border: 0;clip: rect(1px 1px 1px 1px);clip: rect(1px, 1px, 1px, 1px);height: 1px;margin: -1px;overflow: hidden;padding: 0;position: absolute;width: 1px;}#sk-container-id-1 div.sk-estimator {font-family: monospace;background-color: #f0f8ff;border: 1px dotted black;border-radius: 0.25em;box-sizing: border-box;margin-bottom: 0.5em;}#sk-container-id-1 div.sk-estimator:hover {background-color: #d4ebff;}#sk-container-id-1 div.sk-parallel-item::after {content: \"\";width: 100%;border-bottom: 1px solid gray;flex-grow: 1;}#sk-container-id-1 div.sk-label:hover label.sk-toggleable__label {background-color: #d4ebff;}#sk-container-id-1 div.sk-serial::before {content: \"\";position: absolute;border-left: 1px solid gray;box-sizing: border-box;top: 0;bottom: 0;left: 50%;z-index: 0;}#sk-container-id-1 div.sk-serial {display: flex;flex-direction: column;align-items: center;background-color: white;padding-right: 0.2em;padding-left: 0.2em;position: relative;}#sk-container-id-1 div.sk-item {position: relative;z-index: 1;}#sk-container-id-1 div.sk-parallel {display: flex;align-items: stretch;justify-content: center;background-color: white;position: relative;}#sk-container-id-1 div.sk-item::before, #sk-container-id-1 div.sk-parallel-item::before {content: \"\";position: absolute;border-left: 1px solid gray;box-sizing: border-box;top: 0;bottom: 0;left: 50%;z-index: -1;}#sk-container-id-1 div.sk-parallel-item {display: flex;flex-direction: column;z-index: 1;position: relative;background-color: white;}#sk-container-id-1 div.sk-parallel-item:first-child::after {align-self: flex-end;width: 50%;}#sk-container-id-1 div.sk-parallel-item:last-child::after {align-self: flex-start;width: 50%;}#sk-container-id-1 div.sk-parallel-item:only-child::after {width: 0;}#sk-container-id-1 div.sk-dashed-wrapped {border: 1px dashed gray;margin: 0 0.4em 0.5em 0.4em;box-sizing: border-box;padding-bottom: 0.4em;background-color: white;}#sk-container-id-1 div.sk-label label {font-family: monospace;font-weight: bold;display: inline-block;line-height: 1.2em;}#sk-container-id-1 div.sk-label-container {text-align: center;}#sk-container-id-1 div.sk-container {/* jupyter's `normalize.less` sets `[hidden] { display: none; }` but bootstrap.min.css set `[hidden] { display: none !important; }` so we also need the `!important` here to be able to override the default hidden behavior on the sphinx rendered scikit-learn.org. See: https://github.com/scikit-learn/scikit-learn/issues/21755 */display: inline-block !important;position: relative;}#sk-container-id-1 div.sk-text-repr-fallback {display: none;}</style><div id=\"sk-container-id-1\" class=\"sk-top-container\"><div class=\"sk-text-repr-fallback\"><pre>GaussianNB()</pre><b>In a Jupyter environment, please rerun this cell to show the HTML representation or trust the notebook. <br />On GitHub, the HTML representation is unable to render, please try loading this page with nbviewer.org.</b></div><div class=\"sk-container\" hidden><div class=\"sk-item\"><div class=\"sk-estimator sk-toggleable\"><input class=\"sk-toggleable__control sk-hidden--visually\" id=\"sk-estimator-id-1\" type=\"checkbox\" checked><label for=\"sk-estimator-id-1\" class=\"sk-toggleable__label sk-toggleable__label-arrow\">GaussianNB</label><div class=\"sk-toggleable__content\"><pre>GaussianNB()</pre></div></div></div></div></div>"
      ],
      "text/plain": [
       "GaussianNB()"
      ]
     },
     "execution_count": 4,
     "metadata": {},
     "output_type": "execute_result"
    }
   ],
   "source": [
    "model = GaussianNB()\n",
    "model.fit(df[['student', 'balance', 'income']], df['default'])"
   ]
  },
  {
   "cell_type": "code",
   "execution_count": 5,
   "id": "8cf05070-5ebe-4573-a2af-cc4494e84f9d",
   "metadata": {},
   "outputs": [
    {
     "data": {
      "text/plain": [
       "0.9707"
      ]
     },
     "execution_count": 5,
     "metadata": {},
     "output_type": "execute_result"
    }
   ],
   "source": [
    "model.score(df[['student', 'balance', 'income']], df['default'])"
   ]
  },
  {
   "cell_type": "code",
   "execution_count": 6,
   "id": "ed14998c-8864-4ed1-a0fb-22e5751798af",
   "metadata": {},
   "outputs": [
    {
     "data": {
      "text/plain": [
       "array([[9620,   47],\n",
       "       [ 246,   87]], dtype=int64)"
      ]
     },
     "execution_count": 6,
     "metadata": {},
     "output_type": "execute_result"
    }
   ],
   "source": [
    "y_pred = model.predict(df[['student', 'balance', 'income']])\n",
    "confusion_matrix(df['default'], y_pred)"
   ]
  },
  {
   "cell_type": "code",
   "execution_count": 7,
   "id": "0feccd76-8cac-4d60-8f30-f74a272d7fbc",
   "metadata": {},
   "outputs": [
    {
     "name": "stdout",
     "output_type": "stream",
     "text": [
      "Help on function confusion_matrix in module sklearn.metrics._classification:\n",
      "\n",
      "confusion_matrix(y_true, y_pred, *, labels=None, sample_weight=None, normalize=None)\n",
      "    Compute confusion matrix to evaluate the accuracy of a classification.\n",
      "\n",
      "    By definition a confusion matrix :math:`C` is such that :math:`C_{i, j}`\n",
      "    is equal to the number of observations known to be in group :math:`i` and\n",
      "    predicted to be in group :math:`j`.\n",
      "\n",
      "    Thus in binary classification, the count of true negatives is\n",
      "    :math:`C_{0,0}`, false negatives is :math:`C_{1,0}`, true positives is\n",
      "    :math:`C_{1,1}` and false positives is :math:`C_{0,1}`.\n",
      "\n",
      "    Read more in the :ref:`User Guide <confusion_matrix>`.\n",
      "\n",
      "    Parameters\n",
      "    ----------\n",
      "    y_true : array-like of shape (n_samples,)\n",
      "        Ground truth (correct) target values.\n",
      "\n",
      "    y_pred : array-like of shape (n_samples,)\n",
      "        Estimated targets as returned by a classifier.\n",
      "\n",
      "    labels : array-like of shape (n_classes), default=None\n",
      "        List of labels to index the matrix. This may be used to reorder\n",
      "        or select a subset of labels.\n",
      "        If ``None`` is given, those that appear at least once\n",
      "        in ``y_true`` or ``y_pred`` are used in sorted order.\n",
      "\n",
      "    sample_weight : array-like of shape (n_samples,), default=None\n",
      "        Sample weights.\n",
      "\n",
      "        .. versionadded:: 0.18\n",
      "\n",
      "    normalize : {'true', 'pred', 'all'}, default=None\n",
      "        Normalizes confusion matrix over the true (rows), predicted (columns)\n",
      "        conditions or all the population. If None, confusion matrix will not be\n",
      "        normalized.\n",
      "\n",
      "    Returns\n",
      "    -------\n",
      "    C : ndarray of shape (n_classes, n_classes)\n",
      "        Confusion matrix whose i-th row and j-th\n",
      "        column entry indicates the number of\n",
      "        samples with true label being i-th class\n",
      "        and predicted label being j-th class.\n",
      "\n",
      "    See Also\n",
      "    --------\n",
      "    ConfusionMatrixDisplay.from_estimator : Plot the confusion matrix\n",
      "        given an estimator, the data, and the label.\n",
      "    ConfusionMatrixDisplay.from_predictions : Plot the confusion matrix\n",
      "        given the true and predicted labels.\n",
      "    ConfusionMatrixDisplay : Confusion Matrix visualization.\n",
      "\n",
      "    References\n",
      "    ----------\n",
      "    .. [1] `Wikipedia entry for the Confusion matrix\n",
      "           <https://en.wikipedia.org/wiki/Confusion_matrix>`_\n",
      "           (Wikipedia and other references may use a different\n",
      "           convention for axes).\n",
      "\n",
      "    Examples\n",
      "    --------\n",
      "    >>> from sklearn.metrics import confusion_matrix\n",
      "    >>> y_true = [2, 0, 2, 2, 0, 1]\n",
      "    >>> y_pred = [0, 0, 2, 2, 0, 2]\n",
      "    >>> confusion_matrix(y_true, y_pred)\n",
      "    array([[2, 0, 0],\n",
      "           [0, 0, 1],\n",
      "           [1, 0, 2]])\n",
      "\n",
      "    >>> y_true = [\"cat\", \"ant\", \"cat\", \"cat\", \"ant\", \"bird\"]\n",
      "    >>> y_pred = [\"ant\", \"ant\", \"cat\", \"cat\", \"ant\", \"cat\"]\n",
      "    >>> confusion_matrix(y_true, y_pred, labels=[\"ant\", \"bird\", \"cat\"])\n",
      "    array([[2, 0, 0],\n",
      "           [0, 0, 1],\n",
      "           [1, 0, 2]])\n",
      "\n",
      "    In the binary case, we can extract true positives, etc. as follows:\n",
      "\n",
      "    >>> tn, fp, fn, tp = confusion_matrix([0, 1, 0, 1], [1, 1, 1, 0]).ravel()\n",
      "    >>> (tn, fp, fn, tp)\n",
      "    (0, 2, 1, 1)\n",
      "\n"
     ]
    }
   ],
   "source": [
    "help(confusion_matrix)"
   ]
  },
  {
   "attachments": {
    "7d7bc542-539d-46f0-a96d-71d42b48cab6.png": {
     "image/png": "[encoded data removed]"
    }
   },
   "cell_type": "markdown",
   "id": "2766da11-2fa3-4c37-8fd3-b2484eb53f70",
   "metadata": {},
   "source": [
    "## Evaluation Metrics\n",
    "https://developers.google.com/machine-learning/crash-course/classification/thresholding  \n",
    "- If logistic regression model predicts 0.5 (spam is positive) what does that mean? if prediction is 0.75?\n",
    "- For real life use, we need to convert probability to either 0 or 1. We need `classification threshold` for this. If p is more than 'classification threshold' then response is positive class otherwise it is negative.\n",
    "- For each model prediction there are 4 possibility. Below table captures these posibility in `confusion matrix`\n",
    "\n",
    "![image.png](attachment:7d7bc542-539d-46f0-a96d-71d42b48cab6.png)  \n",
    "- What is TP + FN and FP + TN?\n",
    "- What is TP + FP and FN + TN?\n",
    "- When the total of actual positives is not close to the total of actual negatives, the dataset is `imbalanced`\n",
    "- If p increases, FN increases and FP decreases. Inverse is also true\n",
    "- Accuracy = $\\frac{TP + TN}{TP + FP + TN + FN}$\n",
    "- when the dataset is imbalanced, or where one kind of mistake (FN or FP) is more costly than the other it is better to optimize for one of the other metrics\n",
    "- What is model accuracy for a trivial model that predicts that customer will not default on `Default` dataset?\n",
    "- Recall or (True Positive Rate - TPR) </br>\n",
    "  Recall = $\\frac{TP}{TP + FN}$ </br>\n",
    "  Also called `detection rate`...........what proportion of positive's were identified correctly. This metric should be used for `Default` dataset\n",
    "- Precision is the proportion of all the model's positive classifications that are actually positive </br>\n",
    "    Precision = $\\frac{TP}{TP + FP}$ </br>\n",
    "    precision measures the fraction of emails classified as spam that were actually spam\n",
    "- Precision and Recall are generally in inverse relation\n",
    "- The F1 score is the harmonic mean (a kind of average) of precision and recall\n",
    "  F1 = $\\frac{2 * Precision * Recall}{Precision + Recall}$ </br>\n",
    "  This metric balances the importance of precision and recall, and is preferable to accuracy for class-imbalanced datasets"
   ]
  },
  {
   "cell_type": "code",
   "execution_count": 8,
   "id": "c5780839-da29-4bd0-b0e3-0bc673748898",
   "metadata": {},
   "outputs": [
    {
     "name": "stdout",
     "output_type": "stream",
     "text": [
      "              precision    recall  f1-score   support\n",
      "\n",
      "          No       0.98      1.00      0.98      9667\n",
      "         Yes       0.65      0.26      0.37       333\n",
      "\n",
      "    accuracy                           0.97     10000\n",
      "   macro avg       0.81      0.63      0.68     10000\n",
      "weighted avg       0.96      0.97      0.96     10000\n",
      "\n"
     ]
    }
   ],
   "source": [
    "print(classification_report(df['default'], y_pred))"
   ]
  },
  {
   "cell_type": "markdown",
   "id": "c11c3d33-ae7a-42ec-96a6-53df44fdb29c",
   "metadata": {},
   "source": [
    "## LDA (Linear Discriminant Analysis)   \n",
    "- If we assume that X's follow a multivariate Gaussian distribution (with a class-specific mean vector and a common variance matrix). then the model that we get is called LDA.\n",
    "- With above assumption and some manipulation we get\n",
    "  $δ_k(x) = x^TΣ^{−1}μ_k − \\frac{1}{2}μ^{T}_kΣ^{−1}μ_k + log π_k$ </br>\n",
    "  We assign class k for which $δ_k$ is the largest. $δ_k$ is also called the `discriminant` function and $δ_k$ is linear in x and hence the name LDA.\n",
    "- If class has its own covariance matrix then we get `QDA (Quadratic Discriminant Analysis)`."
   ]
  },
  {
   "cell_type": "code",
   "execution_count": 9,
   "id": "3adbddf7-22c8-454f-b56d-c82d175b9d6f",
   "metadata": {},
   "outputs": [],
   "source": [
    "## Implement LDA on Default dataset\n",
    "from sklearn.discriminant_analysis import LinearDiscriminantAnalysis"
   ]
  }
 ],
 "metadata": {
  "kernelspec": {
   "display_name": "Python 3 (ipykernel)",
   "language": "python",
   "name": "python3"
  },
  "language_info": {
   "codemirror_mode": {
    "name": "ipython",
    "version": 3
   },
   "file_extension": ".py",
   "mimetype": "text/x-python",
   "name": "python",
   "nbconvert_exporter": "python",
   "pygments_lexer": "ipython3",
   "version": "3.12.1"
  }
 },
 "nbformat": 4,
 "nbformat_minor": 5
}
