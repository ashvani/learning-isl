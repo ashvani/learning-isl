{
 "cells": [
  {
   "cell_type": "code",
   "execution_count": 1,
   "id": "6fed8578-5da4-465c-a902-4ed71b0fbcef",
   "metadata": {},
   "outputs": [],
   "source": [
    "import pandas as pd\n",
    "from sklearn.pipeline import Pipeline\n",
    "from sklearn.model_selection import train_test_split\n",
    "from sklearn.svm import SVC\n",
    "from sklearn.ensemble import RandomForestClassifier\n",
    "from sklearn.neighbors import KNeighborsClassifier\n",
    "from sklearn.linear_model import LogisticRegression\n",
    "from sklearn.feature_extraction.text import TfidfVectorizer, CountVectorizer, TfidfTransformer\n",
    "from sklearn.tree import DecisionTreeClassifier\n",
    "from sklearn.model_selection import GridSearchCV"
   ]
  },
  {
   "cell_type": "code",
   "execution_count": 2,
   "id": "18fedfe8-62f4-488a-bf3d-3d7a4f0a836b",
   "metadata": {},
   "outputs": [],
   "source": [
    "df_train = pd.read_csv('ag_news_train.csv')\n",
    "df_test = pd.read_csv('ag_news_test.csv')"
   ]
  },
  {
   "cell_type": "code",
   "execution_count": 3,
   "id": "a08b55d8-bd33-47b2-806b-27e8ab96d72c",
   "metadata": {},
   "outputs": [
    {
     "data": {
      "text/html": [
       "<div>\n",
       "<style scoped>\n",
       "    .dataframe tbody tr th:only-of-type {\n",
       "        vertical-align: middle;\n",
       "    }\n",
       "\n",
       "    .dataframe tbody tr th {\n",
       "        vertical-align: top;\n",
       "    }\n",
       "\n",
       "    .dataframe thead th {\n",
       "        text-align: right;\n",
       "    }\n",
       "</style>\n",
       "<table border=\"1\" class=\"dataframe\">\n",
       "  <thead>\n",
       "    <tr style=\"text-align: right;\">\n",
       "      <th></th>\n",
       "      <th>Class Index</th>\n",
       "      <th>Title</th>\n",
       "      <th>Description</th>\n",
       "      <th>text</th>\n",
       "    </tr>\n",
       "  </thead>\n",
       "  <tbody>\n",
       "    <tr>\n",
       "      <th>0</th>\n",
       "      <td>3</td>\n",
       "      <td>Wall St. Bears Claw Back Into the Black (Reuters)</td>\n",
       "      <td>Reuters - Short-sellers, Wall Street's dwindli...</td>\n",
       "      <td>Wall St. Bears Claw Back Into the Black (Reute...</td>\n",
       "    </tr>\n",
       "    <tr>\n",
       "      <th>1</th>\n",
       "      <td>3</td>\n",
       "      <td>Carlyle Looks Toward Commercial Aerospace (Reu...</td>\n",
       "      <td>Reuters - Private investment firm Carlyle Grou...</td>\n",
       "      <td>Carlyle Looks Toward Commercial Aerospace (Reu...</td>\n",
       "    </tr>\n",
       "    <tr>\n",
       "      <th>2</th>\n",
       "      <td>3</td>\n",
       "      <td>Oil and Economy Cloud Stocks' Outlook (Reuters)</td>\n",
       "      <td>Reuters - Soaring crude prices plus worries\\ab...</td>\n",
       "      <td>Oil and Economy Cloud Stocks' Outlook (Reuters...</td>\n",
       "    </tr>\n",
       "    <tr>\n",
       "      <th>3</th>\n",
       "      <td>3</td>\n",
       "      <td>Iraq Halts Oil Exports from Main Southern Pipe...</td>\n",
       "      <td>Reuters - Authorities have halted oil export\\f...</td>\n",
       "      <td>Iraq Halts Oil Exports from Main Southern Pipe...</td>\n",
       "    </tr>\n",
       "    <tr>\n",
       "      <th>4</th>\n",
       "      <td>3</td>\n",
       "      <td>Oil prices soar to all-time record, posing new...</td>\n",
       "      <td>AFP - Tearaway world oil prices, toppling reco...</td>\n",
       "      <td>Oil prices soar to all-time record, posing new...</td>\n",
       "    </tr>\n",
       "  </tbody>\n",
       "</table>\n",
       "</div>"
      ],
      "text/plain": [
       "   Class Index                                              Title  \\\n",
       "0            3  Wall St. Bears Claw Back Into the Black (Reuters)   \n",
       "1            3  Carlyle Looks Toward Commercial Aerospace (Reu...   \n",
       "2            3    Oil and Economy Cloud Stocks' Outlook (Reuters)   \n",
       "3            3  Iraq Halts Oil Exports from Main Southern Pipe...   \n",
       "4            3  Oil prices soar to all-time record, posing new...   \n",
       "\n",
       "                                         Description  \\\n",
       "0  Reuters - Short-sellers, Wall Street's dwindli...   \n",
       "1  Reuters - Private investment firm Carlyle Grou...   \n",
       "2  Reuters - Soaring crude prices plus worries\\ab...   \n",
       "3  Reuters - Authorities have halted oil export\\f...   \n",
       "4  AFP - Tearaway world oil prices, toppling reco...   \n",
       "\n",
       "                                                text  \n",
       "0  Wall St. Bears Claw Back Into the Black (Reute...  \n",
       "1  Carlyle Looks Toward Commercial Aerospace (Reu...  \n",
       "2  Oil and Economy Cloud Stocks' Outlook (Reuters...  \n",
       "3  Iraq Halts Oil Exports from Main Southern Pipe...  \n",
       "4  Oil prices soar to all-time record, posing new...  "
      ]
     },
     "execution_count": 3,
     "metadata": {},
     "output_type": "execute_result"
    }
   ],
   "source": [
    "df_train['text'] = df_train['Title'] + ' ' + df_train['Description']\n",
    "df_train.head()"
   ]
  },
  {
   "cell_type": "code",
   "execution_count": null,
   "id": "2d5819c2-4b25-4523-9366-de85949fe161",
   "metadata": {},
   "outputs": [],
   "source": []
  },
  {
   "cell_type": "markdown",
   "id": "d2042c35-9ca5-4fbc-b38f-e577f89a463e",
   "metadata": {},
   "source": [
    "## Text Feature Representation  \n"
   ]
  },
  {
   "cell_type": "code",
   "execution_count": null,
   "id": "21c37c5b-e69d-4129-ab9c-4590e8bffea9",
   "metadata": {},
   "outputs": [],
   "source": []
  },
  {
   "cell_type": "code",
   "execution_count": null,
   "id": "a8459fee-b575-44d8-b9ed-c83551e2a513",
   "metadata": {},
   "outputs": [],
   "source": [
    "vectorizer = CountVectorizer()"
   ]
  },
  {
   "cell_type": "code",
   "execution_count": null,
   "id": "a264932d-77a7-4d6b-ba85-00cbf8af6b8a",
   "metadata": {},
   "outputs": [],
   "source": [
    "texts = [\n",
    "    'This is the first document.',\n",
    "    'This is the second second document.',\n",
    "    'And the third one.',\n",
    "    'Is this the first document?',\n",
    "]\n",
    "X = vectorizer.fit_transform(texts)\n",
    "X"
   ]
  },
  {
   "cell_type": "code",
   "execution_count": null,
   "id": "3ae57229-28c9-40b5-8752-b5fdd0f4cddb",
   "metadata": {},
   "outputs": [],
   "source": [
    "analyze = vectorizer.build_analyzer()\n",
    "analyze(\"This is a text document to analyze.\")"
   ]
  },
  {
   "cell_type": "code",
   "execution_count": null,
   "id": "ed606615-c892-4ed4-8f21-d37bead44e39",
   "metadata": {},
   "outputs": [],
   "source": [
    "print(vectorizer.get_feature_names_out())\n",
    "\n",
    "X.toarray()"
   ]
  },
  {
   "cell_type": "code",
   "execution_count": null,
   "id": "607718ed-5bc2-405b-9b1c-3d477586b636",
   "metadata": {},
   "outputs": [],
   "source": [
    "vectorizer.vocabulary_.get('first')"
   ]
  },
  {
   "cell_type": "code",
   "execution_count": null,
   "id": "9f72b93f-9d3a-43b3-9220-94ac9ec80f9a",
   "metadata": {},
   "outputs": [],
   "source": [
    "vectorizer.transform(['Something completely new.']).toarray()"
   ]
  },
  {
   "cell_type": "markdown",
   "id": "b9844cb9-9d6a-4c78-8f0c-ad2cdcc47200",
   "metadata": {},
   "source": [
    "## Tf-idf   \n",
    "- In a large text corpus, some words will be very present (e.g. “the”, “a”, “is” in English) hence carrying very little meaningful information about the actual contents of the document\n",
    "- In order to re-weight the count features into floating point values suitable for usage by a classifier it is very common to use the tf–idf transform\n",
    "- Tf means term-frequency while tf–idf means term-frequency times inverse document-frequency </br>\n",
    "    tf-idf(t, d) = tf(t, d) * idf(t)"
   ]
  },
  {
   "cell_type": "code",
   "execution_count": null,
   "id": "5477cfe4-cccd-4f34-b610-135a3f4fcc70",
   "metadata": {},
   "outputs": [],
   "source": []
  },
  {
   "cell_type": "code",
   "execution_count": null,
   "id": "4dfa3aa1-d3e6-40e5-af68-f592d2a910e0",
   "metadata": {},
   "outputs": [],
   "source": [
    "normalizer = TfidfTransformer()\n",
    "X = normalizer.fit_transform(X)"
   ]
  },
  {
   "cell_type": "code",
   "execution_count": null,
   "id": "b3f8694a-b7b5-490a-9d9a-7c0f484a92d3",
   "metadata": {},
   "outputs": [],
   "source": [
    "X.toarray()"
   ]
  },
  {
   "cell_type": "code",
   "execution_count": null,
   "id": "a3195351-cd6a-46ca-b655-2da2ca2e7f84",
   "metadata": {},
   "outputs": [],
   "source": [
    "normalizer = TfidfVectorizer()\n",
    "X = normalizer.fit_transform(texts)"
   ]
  },
  {
   "cell_type": "code",
   "execution_count": null,
   "id": "3d1358d5-7b76-4938-9300-0cb645c3d677",
   "metadata": {},
   "outputs": [],
   "source": [
    "X.toarray()"
   ]
  },
  {
   "cell_type": "code",
   "execution_count": null,
   "id": "75086ea7-e576-416a-a46d-565df0fa1cf4",
   "metadata": {},
   "outputs": [],
   "source": [
    "normalizer.get_feature_names_out()"
   ]
  },
  {
   "cell_type": "code",
   "execution_count": null,
   "id": "163e2274-a675-46ed-a4d1-994e1c687c32",
   "metadata": {},
   "outputs": [],
   "source": []
  },
  {
   "cell_type": "code",
   "execution_count": null,
   "id": "703a8f86-6c7f-4517-8c4f-c529f193951c",
   "metadata": {},
   "outputs": [],
   "source": [
    "X_train, X_test, y_train, y_test = train_test_split(df_train['text'], df_train['Class Index'], test_size = 70000)"
   ]
  },
  {
   "cell_type": "code",
   "execution_count": null,
   "id": "84046303-e6f3-42ce-ac13-8a9ab34cb4d2",
   "metadata": {},
   "outputs": [],
   "source": [
    "normalizer = TfidfVectorizer()\n",
    "X_train = normalizer.fit_transform(X_train)\n",
    "X_test = normalizer.transform(X_test)"
   ]
  },
  {
   "cell_type": "markdown",
   "id": "a04dd10b-fb65-4b10-982d-b8a25723c85c",
   "metadata": {},
   "source": [
    "## 2 Model Training\n",
    "### 2.1 Logistic Regression"
   ]
  },
  {
   "cell_type": "code",
   "execution_count": null,
   "id": "2a1d75d2-3aba-4ec2-ac7e-e5e509e32032",
   "metadata": {},
   "outputs": [],
   "source": [
    "clf = LogisticRegression()\n",
    "clf = clf.fit(X_train, y_train)"
   ]
  },
  {
   "cell_type": "code",
   "execution_count": null,
   "id": "122e482d-28bf-49b6-bdb8-6d1236492d40",
   "metadata": {},
   "outputs": [],
   "source": [
    "clf.score(X_test, y_test)"
   ]
  },
  {
   "cell_type": "markdown",
   "id": "74341ba1-a288-47a2-ae54-7da214049cde",
   "metadata": {},
   "source": [
    "### 2.2 KNN"
   ]
  },
  {
   "cell_type": "code",
   "execution_count": null,
   "id": "1a549de7-44f4-4408-bcf9-8d5fd0d015bd",
   "metadata": {},
   "outputs": [],
   "source": [
    "parameters = {'n_neighbors': [1, 5, 9, 13, 17, 21]}"
   ]
  },
  {
   "cell_type": "code",
   "execution_count": null,
   "id": "72c45065-e5ba-492f-af10-783e8b9cedf8",
   "metadata": {},
   "outputs": [],
   "source": [
    "clf = GridSearchCV(KNeighborsClassifier(), parameters, verbose=5)"
   ]
  },
  {
   "cell_type": "code",
   "execution_count": null,
   "id": "f0ec4022-833f-4f2c-b414-fd07a451d5e3",
   "metadata": {},
   "outputs": [],
   "source": [
    "clf = clf.fit(X_train, y_train)"
   ]
  },
  {
   "cell_type": "code",
   "execution_count": null,
   "id": "3d590ae6-1f00-420b-9d40-3d0812e2082c",
   "metadata": {},
   "outputs": [],
   "source": [
    "clf.score(X_test, y_test)"
   ]
  },
  {
   "cell_type": "markdown",
   "id": "50d8df0d-a191-45ba-afa7-be7c937d580e",
   "metadata": {},
   "source": [
    "### 2.3 Decision Tree"
   ]
  },
  {
   "cell_type": "code",
   "execution_count": null,
   "id": "84607573-7bfc-499c-aed8-4cc5478b1d7c",
   "metadata": {},
   "outputs": [],
   "source": [
    "parameters = {'min_samples_split': [2, 10, 20, 50],\n",
    "              'max_features': [100, 1000, 10000, 50000]\n",
    "             }\n",
    "clf = GridSearchCV(DecisionTreeClassifier(), parameters, verbose = 5)\n",
    "clf = clf.fit(X_train, y_train)"
   ]
  },
  {
   "cell_type": "code",
   "execution_count": null,
   "id": "9b1a9b1e-b251-4515-b160-71c0a786a29a",
   "metadata": {},
   "outputs": [],
   "source": [
    "print(clf.best_estimator_)\n",
    "print(clf.best_params_)\n",
    "print(clf.best_score_)"
   ]
  },
  {
   "cell_type": "code",
   "execution_count": null,
   "id": "c88cec23-7ee4-42d7-ad4d-ec66c014a60e",
   "metadata": {},
   "outputs": [],
   "source": [
    "## Default Decision Tree\n",
    "clf = DecisionTreeClassifier()\n",
    "clf = clf.fit(X_train, y_train)"
   ]
  },
  {
   "cell_type": "code",
   "execution_count": null,
   "id": "81ae7e81-ea92-4428-bb73-ee112e457125",
   "metadata": {},
   "outputs": [],
   "source": [
    "print(clf.score(X_train, y_train))\n",
    "print(clf.score(X_test, y_test))"
   ]
  },
  {
   "cell_type": "markdown",
   "id": "268da399-8ec1-4aaf-9969-828871a42a68",
   "metadata": {},
   "source": [
    "### 2.4 SVM"
   ]
  },
  {
   "cell_type": "code",
   "execution_count": null,
   "id": "fb9f3f43-3d78-4c61-aa73-606e9ca3beeb",
   "metadata": {},
   "outputs": [],
   "source": [
    "normalizer = TfidfVectorizer(max_features = 2000)\n",
    "X_train = normalizer.fit_transform(X_train)\n",
    "X_test = normalizer.transform(X_test)"
   ]
  },
  {
   "cell_type": "code",
   "execution_count": null,
   "id": "d830cdac-4d22-4bfd-a65b-95dab88b387b",
   "metadata": {},
   "outputs": [],
   "source": [
    "parameters = {'C': [10, 100, 500, 1000],\n",
    "              'gamma': [0.001, 0.01, 0.1, 1, 10]\n",
    "             }\n",
    "clf = GridSearchCV(SVC(), parameters, verbose = 5)\n",
    "clf = clf.fit(X_train, y_train)"
   ]
  },
  {
   "cell_type": "markdown",
   "id": "f2193219-2c8c-427b-8369-ab807965bf7a",
   "metadata": {},
   "source": [
    "### 2.5 Random Forest"
   ]
  },
  {
   "cell_type": "code",
   "execution_count": null,
   "id": "5eb5fe59-8ee2-471e-a965-a50a8cec0966",
   "metadata": {},
   "outputs": [],
   "source": [
    "X_train, X_test, y_train, y_test = train_test_split(df_train['text'], df_train['Class Index'], test_size = .3)\n",
    "normalizer = TfidfVectorizer(max_features = 20000)\n",
    "X_train = normalizer.fit_transform(X_train)\n",
    "X_test = normalizer.transform(X_test)"
   ]
  },
  {
   "cell_type": "code",
   "execution_count": null,
   "id": "cb79f289-b9b6-4013-8d26-359c12de1f84",
   "metadata": {},
   "outputs": [],
   "source": [
    "parameters = {'n_estimators': [10, 50, 100, 200],\n",
    "              'min_samples_split': [2, 10, 50],\n",
    "              'max_features': [\"sqrt\", 10, 100, 200]\n",
    "             }\n",
    "clf = GridSearchCV(RandomForestClassifier(), parameters, verbose = 5)\n",
    "clf = clf.fit(X_train, y_train)"
   ]
  },
  {
   "cell_type": "markdown",
   "id": "5d8bbab4-c8f1-45ca-8b56-5fcd633450ba",
   "metadata": {},
   "source": [
    "### 2.6 Parallel Processing"
   ]
  },
  {
   "cell_type": "code",
   "execution_count": null,
   "id": "5fa9f270-5c89-4e95-abed-88d0df823d6d",
   "metadata": {},
   "outputs": [],
   "source": [
    "parameters = {'n_estimators': [10, 50, 100, 200],\n",
    "              'min_samples_split': [2, 10, 50],\n",
    "              'max_features': [\"sqrt\", 10, 100, 200]\n",
    "             }\n",
    "clf = GridSearchCV(RandomForestClassifier(), parameters, verbose = 5, n_jobs = -1)\n",
    "clf = clf.fit(X_train, y_train)"
   ]
  },
  {
   "cell_type": "markdown",
   "id": "73f1525b-ea11-4b8c-a330-802fe83cfefe",
   "metadata": {},
   "source": [
    "## 3. Using Pipeline  \n",
    "- Pipeline allows you to sequentially apply a list of transformers to preprocess the data and, if desired, conclude the sequence with a final predictor for predictive modeling\n",
    "- Intermediate steps of the pipeline must be ‘transforms’, that is, they must implement fit and transform methods\n",
    "- The final estimator only needs to implement fit\n",
    "- The purpose of the pipeline is to assemble several steps that can be cross-validated together while setting different parameters"
   ]
  },
  {
   "cell_type": "code",
   "execution_count": null,
   "id": "df22043a-e173-4436-abcd-0d3b02523b85",
   "metadata": {},
   "outputs": [],
   "source": [
    "from sklearn.pipeline import Pipeline"
   ]
  },
  {
   "cell_type": "code",
   "execution_count": null,
   "id": "ccb031eb-2d72-4ab0-9f12-3646f5c4ed81",
   "metadata": {},
   "outputs": [],
   "source": [
    "X_train, X_test, y_train, y_test = train_test_split(df_train['text'], df_train['Class Index'], test_size = .80)\n",
    "clf = Pipeline([('vectorizer', TfidfVectorizer(max_features = 1000)),\n",
    "                ('classifier', RandomForestClassifier())\n",
    "               ])"
   ]
  },
  {
   "cell_type": "code",
   "execution_count": null,
   "id": "1c954b3c-faaf-4ab5-a1b6-f107ccb82f7b",
   "metadata": {},
   "outputs": [],
   "source": [
    "clf = clf.fit(X_train, y_train)"
   ]
  },
  {
   "cell_type": "code",
   "execution_count": null,
   "id": "77b3bd8d-de43-4789-9272-24be5b2035f8",
   "metadata": {},
   "outputs": [],
   "source": [
    "print(clf.score(X_train, y_train))\n",
    "print(clf.score(X_test, y_test))"
   ]
  },
  {
   "cell_type": "code",
   "execution_count": null,
   "id": "817085c8-b654-4eef-bc2a-a0baf28fc2f5",
   "metadata": {},
   "outputs": [],
   "source": []
  },
  {
   "cell_type": "markdown",
   "id": "d5c328ab-85bb-4ff3-9dac-4bf59bf0a73d",
   "metadata": {},
   "source": [
    "### 3.1 Grid Search on pipeline"
   ]
  },
  {
   "cell_type": "code",
   "execution_count": null,
   "id": "cba071e1-f110-4162-86c8-f76809b68fea",
   "metadata": {},
   "outputs": [],
   "source": [
    "X_train, X_test, y_train, y_test = train_test_split(df_train['text'], df_train['Class Index'], test_size = .80)\n",
    "clf = Pipeline([('vectorizer', TfidfVectorizer(max_features = 1000, )),\n",
    "                ('classifier', RandomForestClassifier())\n",
    "               ])\n",
    "\n",
    "\n",
    "param_grid = [{\n",
    "    'vectorizer__max_features': [500, 1000],\n",
    "    'classifier__n_estimators': [20, 50, 100],\n",
    "    'classifier__min_samples_split': [2, 10, 20]\n",
    "}, {\n",
    "    'vectorizer__max_features': [500, 1000],\n",
    "    'vectorizer__ngram_range': [(1, 2)],\n",
    "    'classifier__n_estimators': [20, 50, 100],\n",
    "    'classifier__min_samples_split': [2, 10, 20]\n",
    "}]"
   ]
  },
  {
   "cell_type": "code",
   "execution_count": null,
   "id": "bad775fb-5fb3-48e7-9fbd-dc46b27a781b",
   "metadata": {},
   "outputs": [],
   "source": [
    "grid_search = GridSearchCV(clf, param_grid, verbose = 5)\n",
    "grid_search = grid_search.fit(X_train, y_train)"
   ]
  },
  {
   "cell_type": "markdown",
   "id": "cf5b7b9a-199f-4283-8509-a83a999a1261",
   "metadata": {},
   "source": [
    "## 4. Using model in production"
   ]
  },
  {
   "cell_type": "code",
   "execution_count": 4,
   "id": "391ea11e-5ffe-4945-bd32-ea42f85b0577",
   "metadata": {},
   "outputs": [],
   "source": [
    "X_train, X_test, y_train, y_test = train_test_split(df_train['text'], df_train['Class Index'], test_size = .80)\n",
    "clf = Pipeline([('vectorizer', TfidfVectorizer(max_features = 1000)),\n",
    "                ('classifier', RandomForestClassifier())\n",
    "               ])\n",
    "clf = clf.fit(X_train, y_train)"
   ]
  },
  {
   "cell_type": "code",
   "execution_count": 5,
   "id": "b9cb70f5-af93-4df5-af36-9fa676322df8",
   "metadata": {},
   "outputs": [],
   "source": [
    "import joblib"
   ]
  },
  {
   "cell_type": "code",
   "execution_count": 6,
   "id": "c15add33-d9c0-4f62-b023-ea3fdb3e8436",
   "metadata": {},
   "outputs": [
    {
     "data": {
      "text/plain": [
       "['rf_model']"
      ]
     },
     "execution_count": 6,
     "metadata": {},
     "output_type": "execute_result"
    }
   ],
   "source": [
    "joblib.dump(clf, 'rf_model')"
   ]
  },
  {
   "cell_type": "code",
   "execution_count": 7,
   "id": "b31fbaf2-e901-416c-9fd7-9268676d0e54",
   "metadata": {},
   "outputs": [
    {
     "data": {
      "text/plain": [
       "array([1, 4, 4, ..., 2, 4, 4], dtype=int64)"
      ]
     },
     "execution_count": 7,
     "metadata": {},
     "output_type": "execute_result"
    }
   ],
   "source": [
    "model = joblib.load('rf_model')\n",
    "df_test['text'] = df_test['Title'] + ' ' + df_test['Description']\n",
    "model.predict(df_test['text'])"
   ]
  },
  {
   "cell_type": "code",
   "execution_count": null,
   "id": "26ac7e35-6bed-4bbb-9b31-e1e9edbb2304",
   "metadata": {},
   "outputs": [],
   "source": []
  }
 ],
 "metadata": {
  "kernelspec": {
   "display_name": "Python 3 (ipykernel)",
   "language": "python",
   "name": "python3"
  },
  "language_info": {
   "codemirror_mode": {
    "name": "ipython",
    "version": 3
   },
   "file_extension": ".py",
   "mimetype": "text/x-python",
   "name": "python",
   "nbconvert_exporter": "python",
   "pygments_lexer": "ipython3",
   "version": "3.12.1"
  }
 },
 "nbformat": 4,
 "nbformat_minor": 5
}
