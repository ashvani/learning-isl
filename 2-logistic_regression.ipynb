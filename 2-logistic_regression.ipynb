{
 "cells": [
  {
   "cell_type": "markdown",
   "id": "826b840c-d21c-4f6a-9f12-1960fa076356",
   "metadata": {},
   "source": [
    "## 1. Default Dataset   \n"
   ]
  },
  {
   "cell_type": "code",
   "execution_count": null,
   "id": "29be14bc-6fe2-4aa7-8169-e5d62ae6a948",
   "metadata": {},
   "outputs": [],
   "source": [
    "import pandas as pd  \n",
    "import numpy as np\n",
    "from sklearn.linear_model import LogisticRegression\n",
    "import statsmodels.api as sm\n",
    "import matplotlib.pyplot as plt\n",
    "from sklearn.model_selection import train_test_split"
   ]
  },
  {
   "cell_type": "code",
   "execution_count": null,
   "id": "61e9d356-d1e0-46f5-8ef8-073980689c92",
   "metadata": {},
   "outputs": [],
   "source": [
    "df = pd.read_csv(r'Default.csv')\n",
    "df.shape"
   ]
  },
  {
   "cell_type": "code",
   "execution_count": null,
   "id": "03a9fa45-6200-4523-bf20-3ec88589444a",
   "metadata": {},
   "outputs": [],
   "source": [
    "df.head()"
   ]
  },
  {
   "cell_type": "code",
   "execution_count": null,
   "id": "ca0ace9b-3c97-4544-80ac-0b47557109ed",
   "metadata": {},
   "outputs": [],
   "source": [
    "## frequency distribution of 'default' and 'student' columns?"
   ]
  },
  {
   "cell_type": "code",
   "execution_count": null,
   "id": "fd9766e7-88c8-460c-ad71-84551458b85e",
   "metadata": {},
   "outputs": [],
   "source": [
    "df_default_no = df[df['default'] == 'No'].sample(frac = .10) ## 10% samples when default is no\n",
    "df_default_yes = df[df['default'] == 'Yes']"
   ]
  },
  {
   "cell_type": "code",
   "execution_count": null,
   "id": "772e5ba7-2a11-44ab-b993-68580d9a23a7",
   "metadata": {},
   "outputs": [],
   "source": [
    "## Plot of Balance vs Income for each classes\n",
    "plt.scatter(df_default_no['balance'], df_default_no['income'], marker = 'o', color = 'lightblue')\n",
    "plt.scatter(df_default_yes['balance'], df_default_yes['income'], marker = '+', color = 'orange')\n",
    "plt.xlabel('Balance')\n",
    "plt.ylabel('Income')\n",
    "plt.show()"
   ]
  },
  {
   "cell_type": "code",
   "execution_count": null,
   "id": "4e930d6a-2da8-4490-84c5-18ebf496d5cb",
   "metadata": {},
   "outputs": [],
   "source": [
    "balance_yes = df[df['default'] == 'Yes']['balance'].tolist()\n",
    "balance_no = df[df['default'] == 'No']['balance'].tolist()\n",
    "income_yes = df[df['default'] == 'Yes']['income'].tolist()\n",
    "income_no = df[df['default'] == 'No']['income'].tolist()\n",
    "tick_labels= ['No', 'Yes']\n",
    "colors = ['lightblue', 'orange']"
   ]
  },
  {
   "cell_type": "code",
   "execution_count": null,
   "id": "574803ee-066c-4eb1-9763-d453ccd0c9ca",
   "metadata": {},
   "outputs": [],
   "source": []
  },
  {
   "cell_type": "code",
   "execution_count": null,
   "id": "425d19d5-f7e1-428c-87a6-2003a5c582ca",
   "metadata": {},
   "outputs": [],
   "source": [
    "fig, ax = plt.subplots(1, 2)\n",
    "bplot = ax[0].boxplot([balance_no, balance_yes], labels=tick_labels, patch_artist=True)\n",
    "# fill with colors\n",
    "for patch, color in zip(bplot['boxes'], colors):\n",
    "    patch.set_facecolor(color)\n",
    "ax[0].set_xlabel('Default')\n",
    "ax[0].set_ylabel('Balance')\n",
    "bplot = ax[1].boxplot([income_no, income_yes], labels=tick_labels, patch_artist=True)\n",
    "for patch, color in zip(bplot['boxes'], colors):\n",
    "    patch.set_facecolor(color)\n",
    "ax[1].set_xlabel('Default')\n",
    "ax[1].set_ylabel('Income')\n",
    "fig.subplots_adjust(hspace=0.4, wspace=0.4)\n",
    "plt.show()"
   ]
  },
  {
   "cell_type": "markdown",
   "id": "937edc13-be79-4308-b26b-6e6ed24ad855",
   "metadata": {},
   "source": [
    "## 2. Logistic Regression  \n",
    "- p(balance) = Probability (default = Yes | balance) = $\\beta_0 + \\beta_1 * balance$\n",
    "- More general p(X) = $\\beta_0 + \\beta_1 * X$. "
   ]
  },
  {
   "cell_type": "code",
   "execution_count": null,
   "id": "a61c1217-aaf4-4b95-bf68-22ac59d61d01",
   "metadata": {},
   "outputs": [],
   "source": [
    "# Factorize the categorical variables\n"
   ]
  },
  {
   "cell_type": "code",
   "execution_count": null,
   "id": "424d4ec7-4336-411d-bda9-c49b3df3f779",
   "metadata": {},
   "outputs": [],
   "source": [
    "from sklearn.linear_model import LinearRegression\n",
    "X = df['balance'].array.reshape(-1, 1)\n",
    "model = LinearRegression()\n",
    "model.fit(X, df['default'])"
   ]
  },
  {
   "cell_type": "code",
   "execution_count": null,
   "id": "0fb6923f-405f-4d8c-a142-961f13e35ebd",
   "metadata": {},
   "outputs": [],
   "source": [
    "plt.scatter(df['balance'], df['default'], color = 'orange')\n",
    "plt.plot(df['balance'], model.predict(X), color='lightblue')\n",
    "plt.hlines(1, df['balance'].min(), df['balance'].max(), linestyles = 'dashed')\n",
    "plt.hlines(0, df['balance'].min(), df['balance'].max(), linestyles = 'dashed')\n",
    "plt.xlabel('Balance')\n",
    "plt.ylabel('Probability of Default')\n",
    "plt.show()"
   ]
  },
  {
   "cell_type": "markdown",
   "id": "628ed99b-a3d8-4530-9789-72a3bce605e9",
   "metadata": {},
   "source": [
    "- For balances close to zero we predict a negative probability of default, which is not sensible.\n",
    "- For large balances, we would get probability greater than 1.\n",
    "- Probability of default should fall between 0 and 1.\n",
    "- We should find a function which will always evaluate right side of the equation between 0 and 1.\n",
    "- One such function is logistic function (sigmoid) function. $\\sigma(x) = \\frac{e^x}{1 + e^x}$ "
   ]
  },
  {
   "cell_type": "code",
   "execution_count": null,
   "id": "45ec82f3-e549-41ec-b879-27b655e9414c",
   "metadata": {},
   "outputs": [],
   "source": [
    "## plot the sigmoid function"
   ]
  },
  {
   "cell_type": "markdown",
   "id": "95569562-38f9-4722-abd3-5340d81d6ea9",
   "metadata": {},
   "source": [
    "- Always lies between 0 and 1.\n",
    "- $\\sigma(0) = \\frac{1}{2}$\n",
    "- Hence $p(X) = \\frac{e^{\\beta_0 + \\beta_1 X}}{1 + e^{\\beta_0 + \\beta_1 X}}$\n",
    "- After a bit of manipulation $\\frac{p(X)}{1 - p(X)} = e^{\\beta_0 + \\beta_1 X}$\n",
    "- The quantity $\\frac{p}{1-p}$ is called `odds (odds ratio)`\n",
    "- Taking log of both sides in point 4 gives ........$log(\\frac{p(X)}{1 - p(X)}) = \\beta_0 + \\beta_1 X$\n",
    "- Left hand side is called `log odds` or `logit`\n",
    "- Parameters are estimated by maximizing likelihood  "
   ]
  },
  {
   "cell_type": "code",
   "execution_count": null,
   "id": "8bd71bf2-3097-46ef-9d53-8c3a55d6741e",
   "metadata": {},
   "outputs": [],
   "source": [
    "clf = LogisticRegression(solver='newton-cg')\n",
    "clf.fit(X,df['default'])\n",
    "print(clf)\n",
    "print('classes: ',clf.classes_)\n",
    "print('coefficients: ',clf.coef_)\n",
    "print('intercept :', clf.intercept_)"
   ]
  },
  {
   "cell_type": "code",
   "execution_count": null,
   "id": "addff3b0-e5d8-480b-9432-12da0bb25f86",
   "metadata": {},
   "outputs": [],
   "source": [
    "## Using Statsmodels library\n",
    "X_train = sm.add_constant(df['balance'])\n",
    "model = sm.Logit(df['default'], X_train).fit()\n",
    "print(model.summary2().tables[1])"
   ]
  },
  {
   "cell_type": "code",
   "execution_count": null,
   "id": "f5ef260c-5a2b-4864-92a6-c6b5676cd2b9",
   "metadata": {},
   "outputs": [],
   "source": [
    "## what is the prediction when balance = 1, 10, 100 & 1000$ and does it make sense?\n"
   ]
  },
  {
   "cell_type": "code",
   "execution_count": null,
   "id": "b68be18e-302d-4710-a175-dee0d2fb0419",
   "metadata": {},
   "outputs": [],
   "source": [
    "## Using 'Student' variable\n",
    "X_train = sm.add_constant(df['student'])\n",
    "model = sm.Logit(df['default'], X_train).fit()\n",
    "print(model.summary2().tables[1])"
   ]
  },
  {
   "cell_type": "code",
   "execution_count": null,
   "id": "55b9e84c-2a3f-4e1f-93c1-485c783f9b86",
   "metadata": {},
   "outputs": [],
   "source": [
    "## Prediction when the person is student or not?\n"
   ]
  },
  {
   "cell_type": "markdown",
   "id": "ff0a21b0-3547-4dbb-a3ff-7aee49ea9e5b",
   "metadata": {},
   "source": [
    "## 3. Multiple Logistic Regression   \n",
    "- $log(\\frac{p(X)}{1 - p(X)}) = \\beta_0 + \\beta_1 X_1 + \\beta_2 X_2 + ... + \\beta_p X_p$"
   ]
  },
  {
   "cell_type": "code",
   "execution_count": null,
   "id": "978c15eb-4bd1-44e2-a4af-68b893997e55",
   "metadata": {},
   "outputs": [],
   "source": [
    "X_train = sm.add_constant(df[['balance', 'income', 'student']])\n",
    "model = sm.Logit(df['default'], X_train).fit()\n",
    "model.summary2().tables[1]"
   ]
  },
  {
   "cell_type": "markdown",
   "id": "98ded309-dc8a-43f3-9f5e-2f876279a4db",
   "metadata": {},
   "source": [
    "- There is surprising outcome regarding coef of student"
   ]
  },
  {
   "cell_type": "code",
   "execution_count": null,
   "id": "00ee484d-1dd0-4186-a88f-f7fa1dd10667",
   "metadata": {},
   "outputs": [],
   "source": [
    "pd.crosstab(df['student'], df['default'])"
   ]
  },
  {
   "cell_type": "code",
   "execution_count": null,
   "id": "6e53f92e-364a-414d-8f7e-33e50c4228a5",
   "metadata": {},
   "outputs": [],
   "source": [
    "df1 = df[df['student'] == 1]\n",
    "df2 = df[df['student'] == 0]"
   ]
  },
  {
   "cell_type": "code",
   "execution_count": null,
   "id": "d27d5651-c6b1-411c-8945-f428651c17e9",
   "metadata": {},
   "outputs": [],
   "source": [
    "model1 = LogisticRegression(solver = 'newton-cg')\n",
    "model1.fit(df1['balance'].values.reshape(-1, 1), df1['default'])\n",
    "model2 = LogisticRegression(solver = 'newton-cg')\n",
    "model2.fit(df2['balance'].values.reshape(-1, 1), df2['default'])"
   ]
  },
  {
   "cell_type": "code",
   "execution_count": null,
   "id": "e5fd41cd-9a45-4a97-a504-abeb77f8870b",
   "metadata": {},
   "outputs": [],
   "source": [
    "test_balance = np.linspace(df['balance'].min(), df['balance'].max(), 1000).reshape(-1, 1)\n",
    "pred_stud_yes = model1.predict_proba(test_balance)[:, 1]\n",
    "pred_stud_no = model2.predict_proba(test_balance)[:, 1]"
   ]
  },
  {
   "cell_type": "code",
   "execution_count": null,
   "id": "f90c36af-a82c-414f-8ca6-be7f4d69d9ca",
   "metadata": {},
   "outputs": [],
   "source": [
    "fig, (ax1, ax2) = plt.subplots(1,2, figsize=(12,5))\n",
    "\n",
    "# Left plot\n",
    "ax1.plot(test_balance, pred_stud_yes, color='orange', label='Student')\n",
    "ax1.plot(test_balance, pred_stud_no, color='lightblue', label='Non-student')\n",
    "ax1.hlines(127 / (127 + 2817), colors='orange', label='Overall Student',\n",
    "           xmin=ax1.xaxis.get_data_interval()[0],\n",
    "           xmax=ax1.xaxis.get_data_interval()[1], linestyles='dashed')\n",
    "ax1.hlines(206/(206 + 6850), colors='lightblue', label='Overall Non-Student',\n",
    "           xmin=ax1.xaxis.get_data_interval()[0],\n",
    "           xmax=ax1.xaxis.get_data_interval()[1], linestyles='dashed')\n",
    "ax1.set_ylabel('Default Rate')\n",
    "ax1.set_xlabel('Credit Card Balance')\n",
    "ax1.set_yticks([0, 0.2, 0.4, 0.6, 0.8, 1.])\n",
    "ax1.set_xlim(450,2500)\n",
    "ax1.legend(loc=2)\n",
    "bplot = ax2.boxplot([df2['balance'],df1['balance']], labels=['No', 'Yes'], patch_artist=True)\n",
    "# fill with colors\n",
    "for patch, color in zip(bplot['boxes'], colors):\n",
    "    patch.set_facecolor(color)\n",
    "ax2.set_xlabel('Student Status')\n",
    "ax2.set_ylabel('Credit Card Balance')"
   ]
  },
  {
   "cell_type": "markdown",
   "id": "815473fa-9cc7-445a-b0e6-d4d93a8ab03c",
   "metadata": {},
   "source": [
    "## Confounding Effect \n",
    "`A confounder is a variable that influences both the dependent variable and independent variable, causing a spurious association`"
   ]
  },
  {
   "cell_type": "code",
   "execution_count": null,
   "id": "b34432de-dd61-452e-aa9b-79fa28a5fe63",
   "metadata": {},
   "outputs": [],
   "source": [
    "### Predict probablity for a student/non-student when balance = 1500$, income = $40K"
   ]
  },
  {
   "cell_type": "code",
   "execution_count": null,
   "id": "1a541d74-0bda-4ea0-a8ea-5d9639680da7",
   "metadata": {},
   "outputs": [],
   "source": []
  },
  {
   "cell_type": "markdown",
   "id": "a96868f5-d639-434e-b7ed-d8bcd6960e97",
   "metadata": {},
   "source": [
    "## Multinomial Logistic Regression  \n",
    "- We sometimes wish to classify a response variable that has more than two classes\n",
    "- For example medical condition in the emergency room: stroke, drug overdose, epileptic seizure or digit classification\n",
    "- Multinomial logistic regression is when number of classes K > 2\n",
    "- $Pr(Y = k|X = x) = \\frac{e^{β_{k0}+β_{k1}x_1+···+β_{kp}x_p}}{1 + \\Sigma^{K-1}_{l = 1}e^{β_{l0}+β_{l1}x_1+···+β_{lp}x_p}}$ for k = 1, 2, ..., K-1 and\n",
    "  $Pr(Y = K|X = x) = \\frac{1}{1 + \\Sigma^{K-1}_{l = 1}e^{β_{l0}+β_{l1}x_1+···+β_{lp}x_p}}$\n",
    "- Also $log(\\frac{Pr(Y = k|X = x)}{Pr(Y = K|X = x)}) = β_{k0}+β_{k1}x_1+···+β_{kp}x_p$\n",
    "- $K^{th}$ class is kept as baseline and it is unimportant which classes is taken as baseline as the final fitted values(predictions) and log odds will remain the same.\n",
    "- k will be the predicted class if $P(Y = k | X = x)$ is maximum\n",
    "- Alternative coding is to use Softmax function\n",
    "  $Pr(Y = k|X = x) = \\frac{e^{β_{k0}+β_{k1}x_1+···+β_{kp}x_p}}{ \\Sigma^{K}_{l = 1}e^{β_{l0}+β_{l1}x_1+···+β_{lp}x_p}}$"
   ]
  },
  {
   "cell_type": "code",
   "execution_count": null,
   "id": "3454ec33-c6e6-468a-a208-497b3f5673dd",
   "metadata": {},
   "outputs": [],
   "source": []
  },
  {
   "cell_type": "markdown",
   "id": "56625a18-dd92-479d-bb06-b9cdbbfecd64",
   "metadata": {},
   "source": [
    "## Question \n",
    "This problem has to do with odds.\n",
    "(a) On average, what fraction of people with an odds of 0.37 of\n",
    "defaulting on their credit card payment will in fact default?\n",
    "(b) Suppose that an individual has a 16% chance of defaulting on\n",
    "her credit card payment. What are the odds that she will default?"
   ]
  },
  {
   "cell_type": "code",
   "execution_count": null,
   "id": "8c2fac58-4fff-4325-9205-2ed146fd452b",
   "metadata": {},
   "outputs": [],
   "source": []
  }
 ],
 "metadata": {
  "kernelspec": {
   "display_name": "Python 3 (ipykernel)",
   "language": "python",
   "name": "python3"
  },
  "language_info": {
   "codemirror_mode": {
    "name": "ipython",
    "version": 3
   },
   "file_extension": ".py",
   "mimetype": "text/x-python",
   "name": "python",
   "nbconvert_exporter": "python",
   "pygments_lexer": "ipython3",
   "version": "3.12.1"
  }
 },
 "nbformat": 4,
 "nbformat_minor": 5
}
