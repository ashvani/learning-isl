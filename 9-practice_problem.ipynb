{
 "cells": [
  {
   "cell_type": "code",
   "execution_count": null,
   "id": "a6a4d54f-f29b-418e-b248-e2cb0c202e2c",
   "metadata": {},
   "outputs": [],
   "source": [
    "import pandas as pd\n",
    "import numpy as np"
   ]
  },
  {
   "cell_type": "code",
   "execution_count": null,
   "id": "6b54213c-15fc-451b-b21a-c1958f2721dc",
   "metadata": {},
   "outputs": [],
   "source": [
    "df = pd.read_csv(r'Auto.csv')"
   ]
  },
  {
   "cell_type": "code",
   "execution_count": null,
   "id": "ba9f8df7-0971-4fb6-bc4c-b1b2ab92a6be",
   "metadata": {},
   "outputs": [],
   "source": [
    "df.head()"
   ]
  },
  {
   "cell_type": "markdown",
   "id": "1b103382-aa55-48fa-8295-ad26057564a7",
   "metadata": {},
   "source": [
    "https://rdrr.io/cran/ISLR2/man/Auto.html\n",
    "\n",
    "Auto Data Set\n",
    "Description\n",
    "\n",
    "Gas mileage, horsepower, and other information for 392 vehicles.\n",
    "Usage\n",
    "\n",
    "Auto\n",
    "\n",
    "Format\n",
    "\n",
    "A data frame with 392 observations on the following 9 variables. "
   ]
  },
  {
   "cell_type": "markdown",
   "id": "220e5380-3e76-4774-956e-225d4bdede72",
   "metadata": {},
   "source": [
    "## Problem\n",
    "\n",
    "Create a binary variable, mpg01, that contains a 1 if mpg contains\n",
    "a value above its median, and a 0 if mpg contains a value below\n",
    "its median."
   ]
  },
  {
   "cell_type": "markdown",
   "id": "be545053-214d-4e91-b640-42b25c67b5e0",
   "metadata": {},
   "source": [
    "Explore the data graphically in order to investigate the association\n",
    "between mpg01 and the other features. Which of the other\n",
    "features seem most likely to be useful in predicting mpg01? Scatterplots\n",
    "and boxplots may be useful tools to answer this question.\n",
    "Describe your findings   \n",
    "\n",
    "Perform logistic regression on the training data in order to predict\n",
    "mpg01 using the variables that seemed most associated with\n",
    "mpg01 in (b)"
   ]
  },
  {
   "cell_type": "code",
   "execution_count": null,
   "id": "f8f7b813-800c-4a13-a1f5-34c837062942",
   "metadata": {},
   "outputs": [],
   "source": []
  },
  {
   "cell_type": "code",
   "execution_count": null,
   "id": "48107021-69cd-4744-8e25-ea961c235c81",
   "metadata": {},
   "outputs": [],
   "source": [
    "df['mpg01'] = np.where(df['mpg'] > df['mpg'].median(), 1, 0)"
   ]
  },
  {
   "cell_type": "code",
   "execution_count": null,
   "id": "a5c78cb9-c91e-417f-b242-dc6a1dd3a8d6",
   "metadata": {},
   "outputs": [],
   "source": [
    "df['mpg01'].value_counts()"
   ]
  },
  {
   "cell_type": "code",
   "execution_count": null,
   "id": "ebfbd891-295d-46d6-8923-7ff85e8ac68a",
   "metadata": {},
   "outputs": [],
   "source": [
    "import matplotlib.pyplot as plt"
   ]
  },
  {
   "cell_type": "code",
   "execution_count": null,
   "id": "ff53feac-0c28-4d7d-9dd9-52b8dbaad257",
   "metadata": {},
   "outputs": [],
   "source": [
    "import seaborn as sns"
   ]
  },
  {
   "cell_type": "code",
   "execution_count": null,
   "id": "8dde51b8-84d2-4f70-8fdd-c3a711522f16",
   "metadata": {},
   "outputs": [],
   "source": [
    "sns.boxplot(df, x = 'mpg01', y = \"horsepower\")"
   ]
  },
  {
   "cell_type": "code",
   "execution_count": null,
   "id": "196957bb-591e-4ffc-8ca8-e06f8f4e0865",
   "metadata": {},
   "outputs": [],
   "source": [
    "plt.plot(df['mpg01'], df['horsepower'])\n",
    "plt.show()"
   ]
  },
  {
   "cell_type": "code",
   "execution_count": null,
   "id": "af7885a3-ed5c-4c35-bc8f-2d692f02699b",
   "metadata": {},
   "outputs": [],
   "source": [
    "import statsmodels.api as sm"
   ]
  },
  {
   "cell_type": "code",
   "execution_count": null,
   "id": "f2e0ddf9-8dca-4bdc-bd0e-838e667a8068",
   "metadata": {},
   "outputs": [],
   "source": [
    "df['horsepower'] = pd.to_numeric(df['horsepower'], errors = 'coerce')\n",
    "df['horsepower'] = df['horsepower'].fillna(df['horsepower'].mean())"
   ]
  },
  {
   "cell_type": "code",
   "execution_count": null,
   "id": "a4efa04d-8132-4e8a-925a-6790a4b08fc2",
   "metadata": {},
   "outputs": [],
   "source": [
    "X_train = sm.add_constant(df[['cylinders', 'displacement', 'horsepower', 'weight',\n",
    "       'acceleration', 'year', 'origin']])"
   ]
  },
  {
   "cell_type": "code",
   "execution_count": null,
   "id": "5457dc00-53b0-4d97-b857-79b9680ee746",
   "metadata": {},
   "outputs": [],
   "source": [
    "y_train = df['mpg01']"
   ]
  },
  {
   "cell_type": "code",
   "execution_count": null,
   "id": "277fe02d-5fee-4da7-bd8c-14a0c04f744a",
   "metadata": {},
   "outputs": [],
   "source": [
    "model = sm.Logit(y_train, X_train).fit()"
   ]
  },
  {
   "cell_type": "code",
   "execution_count": null,
   "id": "8c0be3a1-41b1-47ee-9f2b-d73bbc43e9e4",
   "metadata": {},
   "outputs": [],
   "source": [
    "model.summary()"
   ]
  },
  {
   "cell_type": "code",
   "execution_count": null,
   "id": "2464c921-6eed-4c55-85ad-559dc3a08546",
   "metadata": {},
   "outputs": [],
   "source": []
  },
  {
   "cell_type": "code",
   "execution_count": null,
   "id": "53d4b6f2-2871-4a42-af17-71d7d1c14414",
   "metadata": {},
   "outputs": [],
   "source": []
  }
 ],
 "metadata": {
  "kernelspec": {
   "display_name": "Python 3 (ipykernel)",
   "language": "python",
   "name": "python3"
  },
  "language_info": {
   "codemirror_mode": {
    "name": "ipython",
    "version": 3
   },
   "file_extension": ".py",
   "mimetype": "text/x-python",
   "name": "python",
   "nbconvert_exporter": "python",
   "pygments_lexer": "ipython3",
   "version": "3.12.1"
  }
 },
 "nbformat": 4,
 "nbformat_minor": 5
}
