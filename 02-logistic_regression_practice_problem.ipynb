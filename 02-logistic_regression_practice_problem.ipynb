{
 "cells": [
  {
   "cell_type": "code",
   "execution_count": 1,
   "id": "a6a4d54f-f29b-418e-b248-e2cb0c202e2c",
   "metadata": {},
   "outputs": [],
   "source": [
    "import pandas as pd\n",
    "import numpy as np\n",
    "import matplotlib.pyplot as plt\n",
    "import statsmodels.api as sm\n",
    "import seaborn as sns"
   ]
  },
  {
   "cell_type": "code",
   "execution_count": 2,
   "id": "6b54213c-15fc-451b-b21a-c1958f2721dc",
   "metadata": {},
   "outputs": [],
   "source": [
    "df = pd.read_csv(r'Auto.csv')"
   ]
  },
  {
   "cell_type": "code",
   "execution_count": 3,
   "id": "ba9f8df7-0971-4fb6-bc4c-b1b2ab92a6be",
   "metadata": {},
   "outputs": [
    {
     "data": {
      "text/html": [
       "<div>\n",
       "<style scoped>\n",
       "    .dataframe tbody tr th:only-of-type {\n",
       "        vertical-align: middle;\n",
       "    }\n",
       "\n",
       "    .dataframe tbody tr th {\n",
       "        vertical-align: top;\n",
       "    }\n",
       "\n",
       "    .dataframe thead th {\n",
       "        text-align: right;\n",
       "    }\n",
       "</style>\n",
       "<table border=\"1\" class=\"dataframe\">\n",
       "  <thead>\n",
       "    <tr style=\"text-align: right;\">\n",
       "      <th></th>\n",
       "      <th>mpg</th>\n",
       "      <th>cylinders</th>\n",
       "      <th>displacement</th>\n",
       "      <th>horsepower</th>\n",
       "      <th>weight</th>\n",
       "      <th>acceleration</th>\n",
       "      <th>year</th>\n",
       "      <th>origin</th>\n",
       "      <th>name</th>\n",
       "    </tr>\n",
       "  </thead>\n",
       "  <tbody>\n",
       "    <tr>\n",
       "      <th>0</th>\n",
       "      <td>18.0</td>\n",
       "      <td>8</td>\n",
       "      <td>307.0</td>\n",
       "      <td>130</td>\n",
       "      <td>3504</td>\n",
       "      <td>12.0</td>\n",
       "      <td>70</td>\n",
       "      <td>1</td>\n",
       "      <td>chevrolet chevelle malibu</td>\n",
       "    </tr>\n",
       "    <tr>\n",
       "      <th>1</th>\n",
       "      <td>15.0</td>\n",
       "      <td>8</td>\n",
       "      <td>350.0</td>\n",
       "      <td>165</td>\n",
       "      <td>3693</td>\n",
       "      <td>11.5</td>\n",
       "      <td>70</td>\n",
       "      <td>1</td>\n",
       "      <td>buick skylark 320</td>\n",
       "    </tr>\n",
       "    <tr>\n",
       "      <th>2</th>\n",
       "      <td>18.0</td>\n",
       "      <td>8</td>\n",
       "      <td>318.0</td>\n",
       "      <td>150</td>\n",
       "      <td>3436</td>\n",
       "      <td>11.0</td>\n",
       "      <td>70</td>\n",
       "      <td>1</td>\n",
       "      <td>plymouth satellite</td>\n",
       "    </tr>\n",
       "    <tr>\n",
       "      <th>3</th>\n",
       "      <td>16.0</td>\n",
       "      <td>8</td>\n",
       "      <td>304.0</td>\n",
       "      <td>150</td>\n",
       "      <td>3433</td>\n",
       "      <td>12.0</td>\n",
       "      <td>70</td>\n",
       "      <td>1</td>\n",
       "      <td>amc rebel sst</td>\n",
       "    </tr>\n",
       "    <tr>\n",
       "      <th>4</th>\n",
       "      <td>17.0</td>\n",
       "      <td>8</td>\n",
       "      <td>302.0</td>\n",
       "      <td>140</td>\n",
       "      <td>3449</td>\n",
       "      <td>10.5</td>\n",
       "      <td>70</td>\n",
       "      <td>1</td>\n",
       "      <td>ford torino</td>\n",
       "    </tr>\n",
       "  </tbody>\n",
       "</table>\n",
       "</div>"
      ],
      "text/plain": [
       "    mpg  cylinders  displacement horsepower  weight  acceleration  year  \\\n",
       "0  18.0          8         307.0        130    3504          12.0    70   \n",
       "1  15.0          8         350.0        165    3693          11.5    70   \n",
       "2  18.0          8         318.0        150    3436          11.0    70   \n",
       "3  16.0          8         304.0        150    3433          12.0    70   \n",
       "4  17.0          8         302.0        140    3449          10.5    70   \n",
       "\n",
       "   origin                       name  \n",
       "0       1  chevrolet chevelle malibu  \n",
       "1       1          buick skylark 320  \n",
       "2       1         plymouth satellite  \n",
       "3       1              amc rebel sst  \n",
       "4       1                ford torino  "
      ]
     },
     "execution_count": 3,
     "metadata": {},
     "output_type": "execute_result"
    }
   ],
   "source": [
    "df.head()"
   ]
  },
  {
   "cell_type": "markdown",
   "id": "1b103382-aa55-48fa-8295-ad26057564a7",
   "metadata": {},
   "source": [
    "https://rdrr.io/cran/ISLR2/man/Auto.html\n",
    "\n",
    "Auto Data Set\n",
    "Description\n",
    "\n",
    "Gas mileage, horsepower, and other information for 392 vehicles.\n",
    "Usage\n",
    "\n",
    "Auto\n",
    "\n",
    "Format\n",
    "\n",
    "A data frame with 392 observations on the following 9 variables. "
   ]
  },
  {
   "cell_type": "markdown",
   "id": "220e5380-3e76-4774-956e-225d4bdede72",
   "metadata": {},
   "source": [
    "## Problem\n",
    "\n",
    "Create a binary variable, mpg01, that contains a 1 if mpg contains\n",
    "a value above its median, and a 0 if mpg contains a value below\n",
    "its median."
   ]
  },
  {
   "cell_type": "markdown",
   "id": "be545053-214d-4e91-b640-42b25c67b5e0",
   "metadata": {},
   "source": [
    "Explore the data graphically in order to investigate the association\n",
    "between mpg01 and the other features. Which of the other\n",
    "features seem most likely to be useful in predicting mpg01? Scatterplots\n",
    "and boxplots may be useful tools to answer this question.\n",
    "Describe your findings   \n",
    "\n",
    "Perform logistic regression on the training data in order to predict\n",
    "mpg01 using the variables that seemed most associated with\n",
    "mpg01 in (b)"
   ]
  },
  {
   "cell_type": "code",
   "execution_count": 4,
   "id": "48107021-69cd-4744-8e25-ea961c235c81",
   "metadata": {},
   "outputs": [],
   "source": [
    "df['mpg01'] = np.where(df['mpg'] > df['mpg'].median(), 1, 0)"
   ]
  },
  {
   "cell_type": "code",
   "execution_count": 5,
   "id": "a5c78cb9-c91e-417f-b242-dc6a1dd3a8d6",
   "metadata": {},
   "outputs": [
    {
     "data": {
      "text/plain": [
       "mpg01\n",
       "0    206\n",
       "1    191\n",
       "Name: count, dtype: int64"
      ]
     },
     "execution_count": 5,
     "metadata": {},
     "output_type": "execute_result"
    }
   ],
   "source": [
    "df['mpg01'].value_counts()"
   ]
  },
  {
   "cell_type": "code",
   "execution_count": 6,
   "id": "95717b45-e18b-4f54-a7b7-a224ca1719c6",
   "metadata": {},
   "outputs": [],
   "source": [
    "df['horsepower'] = pd.to_numeric(df['horsepower'], errors = 'coerce')\n",
    "df['horsepower'] = df['horsepower'].fillna(df['horsepower'].mean())"
   ]
  },
  {
   "cell_type": "code",
   "execution_count": 7,
   "id": "8dde51b8-84d2-4f70-8fdd-c3a711522f16",
   "metadata": {},
   "outputs": [
    {
     "data": {
      "text/plain": [
       "<Axes: xlabel='mpg01', ylabel='horsepower'>"
      ]
     },
     "execution_count": 7,
     "metadata": {},
     "output_type": "execute_result"
    },
    {
     "data": {
      "image/png": "[encoded data removed]",
      "text/plain": [
       "<Figure size 640x480 with 1 Axes>"
      ]
     },
     "metadata": {},
     "output_type": "display_data"
    }
   ],
   "source": [
    "sns.boxplot(df, x = 'mpg01', y = \"horsepower\")"
   ]
  },
  {
   "cell_type": "code",
   "execution_count": 8,
   "id": "ed2a2624-5e3f-4aa5-adf0-e07bd05aac41",
   "metadata": {},
   "outputs": [],
   "source": [
    "from sklearn.model_selection import train_test_split\n",
    "X_train, X_test, y_train, y_test = train_test_split(df[['cylinders', 'displacement', 'horsepower', 'weight',\n",
    "       'acceleration', 'year', 'origin']], df['mpg01'], test_size = .30)"
   ]
  },
  {
   "cell_type": "code",
   "execution_count": null,
   "id": "2de7f06a-d23a-4230-abd7-267d75557ce0",
   "metadata": {},
   "outputs": [],
   "source": []
  },
  {
   "cell_type": "code",
   "execution_count": 9,
   "id": "a4efa04d-8132-4e8a-925a-6790a4b08fc2",
   "metadata": {},
   "outputs": [],
   "source": [
    "X_train = sm.add_constant(df[['cylinders', 'displacement', 'horsepower', 'weight',\n",
    "       'acceleration', 'year', 'origin']])"
   ]
  },
  {
   "cell_type": "code",
   "execution_count": 10,
   "id": "5457dc00-53b0-4d97-b857-79b9680ee746",
   "metadata": {},
   "outputs": [],
   "source": [
    "y_train = df['mpg01']"
   ]
  },
  {
   "cell_type": "code",
   "execution_count": 11,
   "id": "277fe02d-5fee-4da7-bd8c-14a0c04f744a",
   "metadata": {},
   "outputs": [
    {
     "name": "stdout",
     "output_type": "stream",
     "text": [
      "Optimization terminated successfully.\n",
      "         Current function value: 0.189595\n",
      "         Iterations 9\n"
     ]
    }
   ],
   "source": [
    "model = sm.Logit(y_train, X_train).fit()"
   ]
  },
  {
   "cell_type": "code",
   "execution_count": 12,
   "id": "8c0be3a1-41b1-47ee-9f2b-d73bbc43e9e4",
   "metadata": {},
   "outputs": [
    {
     "data": {
      "text/html": [
       "<table class=\"simpletable\">\n",
       "<caption>Logit Regression Results</caption>\n",
       "<tr>\n",
       "  <th>Dep. Variable:</th>         <td>mpg01</td>      <th>  No. Observations:  </th>  <td>   397</td>  \n",
       "</tr>\n",
       "<tr>\n",
       "  <th>Model:</th>                 <td>Logit</td>      <th>  Df Residuals:      </th>  <td>   389</td>  \n",
       "</tr>\n",
       "<tr>\n",
       "  <th>Method:</th>                 <td>MLE</td>       <th>  Df Model:          </th>  <td>     7</td>  \n",
       "</tr>\n",
       "<tr>\n",
       "  <th>Date:</th>            <td>Tue, 28 Jan 2025</td> <th>  Pseudo R-squ.:     </th>  <td>0.7262</td>  \n",
       "</tr>\n",
       "<tr>\n",
       "  <th>Time:</th>                <td>09:51:28</td>     <th>  Log-Likelihood:    </th> <td> -75.269</td> \n",
       "</tr>\n",
       "<tr>\n",
       "  <th>converged:</th>             <td>True</td>       <th>  LL-Null:           </th> <td> -274.90</td> \n",
       "</tr>\n",
       "<tr>\n",
       "  <th>Covariance Type:</th>     <td>nonrobust</td>    <th>  LLR p-value:       </th> <td>3.449e-82</td>\n",
       "</tr>\n",
       "</table>\n",
       "<table class=\"simpletable\">\n",
       "<tr>\n",
       "        <td></td>          <th>coef</th>     <th>std err</th>      <th>z</th>      <th>P>|z|</th>  <th>[0.025</th>    <th>0.975]</th>  \n",
       "</tr>\n",
       "<tr>\n",
       "  <th>const</th>        <td>  -23.6194</td> <td>    6.143</td> <td>   -3.845</td> <td> 0.000</td> <td>  -35.659</td> <td>  -11.580</td>\n",
       "</tr>\n",
       "<tr>\n",
       "  <th>cylinders</th>    <td>   -0.0644</td> <td>    0.434</td> <td>   -0.148</td> <td> 0.882</td> <td>   -0.916</td> <td>    0.787</td>\n",
       "</tr>\n",
       "<tr>\n",
       "  <th>displacement</th> <td>   -0.0015</td> <td>    0.013</td> <td>   -0.118</td> <td> 0.906</td> <td>   -0.027</td> <td>    0.024</td>\n",
       "</tr>\n",
       "<tr>\n",
       "  <th>horsepower</th>   <td>   -0.0311</td> <td>    0.022</td> <td>   -1.382</td> <td> 0.167</td> <td>   -0.075</td> <td>    0.013</td>\n",
       "</tr>\n",
       "<tr>\n",
       "  <th>weight</th>       <td>   -0.0050</td> <td>    0.001</td> <td>   -4.155</td> <td> 0.000</td> <td>   -0.007</td> <td>   -0.003</td>\n",
       "</tr>\n",
       "<tr>\n",
       "  <th>acceleration</th> <td>    0.0192</td> <td>    0.130</td> <td>    0.147</td> <td> 0.883</td> <td>   -0.236</td> <td>    0.275</td>\n",
       "</tr>\n",
       "<tr>\n",
       "  <th>year</th>         <td>    0.5234</td> <td>    0.084</td> <td>    6.217</td> <td> 0.000</td> <td>    0.358</td> <td>    0.688</td>\n",
       "</tr>\n",
       "<tr>\n",
       "  <th>origin</th>       <td>    0.4123</td> <td>    0.351</td> <td>    1.175</td> <td> 0.240</td> <td>   -0.276</td> <td>    1.100</td>\n",
       "</tr>\n",
       "</table><br/><br/>Possibly complete quasi-separation: A fraction 0.17 of observations can be<br/>perfectly predicted. This might indicate that there is complete<br/>quasi-separation. In this case some parameters will not be identified."
      ],
      "text/latex": [
       "\\begin{center}\n",
       "\\begin{tabular}{lclc}\n",
       "\\toprule\n",
       "\\textbf{Dep. Variable:}   &      mpg01       & \\textbf{  No. Observations:  } &      397    \\\\\n",
       "\\textbf{Model:}           &      Logit       & \\textbf{  Df Residuals:      } &      389    \\\\\n",
       "\\textbf{Method:}          &       MLE        & \\textbf{  Df Model:          } &        7    \\\\\n",
       "\\textbf{Date:}            & Tue, 28 Jan 2025 & \\textbf{  Pseudo R-squ.:     } &   0.7262    \\\\\n",
       "\\textbf{Time:}            &     09:51:28     & \\textbf{  Log-Likelihood:    } &   -75.269   \\\\\n",
       "\\textbf{converged:}       &       True       & \\textbf{  LL-Null:           } &   -274.90   \\\\\n",
       "\\textbf{Covariance Type:} &    nonrobust     & \\textbf{  LLR p-value:       } & 3.449e-82   \\\\\n",
       "\\bottomrule\n",
       "\\end{tabular}\n",
       "\\begin{tabular}{lcccccc}\n",
       "                      & \\textbf{coef} & \\textbf{std err} & \\textbf{z} & \\textbf{P$> |$z$|$} & \\textbf{[0.025} & \\textbf{0.975]}  \\\\\n",
       "\\midrule\n",
       "\\textbf{const}        &     -23.6194  &        6.143     &    -3.845  &         0.000        &      -35.659    &      -11.580     \\\\\n",
       "\\textbf{cylinders}    &      -0.0644  &        0.434     &    -0.148  &         0.882        &       -0.916    &        0.787     \\\\\n",
       "\\textbf{displacement} &      -0.0015  &        0.013     &    -0.118  &         0.906        &       -0.027    &        0.024     \\\\\n",
       "\\textbf{horsepower}   &      -0.0311  &        0.022     &    -1.382  &         0.167        &       -0.075    &        0.013     \\\\\n",
       "\\textbf{weight}       &      -0.0050  &        0.001     &    -4.155  &         0.000        &       -0.007    &       -0.003     \\\\\n",
       "\\textbf{acceleration} &       0.0192  &        0.130     &     0.147  &         0.883        &       -0.236    &        0.275     \\\\\n",
       "\\textbf{year}         &       0.5234  &        0.084     &     6.217  &         0.000        &        0.358    &        0.688     \\\\\n",
       "\\textbf{origin}       &       0.4123  &        0.351     &     1.175  &         0.240        &       -0.276    &        1.100     \\\\\n",
       "\\bottomrule\n",
       "\\end{tabular}\n",
       "%\\caption{Logit Regression Results}\n",
       "\\end{center}\n",
       "\n",
       "Possibly complete quasi-separation: A fraction 0.17 of observations can be \\newline\n",
       " perfectly predicted. This might indicate that there is complete \\newline\n",
       " quasi-separation. In this case some parameters will not be identified."
      ],
      "text/plain": [
       "<class 'statsmodels.iolib.summary.Summary'>\n",
       "\"\"\"\n",
       "                           Logit Regression Results                           \n",
       "==============================================================================\n",
       "Dep. Variable:                  mpg01   No. Observations:                  397\n",
       "Model:                          Logit   Df Residuals:                      389\n",
       "Method:                           MLE   Df Model:                            7\n",
       "Date:                Tue, 28 Jan 2025   Pseudo R-squ.:                  0.7262\n",
       "Time:                        09:51:28   Log-Likelihood:                -75.269\n",
       "converged:                       True   LL-Null:                       -274.90\n",
       "Covariance Type:            nonrobust   LLR p-value:                 3.449e-82\n",
       "================================================================================\n",
       "                   coef    std err          z      P>|z|      [0.025      0.975]\n",
       "--------------------------------------------------------------------------------\n",
       "const          -23.6194      6.143     -3.845      0.000     -35.659     -11.580\n",
       "cylinders       -0.0644      0.434     -0.148      0.882      -0.916       0.787\n",
       "displacement    -0.0015      0.013     -0.118      0.906      -0.027       0.024\n",
       "horsepower      -0.0311      0.022     -1.382      0.167      -0.075       0.013\n",
       "weight          -0.0050      0.001     -4.155      0.000      -0.007      -0.003\n",
       "acceleration     0.0192      0.130      0.147      0.883      -0.236       0.275\n",
       "year             0.5234      0.084      6.217      0.000       0.358       0.688\n",
       "origin           0.4123      0.351      1.175      0.240      -0.276       1.100\n",
       "================================================================================\n",
       "\n",
       "Possibly complete quasi-separation: A fraction 0.17 of observations can be\n",
       "perfectly predicted. This might indicate that there is complete\n",
       "quasi-separation. In this case some parameters will not be identified.\n",
       "\"\"\""
      ]
     },
     "execution_count": 12,
     "metadata": {},
     "output_type": "execute_result"
    }
   ],
   "source": [
    "model.summary()"
   ]
  },
  {
   "cell_type": "code",
   "execution_count": 13,
   "id": "2464c921-6eed-4c55-85ad-559dc3a08546",
   "metadata": {},
   "outputs": [],
   "source": [
    "matrix = X_train.corr()"
   ]
  },
  {
   "cell_type": "code",
   "execution_count": 14,
   "id": "53d4b6f2-2871-4a42-af17-71d7d1c14414",
   "metadata": {},
   "outputs": [
    {
     "data": {
      "text/html": [
       "<div>\n",
       "<style scoped>\n",
       "    .dataframe tbody tr th:only-of-type {\n",
       "        vertical-align: middle;\n",
       "    }\n",
       "\n",
       "    .dataframe tbody tr th {\n",
       "        vertical-align: top;\n",
       "    }\n",
       "\n",
       "    .dataframe thead th {\n",
       "        text-align: right;\n",
       "    }\n",
       "</style>\n",
       "<table border=\"1\" class=\"dataframe\">\n",
       "  <thead>\n",
       "    <tr style=\"text-align: right;\">\n",
       "      <th></th>\n",
       "      <th>const</th>\n",
       "      <th>cylinders</th>\n",
       "      <th>displacement</th>\n",
       "      <th>horsepower</th>\n",
       "      <th>weight</th>\n",
       "      <th>acceleration</th>\n",
       "      <th>year</th>\n",
       "      <th>origin</th>\n",
       "    </tr>\n",
       "  </thead>\n",
       "  <tbody>\n",
       "    <tr>\n",
       "      <th>const</th>\n",
       "      <td>NaN</td>\n",
       "      <td>NaN</td>\n",
       "      <td>NaN</td>\n",
       "      <td>NaN</td>\n",
       "      <td>NaN</td>\n",
       "      <td>NaN</td>\n",
       "      <td>NaN</td>\n",
       "      <td>NaN</td>\n",
       "    </tr>\n",
       "    <tr>\n",
       "      <th>cylinders</th>\n",
       "      <td>NaN</td>\n",
       "      <td>1.000000</td>\n",
       "      <td>0.950920</td>\n",
       "      <td>0.839715</td>\n",
       "      <td>0.897017</td>\n",
       "      <td>-0.504061</td>\n",
       "      <td>-0.346717</td>\n",
       "      <td>-0.564972</td>\n",
       "    </tr>\n",
       "    <tr>\n",
       "      <th>displacement</th>\n",
       "      <td>NaN</td>\n",
       "      <td>0.950920</td>\n",
       "      <td>1.000000</td>\n",
       "      <td>0.893833</td>\n",
       "      <td>0.933104</td>\n",
       "      <td>-0.544162</td>\n",
       "      <td>-0.369804</td>\n",
       "      <td>-0.610664</td>\n",
       "    </tr>\n",
       "    <tr>\n",
       "      <th>horsepower</th>\n",
       "      <td>NaN</td>\n",
       "      <td>0.839715</td>\n",
       "      <td>0.893833</td>\n",
       "      <td>1.000000</td>\n",
       "      <td>0.860581</td>\n",
       "      <td>-0.687039</td>\n",
       "      <td>-0.413022</td>\n",
       "      <td>-0.453962</td>\n",
       "    </tr>\n",
       "    <tr>\n",
       "      <th>weight</th>\n",
       "      <td>NaN</td>\n",
       "      <td>0.897017</td>\n",
       "      <td>0.933104</td>\n",
       "      <td>0.860581</td>\n",
       "      <td>1.000000</td>\n",
       "      <td>-0.419502</td>\n",
       "      <td>-0.307900</td>\n",
       "      <td>-0.581265</td>\n",
       "    </tr>\n",
       "    <tr>\n",
       "      <th>acceleration</th>\n",
       "      <td>NaN</td>\n",
       "      <td>-0.504061</td>\n",
       "      <td>-0.544162</td>\n",
       "      <td>-0.687039</td>\n",
       "      <td>-0.419502</td>\n",
       "      <td>1.000000</td>\n",
       "      <td>0.282901</td>\n",
       "      <td>0.210084</td>\n",
       "    </tr>\n",
       "    <tr>\n",
       "      <th>year</th>\n",
       "      <td>NaN</td>\n",
       "      <td>-0.346717</td>\n",
       "      <td>-0.369804</td>\n",
       "      <td>-0.413022</td>\n",
       "      <td>-0.307900</td>\n",
       "      <td>0.282901</td>\n",
       "      <td>1.000000</td>\n",
       "      <td>0.184314</td>\n",
       "    </tr>\n",
       "    <tr>\n",
       "      <th>origin</th>\n",
       "      <td>NaN</td>\n",
       "      <td>-0.564972</td>\n",
       "      <td>-0.610664</td>\n",
       "      <td>-0.453962</td>\n",
       "      <td>-0.581265</td>\n",
       "      <td>0.210084</td>\n",
       "      <td>0.184314</td>\n",
       "      <td>1.000000</td>\n",
       "    </tr>\n",
       "  </tbody>\n",
       "</table>\n",
       "</div>"
      ],
      "text/plain": [
       "              const  cylinders  displacement  horsepower    weight  \\\n",
       "const           NaN        NaN           NaN         NaN       NaN   \n",
       "cylinders       NaN   1.000000      0.950920    0.839715  0.897017   \n",
       "displacement    NaN   0.950920      1.000000    0.893833  0.933104   \n",
       "horsepower      NaN   0.839715      0.893833    1.000000  0.860581   \n",
       "weight          NaN   0.897017      0.933104    0.860581  1.000000   \n",
       "acceleration    NaN  -0.504061     -0.544162   -0.687039 -0.419502   \n",
       "year            NaN  -0.346717     -0.369804   -0.413022 -0.307900   \n",
       "origin          NaN  -0.564972     -0.610664   -0.453962 -0.581265   \n",
       "\n",
       "              acceleration      year    origin  \n",
       "const                  NaN       NaN       NaN  \n",
       "cylinders        -0.504061 -0.346717 -0.564972  \n",
       "displacement     -0.544162 -0.369804 -0.610664  \n",
       "horsepower       -0.687039 -0.413022 -0.453962  \n",
       "weight           -0.419502 -0.307900 -0.581265  \n",
       "acceleration      1.000000  0.282901  0.210084  \n",
       "year              0.282901  1.000000  0.184314  \n",
       "origin            0.210084  0.184314  1.000000  "
      ]
     },
     "execution_count": 14,
     "metadata": {},
     "output_type": "execute_result"
    }
   ],
   "source": [
    "matrix"
   ]
  },
  {
   "cell_type": "code",
   "execution_count": 15,
   "id": "8cb870f7-fcd7-4603-9f14-f0ed39da7262",
   "metadata": {},
   "outputs": [],
   "source": [
    "X_train = sm.add_constant(df[['cylinders',\n",
    "       'acceleration', 'year', 'origin']])"
   ]
  },
  {
   "cell_type": "code",
   "execution_count": 16,
   "id": "e87d443d-68ca-48fa-aa80-c440592039f9",
   "metadata": {},
   "outputs": [
    {
     "name": "stdout",
     "output_type": "stream",
     "text": [
      "Optimization terminated successfully.\n",
      "         Current function value: 0.272804\n",
      "         Iterations 8\n"
     ]
    },
    {
     "data": {
      "text/html": [
       "<table class=\"simpletable\">\n",
       "<caption>Logit Regression Results</caption>\n",
       "<tr>\n",
       "  <th>Dep. Variable:</th>         <td>mpg01</td>      <th>  No. Observations:  </th>  <td>   397</td>  \n",
       "</tr>\n",
       "<tr>\n",
       "  <th>Model:</th>                 <td>Logit</td>      <th>  Df Residuals:      </th>  <td>   392</td>  \n",
       "</tr>\n",
       "<tr>\n",
       "  <th>Method:</th>                 <td>MLE</td>       <th>  Df Model:          </th>  <td>     4</td>  \n",
       "</tr>\n",
       "<tr>\n",
       "  <th>Date:</th>            <td>Tue, 28 Jan 2025</td> <th>  Pseudo R-squ.:     </th>  <td>0.6060</td>  \n",
       "</tr>\n",
       "<tr>\n",
       "  <th>Time:</th>                <td>09:51:28</td>     <th>  Log-Likelihood:    </th> <td> -108.30</td> \n",
       "</tr>\n",
       "<tr>\n",
       "  <th>converged:</th>             <td>True</td>       <th>  LL-Null:           </th> <td> -274.90</td> \n",
       "</tr>\n",
       "<tr>\n",
       "  <th>Covariance Type:</th>     <td>nonrobust</td>    <th>  LLR p-value:       </th> <td>7.481e-71</td>\n",
       "</tr>\n",
       "</table>\n",
       "<table class=\"simpletable\">\n",
       "<tr>\n",
       "        <td></td>          <th>coef</th>     <th>std err</th>      <th>z</th>      <th>P>|z|</th>  <th>[0.025</th>    <th>0.975]</th>  \n",
       "</tr>\n",
       "<tr>\n",
       "  <th>const</th>        <td>  -18.5269</td> <td>    4.406</td> <td>   -4.205</td> <td> 0.000</td> <td>  -27.162</td> <td>   -9.892</td>\n",
       "</tr>\n",
       "<tr>\n",
       "  <th>cylinders</th>    <td>   -1.6618</td> <td>    0.204</td> <td>   -8.139</td> <td> 0.000</td> <td>   -2.062</td> <td>   -1.262</td>\n",
       "</tr>\n",
       "<tr>\n",
       "  <th>acceleration</th> <td>    0.0134</td> <td>    0.076</td> <td>    0.177</td> <td> 0.859</td> <td>   -0.135</td> <td>    0.161</td>\n",
       "</tr>\n",
       "<tr>\n",
       "  <th>year</th>         <td>    0.3378</td> <td>    0.056</td> <td>    6.029</td> <td> 0.000</td> <td>    0.228</td> <td>    0.448</td>\n",
       "</tr>\n",
       "<tr>\n",
       "  <th>origin</th>       <td>    0.5470</td> <td>    0.242</td> <td>    2.261</td> <td> 0.024</td> <td>    0.073</td> <td>    1.021</td>\n",
       "</tr>\n",
       "</table>"
      ],
      "text/latex": [
       "\\begin{center}\n",
       "\\begin{tabular}{lclc}\n",
       "\\toprule\n",
       "\\textbf{Dep. Variable:}   &      mpg01       & \\textbf{  No. Observations:  } &      397    \\\\\n",
       "\\textbf{Model:}           &      Logit       & \\textbf{  Df Residuals:      } &      392    \\\\\n",
       "\\textbf{Method:}          &       MLE        & \\textbf{  Df Model:          } &        4    \\\\\n",
       "\\textbf{Date:}            & Tue, 28 Jan 2025 & \\textbf{  Pseudo R-squ.:     } &   0.6060    \\\\\n",
       "\\textbf{Time:}            &     09:51:28     & \\textbf{  Log-Likelihood:    } &   -108.30   \\\\\n",
       "\\textbf{converged:}       &       True       & \\textbf{  LL-Null:           } &   -274.90   \\\\\n",
       "\\textbf{Covariance Type:} &    nonrobust     & \\textbf{  LLR p-value:       } & 7.481e-71   \\\\\n",
       "\\bottomrule\n",
       "\\end{tabular}\n",
       "\\begin{tabular}{lcccccc}\n",
       "                      & \\textbf{coef} & \\textbf{std err} & \\textbf{z} & \\textbf{P$> |$z$|$} & \\textbf{[0.025} & \\textbf{0.975]}  \\\\\n",
       "\\midrule\n",
       "\\textbf{const}        &     -18.5269  &        4.406     &    -4.205  &         0.000        &      -27.162    &       -9.892     \\\\\n",
       "\\textbf{cylinders}    &      -1.6618  &        0.204     &    -8.139  &         0.000        &       -2.062    &       -1.262     \\\\\n",
       "\\textbf{acceleration} &       0.0134  &        0.076     &     0.177  &         0.859        &       -0.135    &        0.161     \\\\\n",
       "\\textbf{year}         &       0.3378  &        0.056     &     6.029  &         0.000        &        0.228    &        0.448     \\\\\n",
       "\\textbf{origin}       &       0.5470  &        0.242     &     2.261  &         0.024        &        0.073    &        1.021     \\\\\n",
       "\\bottomrule\n",
       "\\end{tabular}\n",
       "%\\caption{Logit Regression Results}\n",
       "\\end{center}"
      ],
      "text/plain": [
       "<class 'statsmodels.iolib.summary.Summary'>\n",
       "\"\"\"\n",
       "                           Logit Regression Results                           \n",
       "==============================================================================\n",
       "Dep. Variable:                  mpg01   No. Observations:                  397\n",
       "Model:                          Logit   Df Residuals:                      392\n",
       "Method:                           MLE   Df Model:                            4\n",
       "Date:                Tue, 28 Jan 2025   Pseudo R-squ.:                  0.6060\n",
       "Time:                        09:51:28   Log-Likelihood:                -108.30\n",
       "converged:                       True   LL-Null:                       -274.90\n",
       "Covariance Type:            nonrobust   LLR p-value:                 7.481e-71\n",
       "================================================================================\n",
       "                   coef    std err          z      P>|z|      [0.025      0.975]\n",
       "--------------------------------------------------------------------------------\n",
       "const          -18.5269      4.406     -4.205      0.000     -27.162      -9.892\n",
       "cylinders       -1.6618      0.204     -8.139      0.000      -2.062      -1.262\n",
       "acceleration     0.0134      0.076      0.177      0.859      -0.135       0.161\n",
       "year             0.3378      0.056      6.029      0.000       0.228       0.448\n",
       "origin           0.5470      0.242      2.261      0.024       0.073       1.021\n",
       "================================================================================\n",
       "\"\"\""
      ]
     },
     "execution_count": 16,
     "metadata": {},
     "output_type": "execute_result"
    }
   ],
   "source": [
    "model = sm.Logit(y_train, X_train).fit()\n",
    "model.summary()"
   ]
  },
  {
   "cell_type": "code",
   "execution_count": 17,
   "id": "d04e3484-40c2-44d7-af28-f19ad8be49fe",
   "metadata": {},
   "outputs": [
    {
     "name": "stdout",
     "output_type": "stream",
     "text": [
      "Optimization terminated successfully.\n",
      "         Current function value: 0.272844\n",
      "         Iterations 8\n"
     ]
    },
    {
     "data": {
      "text/html": [
       "<table class=\"simpletable\">\n",
       "<caption>Logit Regression Results</caption>\n",
       "<tr>\n",
       "  <th>Dep. Variable:</th>         <td>mpg01</td>      <th>  No. Observations:  </th>  <td>   397</td>  \n",
       "</tr>\n",
       "<tr>\n",
       "  <th>Model:</th>                 <td>Logit</td>      <th>  Df Residuals:      </th>  <td>   393</td>  \n",
       "</tr>\n",
       "<tr>\n",
       "  <th>Method:</th>                 <td>MLE</td>       <th>  Df Model:          </th>  <td>     3</td>  \n",
       "</tr>\n",
       "<tr>\n",
       "  <th>Date:</th>            <td>Tue, 28 Jan 2025</td> <th>  Pseudo R-squ.:     </th>  <td>0.6060</td>  \n",
       "</tr>\n",
       "<tr>\n",
       "  <th>Time:</th>                <td>09:51:28</td>     <th>  Log-Likelihood:    </th> <td> -108.32</td> \n",
       "</tr>\n",
       "<tr>\n",
       "  <th>converged:</th>             <td>True</td>       <th>  LL-Null:           </th> <td> -274.90</td> \n",
       "</tr>\n",
       "<tr>\n",
       "  <th>Covariance Type:</th>     <td>nonrobust</td>    <th>  LLR p-value:       </th> <td>6.624e-72</td>\n",
       "</tr>\n",
       "</table>\n",
       "<table class=\"simpletable\">\n",
       "<tr>\n",
       "      <td></td>         <th>coef</th>     <th>std err</th>      <th>z</th>      <th>P>|z|</th>  <th>[0.025</th>    <th>0.975]</th>  \n",
       "</tr>\n",
       "<tr>\n",
       "  <th>const</th>     <td>  -18.2188</td> <td>    4.036</td> <td>   -4.515</td> <td> 0.000</td> <td>  -26.128</td> <td>  -10.309</td>\n",
       "</tr>\n",
       "<tr>\n",
       "  <th>cylinders</th> <td>   -1.6655</td> <td>    0.203</td> <td>   -8.203</td> <td> 0.000</td> <td>   -2.063</td> <td>   -1.268</td>\n",
       "</tr>\n",
       "<tr>\n",
       "  <th>year</th>      <td>    0.3370</td> <td>    0.056</td> <td>    6.045</td> <td> 0.000</td> <td>    0.228</td> <td>    0.446</td>\n",
       "</tr>\n",
       "<tr>\n",
       "  <th>origin</th>    <td>    0.5404</td> <td>    0.239</td> <td>    2.262</td> <td> 0.024</td> <td>    0.072</td> <td>    1.009</td>\n",
       "</tr>\n",
       "</table>"
      ],
      "text/latex": [
       "\\begin{center}\n",
       "\\begin{tabular}{lclc}\n",
       "\\toprule\n",
       "\\textbf{Dep. Variable:}   &      mpg01       & \\textbf{  No. Observations:  } &      397    \\\\\n",
       "\\textbf{Model:}           &      Logit       & \\textbf{  Df Residuals:      } &      393    \\\\\n",
       "\\textbf{Method:}          &       MLE        & \\textbf{  Df Model:          } &        3    \\\\\n",
       "\\textbf{Date:}            & Tue, 28 Jan 2025 & \\textbf{  Pseudo R-squ.:     } &   0.6060    \\\\\n",
       "\\textbf{Time:}            &     09:51:28     & \\textbf{  Log-Likelihood:    } &   -108.32   \\\\\n",
       "\\textbf{converged:}       &       True       & \\textbf{  LL-Null:           } &   -274.90   \\\\\n",
       "\\textbf{Covariance Type:} &    nonrobust     & \\textbf{  LLR p-value:       } & 6.624e-72   \\\\\n",
       "\\bottomrule\n",
       "\\end{tabular}\n",
       "\\begin{tabular}{lcccccc}\n",
       "                   & \\textbf{coef} & \\textbf{std err} & \\textbf{z} & \\textbf{P$> |$z$|$} & \\textbf{[0.025} & \\textbf{0.975]}  \\\\\n",
       "\\midrule\n",
       "\\textbf{const}     &     -18.2188  &        4.036     &    -4.515  &         0.000        &      -26.128    &      -10.309     \\\\\n",
       "\\textbf{cylinders} &      -1.6655  &        0.203     &    -8.203  &         0.000        &       -2.063    &       -1.268     \\\\\n",
       "\\textbf{year}      &       0.3370  &        0.056     &     6.045  &         0.000        &        0.228    &        0.446     \\\\\n",
       "\\textbf{origin}    &       0.5404  &        0.239     &     2.262  &         0.024        &        0.072    &        1.009     \\\\\n",
       "\\bottomrule\n",
       "\\end{tabular}\n",
       "%\\caption{Logit Regression Results}\n",
       "\\end{center}"
      ],
      "text/plain": [
       "<class 'statsmodels.iolib.summary.Summary'>\n",
       "\"\"\"\n",
       "                           Logit Regression Results                           \n",
       "==============================================================================\n",
       "Dep. Variable:                  mpg01   No. Observations:                  397\n",
       "Model:                          Logit   Df Residuals:                      393\n",
       "Method:                           MLE   Df Model:                            3\n",
       "Date:                Tue, 28 Jan 2025   Pseudo R-squ.:                  0.6060\n",
       "Time:                        09:51:28   Log-Likelihood:                -108.32\n",
       "converged:                       True   LL-Null:                       -274.90\n",
       "Covariance Type:            nonrobust   LLR p-value:                 6.624e-72\n",
       "==============================================================================\n",
       "                 coef    std err          z      P>|z|      [0.025      0.975]\n",
       "------------------------------------------------------------------------------\n",
       "const        -18.2188      4.036     -4.515      0.000     -26.128     -10.309\n",
       "cylinders     -1.6655      0.203     -8.203      0.000      -2.063      -1.268\n",
       "year           0.3370      0.056      6.045      0.000       0.228       0.446\n",
       "origin         0.5404      0.239      2.262      0.024       0.072       1.009\n",
       "==============================================================================\n",
       "\"\"\""
      ]
     },
     "execution_count": 17,
     "metadata": {},
     "output_type": "execute_result"
    }
   ],
   "source": [
    "X_train = sm.add_constant(df[['cylinders', 'year', 'origin']])\n",
    "model = sm.Logit(y_train, X_train).fit()\n",
    "model.summary()"
   ]
  },
  {
   "cell_type": "code",
   "execution_count": null,
   "id": "f95f3c46-712d-4084-84ac-dbd823be36a3",
   "metadata": {},
   "outputs": [],
   "source": []
  },
  {
   "cell_type": "code",
   "execution_count": null,
   "id": "db686b39-b40e-4d41-a3e8-8f5cfa59c9b7",
   "metadata": {},
   "outputs": [],
   "source": []
  },
  {
   "cell_type": "code",
   "execution_count": null,
   "id": "27cb71fa-fdad-4fa6-99b8-f5028e25686a",
   "metadata": {},
   "outputs": [],
   "source": []
  }
 ],
 "metadata": {
  "kernelspec": {
   "display_name": "Python 3 (ipykernel)",
   "language": "python",
   "name": "python3"
  },
  "language_info": {
   "codemirror_mode": {
    "name": "ipython",
    "version": 3
   },
   "file_extension": ".py",
   "mimetype": "text/x-python",
   "name": "python",
   "nbconvert_exporter": "python",
   "pygments_lexer": "ipython3",
   "version": "3.12.1"
  }
 },
 "nbformat": 4,
 "nbformat_minor": 5
}
