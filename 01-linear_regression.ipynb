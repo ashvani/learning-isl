{
 "cells": [
  {
   "cell_type": "code",
   "execution_count": 1,
   "id": "050f9dd0-68f0-4789-97f9-b72614635a92",
   "metadata": {},
   "outputs": [],
   "source": [
    "import pandas as pd\n",
    "import matplotlib.pyplot as plt\n",
    "from sklearn.metrics import mean_squared_error\n",
    "from sklearn.linear_model import LinearRegression\n",
    "from IPython.display import display, Latex"
   ]
  },
  {
   "cell_type": "code",
   "execution_count": 2,
   "id": "bda04d67-25ee-499f-ad38-36d70f33da92",
   "metadata": {},
   "outputs": [
    {
     "data": {
      "text/plain": [
       "(200, 4)"
      ]
     },
     "execution_count": 2,
     "metadata": {},
     "output_type": "execute_result"
    }
   ],
   "source": [
    "df = pd.read_csv(r'Advertising.csv')\n",
    "df.shape"
   ]
  },
  {
   "cell_type": "code",
   "execution_count": 3,
   "id": "208809b5-0ed5-41e3-8acf-07a8911db0c4",
   "metadata": {},
   "outputs": [
    {
     "data": {
      "text/html": [
       "<div>\n",
       "<style scoped>\n",
       "    .dataframe tbody tr th:only-of-type {\n",
       "        vertical-align: middle;\n",
       "    }\n",
       "\n",
       "    .dataframe tbody tr th {\n",
       "        vertical-align: top;\n",
       "    }\n",
       "\n",
       "    .dataframe thead th {\n",
       "        text-align: right;\n",
       "    }\n",
       "</style>\n",
       "<table border=\"1\" class=\"dataframe\">\n",
       "  <thead>\n",
       "    <tr style=\"text-align: right;\">\n",
       "      <th></th>\n",
       "      <th>TV</th>\n",
       "      <th>radio</th>\n",
       "      <th>newspaper</th>\n",
       "      <th>sales</th>\n",
       "    </tr>\n",
       "  </thead>\n",
       "  <tbody>\n",
       "    <tr>\n",
       "      <th>0</th>\n",
       "      <td>230.1</td>\n",
       "      <td>37.8</td>\n",
       "      <td>69.2</td>\n",
       "      <td>22.1</td>\n",
       "    </tr>\n",
       "    <tr>\n",
       "      <th>1</th>\n",
       "      <td>44.5</td>\n",
       "      <td>39.3</td>\n",
       "      <td>45.1</td>\n",
       "      <td>10.4</td>\n",
       "    </tr>\n",
       "    <tr>\n",
       "      <th>2</th>\n",
       "      <td>17.2</td>\n",
       "      <td>45.9</td>\n",
       "      <td>69.3</td>\n",
       "      <td>9.3</td>\n",
       "    </tr>\n",
       "    <tr>\n",
       "      <th>3</th>\n",
       "      <td>151.5</td>\n",
       "      <td>41.3</td>\n",
       "      <td>58.5</td>\n",
       "      <td>18.5</td>\n",
       "    </tr>\n",
       "    <tr>\n",
       "      <th>4</th>\n",
       "      <td>180.8</td>\n",
       "      <td>10.8</td>\n",
       "      <td>58.4</td>\n",
       "      <td>12.9</td>\n",
       "    </tr>\n",
       "  </tbody>\n",
       "</table>\n",
       "</div>"
      ],
      "text/plain": [
       "      TV  radio  newspaper  sales\n",
       "0  230.1   37.8       69.2   22.1\n",
       "1   44.5   39.3       45.1   10.4\n",
       "2   17.2   45.9       69.3    9.3\n",
       "3  151.5   41.3       58.5   18.5\n",
       "4  180.8   10.8       58.4   12.9"
      ]
     },
     "execution_count": 3,
     "metadata": {},
     "output_type": "execute_result"
    }
   ],
   "source": [
    "df.head()"
   ]
  },
  {
   "cell_type": "markdown",
   "id": "fe4dd5e5-3b70-4104-b587-1d2b04b76a84",
   "metadata": {},
   "source": [
    "## Inference   \n",
    "- Is there a relationship between sales and advertising budget?\n",
    "- How strong is the relationship?\n",
    "- Which media are associated with sales?\n",
    "- How large is the association between each medium and sales?\n",
    "- How accurately can we predict future sales?\n",
    "- Is the relationship linear?\n",
    "- Is there synergy among the advertising media?  "
   ]
  },
  {
   "cell_type": "code",
   "execution_count": 4,
   "id": "cf14c940-ff29-4054-8d46-44eaef993ac7",
   "metadata": {},
   "outputs": [],
   "source": [
    "## what is the relationship between Sales and TV advertising budget?\n"
   ]
  },
  {
   "cell_type": "code",
   "execution_count": 5,
   "id": "fba50011-82b7-4b0b-bf23-1215f25b7e14",
   "metadata": {},
   "outputs": [],
   "source": [
    "## train a regression model where y = Sales and X = TV\n",
    "X = df['TV']\n",
    "y = df['sales']"
   ]
  },
  {
   "cell_type": "code",
   "execution_count": 6,
   "id": "151fdadc-1293-4418-be6f-18f12f655fc6",
   "metadata": {},
   "outputs": [
    {
     "ename": "ValueError",
     "evalue": "Expected 2D array, got 1D array instead:\narray=[230.1  44.5  17.2 151.5 180.8   8.7  57.5 120.2   8.6 199.8  66.1 214.7\n  23.8  97.5 204.1 195.4  67.8 281.4  69.2 147.3 218.4 237.4  13.2 228.3\n  62.3 262.9 142.9 240.1 248.8  70.6 292.9 112.9  97.2 265.6  95.7 290.7\n 266.9  74.7  43.1 228.  202.5 177.  293.6 206.9  25.1 175.1  89.7 239.9\n 227.2  66.9 199.8 100.4 216.4 182.6 262.7 198.9   7.3 136.2 210.8 210.7\n  53.5 261.3 239.3 102.7 131.1  69.   31.5 139.3 237.4 216.8 199.1 109.8\n  26.8 129.4 213.4  16.9  27.5 120.5   5.4 116.   76.4 239.8  75.3  68.4\n 213.5 193.2  76.3 110.7  88.3 109.8 134.3  28.6 217.7 250.9 107.4 163.3\n 197.6 184.9 289.7 135.2 222.4 296.4 280.2 187.9 238.2 137.9  25.   90.4\n  13.1 255.4 225.8 241.7 175.7 209.6  78.2  75.1 139.2  76.4 125.7  19.4\n 141.3  18.8 224.  123.1 229.5  87.2   7.8  80.2 220.3  59.6   0.7 265.2\n   8.4 219.8  36.9  48.3  25.6 273.7  43.  184.9  73.4 193.7 220.5 104.6\n  96.2 140.3 240.1 243.2  38.   44.7 280.7 121.  197.6 171.3 187.8   4.1\n  93.9 149.8  11.7 131.7 172.5  85.7 188.4 163.5 117.2 234.5  17.9 206.8\n 215.4 284.3  50.  164.5  19.6 168.4 222.4 276.9 248.4 170.2 276.7 165.6\n 156.6 218.5  56.2 287.6 253.8 205.  139.5 191.1 286.   18.7  39.5  75.5\n  17.2 166.8 149.7  38.2  94.2 177.  283.6 232.1].\nReshape your data either using array.reshape(-1, 1) if your data has a single feature or array.reshape(1, -1) if it contains a single sample.",
     "output_type": "error",
     "traceback": [
      "\u001b[1;31m---------------------------------------------------------------------------\u001b[0m",
      "\u001b[1;31mValueError\u001b[0m                                Traceback (most recent call last)",
      "Cell \u001b[1;32mIn[6], line 2\u001b[0m\n\u001b[0;32m      1\u001b[0m model \u001b[38;5;241m=\u001b[39m LinearRegression()\n\u001b[1;32m----> 2\u001b[0m \u001b[43mmodel\u001b[49m\u001b[38;5;241;43m.\u001b[39;49m\u001b[43mfit\u001b[49m\u001b[43m(\u001b[49m\u001b[43mX\u001b[49m\u001b[43m,\u001b[49m\u001b[43m \u001b[49m\u001b[43my\u001b[49m\u001b[43m)\u001b[49m\n",
      "File \u001b[1;32mD:\\Python\\Lib\\site-packages\\sklearn\\base.py:1152\u001b[0m, in \u001b[0;36m_fit_context.<locals>.decorator.<locals>.wrapper\u001b[1;34m(estimator, *args, **kwargs)\u001b[0m\n\u001b[0;32m   1145\u001b[0m     estimator\u001b[38;5;241m.\u001b[39m_validate_params()\n\u001b[0;32m   1147\u001b[0m \u001b[38;5;28;01mwith\u001b[39;00m config_context(\n\u001b[0;32m   1148\u001b[0m     skip_parameter_validation\u001b[38;5;241m=\u001b[39m(\n\u001b[0;32m   1149\u001b[0m         prefer_skip_nested_validation \u001b[38;5;129;01mor\u001b[39;00m global_skip_validation\n\u001b[0;32m   1150\u001b[0m     )\n\u001b[0;32m   1151\u001b[0m ):\n\u001b[1;32m-> 1152\u001b[0m     \u001b[38;5;28;01mreturn\u001b[39;00m \u001b[43mfit_method\u001b[49m\u001b[43m(\u001b[49m\u001b[43mestimator\u001b[49m\u001b[43m,\u001b[49m\u001b[43m \u001b[49m\u001b[38;5;241;43m*\u001b[39;49m\u001b[43margs\u001b[49m\u001b[43m,\u001b[49m\u001b[43m \u001b[49m\u001b[38;5;241;43m*\u001b[39;49m\u001b[38;5;241;43m*\u001b[39;49m\u001b[43mkwargs\u001b[49m\u001b[43m)\u001b[49m\n",
      "File \u001b[1;32mD:\\Python\\Lib\\site-packages\\sklearn\\linear_model\\_base.py:678\u001b[0m, in \u001b[0;36mLinearRegression.fit\u001b[1;34m(self, X, y, sample_weight)\u001b[0m\n\u001b[0;32m    674\u001b[0m n_jobs_ \u001b[38;5;241m=\u001b[39m \u001b[38;5;28mself\u001b[39m\u001b[38;5;241m.\u001b[39mn_jobs\n\u001b[0;32m    676\u001b[0m accept_sparse \u001b[38;5;241m=\u001b[39m \u001b[38;5;28;01mFalse\u001b[39;00m \u001b[38;5;28;01mif\u001b[39;00m \u001b[38;5;28mself\u001b[39m\u001b[38;5;241m.\u001b[39mpositive \u001b[38;5;28;01melse\u001b[39;00m [\u001b[38;5;124m\"\u001b[39m\u001b[38;5;124mcsr\u001b[39m\u001b[38;5;124m\"\u001b[39m, \u001b[38;5;124m\"\u001b[39m\u001b[38;5;124mcsc\u001b[39m\u001b[38;5;124m\"\u001b[39m, \u001b[38;5;124m\"\u001b[39m\u001b[38;5;124mcoo\u001b[39m\u001b[38;5;124m\"\u001b[39m]\n\u001b[1;32m--> 678\u001b[0m X, y \u001b[38;5;241m=\u001b[39m \u001b[38;5;28;43mself\u001b[39;49m\u001b[38;5;241;43m.\u001b[39;49m\u001b[43m_validate_data\u001b[49m\u001b[43m(\u001b[49m\n\u001b[0;32m    679\u001b[0m \u001b[43m    \u001b[49m\u001b[43mX\u001b[49m\u001b[43m,\u001b[49m\u001b[43m \u001b[49m\u001b[43my\u001b[49m\u001b[43m,\u001b[49m\u001b[43m \u001b[49m\u001b[43maccept_sparse\u001b[49m\u001b[38;5;241;43m=\u001b[39;49m\u001b[43maccept_sparse\u001b[49m\u001b[43m,\u001b[49m\u001b[43m \u001b[49m\u001b[43my_numeric\u001b[49m\u001b[38;5;241;43m=\u001b[39;49m\u001b[38;5;28;43;01mTrue\u001b[39;49;00m\u001b[43m,\u001b[49m\u001b[43m \u001b[49m\u001b[43mmulti_output\u001b[49m\u001b[38;5;241;43m=\u001b[39;49m\u001b[38;5;28;43;01mTrue\u001b[39;49;00m\n\u001b[0;32m    680\u001b[0m \u001b[43m\u001b[49m\u001b[43m)\u001b[49m\n\u001b[0;32m    682\u001b[0m has_sw \u001b[38;5;241m=\u001b[39m sample_weight \u001b[38;5;129;01mis\u001b[39;00m \u001b[38;5;129;01mnot\u001b[39;00m \u001b[38;5;28;01mNone\u001b[39;00m\n\u001b[0;32m    683\u001b[0m \u001b[38;5;28;01mif\u001b[39;00m has_sw:\n",
      "File \u001b[1;32mD:\\Python\\Lib\\site-packages\\sklearn\\base.py:622\u001b[0m, in \u001b[0;36mBaseEstimator._validate_data\u001b[1;34m(self, X, y, reset, validate_separately, cast_to_ndarray, **check_params)\u001b[0m\n\u001b[0;32m    620\u001b[0m         y \u001b[38;5;241m=\u001b[39m check_array(y, input_name\u001b[38;5;241m=\u001b[39m\u001b[38;5;124m\"\u001b[39m\u001b[38;5;124my\u001b[39m\u001b[38;5;124m\"\u001b[39m, \u001b[38;5;241m*\u001b[39m\u001b[38;5;241m*\u001b[39mcheck_y_params)\n\u001b[0;32m    621\u001b[0m     \u001b[38;5;28;01melse\u001b[39;00m:\n\u001b[1;32m--> 622\u001b[0m         X, y \u001b[38;5;241m=\u001b[39m \u001b[43mcheck_X_y\u001b[49m\u001b[43m(\u001b[49m\u001b[43mX\u001b[49m\u001b[43m,\u001b[49m\u001b[43m \u001b[49m\u001b[43my\u001b[49m\u001b[43m,\u001b[49m\u001b[43m \u001b[49m\u001b[38;5;241;43m*\u001b[39;49m\u001b[38;5;241;43m*\u001b[39;49m\u001b[43mcheck_params\u001b[49m\u001b[43m)\u001b[49m\n\u001b[0;32m    623\u001b[0m     out \u001b[38;5;241m=\u001b[39m X, y\n\u001b[0;32m    625\u001b[0m \u001b[38;5;28;01mif\u001b[39;00m \u001b[38;5;129;01mnot\u001b[39;00m no_val_X \u001b[38;5;129;01mand\u001b[39;00m check_params\u001b[38;5;241m.\u001b[39mget(\u001b[38;5;124m\"\u001b[39m\u001b[38;5;124mensure_2d\u001b[39m\u001b[38;5;124m\"\u001b[39m, \u001b[38;5;28;01mTrue\u001b[39;00m):\n",
      "File \u001b[1;32mD:\\Python\\Lib\\site-packages\\sklearn\\utils\\validation.py:1146\u001b[0m, in \u001b[0;36mcheck_X_y\u001b[1;34m(X, y, accept_sparse, accept_large_sparse, dtype, order, copy, force_all_finite, ensure_2d, allow_nd, multi_output, ensure_min_samples, ensure_min_features, y_numeric, estimator)\u001b[0m\n\u001b[0;32m   1141\u001b[0m         estimator_name \u001b[38;5;241m=\u001b[39m _check_estimator_name(estimator)\n\u001b[0;32m   1142\u001b[0m     \u001b[38;5;28;01mraise\u001b[39;00m \u001b[38;5;167;01mValueError\u001b[39;00m(\n\u001b[0;32m   1143\u001b[0m         \u001b[38;5;124mf\u001b[39m\u001b[38;5;124m\"\u001b[39m\u001b[38;5;132;01m{\u001b[39;00mestimator_name\u001b[38;5;132;01m}\u001b[39;00m\u001b[38;5;124m requires y to be passed, but the target y is None\u001b[39m\u001b[38;5;124m\"\u001b[39m\n\u001b[0;32m   1144\u001b[0m     )\n\u001b[1;32m-> 1146\u001b[0m X \u001b[38;5;241m=\u001b[39m \u001b[43mcheck_array\u001b[49m\u001b[43m(\u001b[49m\n\u001b[0;32m   1147\u001b[0m \u001b[43m    \u001b[49m\u001b[43mX\u001b[49m\u001b[43m,\u001b[49m\n\u001b[0;32m   1148\u001b[0m \u001b[43m    \u001b[49m\u001b[43maccept_sparse\u001b[49m\u001b[38;5;241;43m=\u001b[39;49m\u001b[43maccept_sparse\u001b[49m\u001b[43m,\u001b[49m\n\u001b[0;32m   1149\u001b[0m \u001b[43m    \u001b[49m\u001b[43maccept_large_sparse\u001b[49m\u001b[38;5;241;43m=\u001b[39;49m\u001b[43maccept_large_sparse\u001b[49m\u001b[43m,\u001b[49m\n\u001b[0;32m   1150\u001b[0m \u001b[43m    \u001b[49m\u001b[43mdtype\u001b[49m\u001b[38;5;241;43m=\u001b[39;49m\u001b[43mdtype\u001b[49m\u001b[43m,\u001b[49m\n\u001b[0;32m   1151\u001b[0m \u001b[43m    \u001b[49m\u001b[43morder\u001b[49m\u001b[38;5;241;43m=\u001b[39;49m\u001b[43morder\u001b[49m\u001b[43m,\u001b[49m\n\u001b[0;32m   1152\u001b[0m \u001b[43m    \u001b[49m\u001b[43mcopy\u001b[49m\u001b[38;5;241;43m=\u001b[39;49m\u001b[43mcopy\u001b[49m\u001b[43m,\u001b[49m\n\u001b[0;32m   1153\u001b[0m \u001b[43m    \u001b[49m\u001b[43mforce_all_finite\u001b[49m\u001b[38;5;241;43m=\u001b[39;49m\u001b[43mforce_all_finite\u001b[49m\u001b[43m,\u001b[49m\n\u001b[0;32m   1154\u001b[0m \u001b[43m    \u001b[49m\u001b[43mensure_2d\u001b[49m\u001b[38;5;241;43m=\u001b[39;49m\u001b[43mensure_2d\u001b[49m\u001b[43m,\u001b[49m\n\u001b[0;32m   1155\u001b[0m \u001b[43m    \u001b[49m\u001b[43mallow_nd\u001b[49m\u001b[38;5;241;43m=\u001b[39;49m\u001b[43mallow_nd\u001b[49m\u001b[43m,\u001b[49m\n\u001b[0;32m   1156\u001b[0m \u001b[43m    \u001b[49m\u001b[43mensure_min_samples\u001b[49m\u001b[38;5;241;43m=\u001b[39;49m\u001b[43mensure_min_samples\u001b[49m\u001b[43m,\u001b[49m\n\u001b[0;32m   1157\u001b[0m \u001b[43m    \u001b[49m\u001b[43mensure_min_features\u001b[49m\u001b[38;5;241;43m=\u001b[39;49m\u001b[43mensure_min_features\u001b[49m\u001b[43m,\u001b[49m\n\u001b[0;32m   1158\u001b[0m \u001b[43m    \u001b[49m\u001b[43mestimator\u001b[49m\u001b[38;5;241;43m=\u001b[39;49m\u001b[43mestimator\u001b[49m\u001b[43m,\u001b[49m\n\u001b[0;32m   1159\u001b[0m \u001b[43m    \u001b[49m\u001b[43minput_name\u001b[49m\u001b[38;5;241;43m=\u001b[39;49m\u001b[38;5;124;43m\"\u001b[39;49m\u001b[38;5;124;43mX\u001b[39;49m\u001b[38;5;124;43m\"\u001b[39;49m\u001b[43m,\u001b[49m\n\u001b[0;32m   1160\u001b[0m \u001b[43m\u001b[49m\u001b[43m)\u001b[49m\n\u001b[0;32m   1162\u001b[0m y \u001b[38;5;241m=\u001b[39m _check_y(y, multi_output\u001b[38;5;241m=\u001b[39mmulti_output, y_numeric\u001b[38;5;241m=\u001b[39my_numeric, estimator\u001b[38;5;241m=\u001b[39mestimator)\n\u001b[0;32m   1164\u001b[0m check_consistent_length(X, y)\n",
      "File \u001b[1;32mD:\\Python\\Lib\\site-packages\\sklearn\\utils\\validation.py:938\u001b[0m, in \u001b[0;36mcheck_array\u001b[1;34m(array, accept_sparse, accept_large_sparse, dtype, order, copy, force_all_finite, ensure_2d, allow_nd, ensure_min_samples, ensure_min_features, estimator, input_name)\u001b[0m\n\u001b[0;32m    936\u001b[0m     \u001b[38;5;66;03m# If input is 1D raise error\u001b[39;00m\n\u001b[0;32m    937\u001b[0m     \u001b[38;5;28;01mif\u001b[39;00m array\u001b[38;5;241m.\u001b[39mndim \u001b[38;5;241m==\u001b[39m \u001b[38;5;241m1\u001b[39m:\n\u001b[1;32m--> 938\u001b[0m         \u001b[38;5;28;01mraise\u001b[39;00m \u001b[38;5;167;01mValueError\u001b[39;00m(\n\u001b[0;32m    939\u001b[0m             \u001b[38;5;124m\"\u001b[39m\u001b[38;5;124mExpected 2D array, got 1D array instead:\u001b[39m\u001b[38;5;130;01m\\n\u001b[39;00m\u001b[38;5;124marray=\u001b[39m\u001b[38;5;132;01m{}\u001b[39;00m\u001b[38;5;124m.\u001b[39m\u001b[38;5;130;01m\\n\u001b[39;00m\u001b[38;5;124m\"\u001b[39m\n\u001b[0;32m    940\u001b[0m             \u001b[38;5;124m\"\u001b[39m\u001b[38;5;124mReshape your data either using array.reshape(-1, 1) if \u001b[39m\u001b[38;5;124m\"\u001b[39m\n\u001b[0;32m    941\u001b[0m             \u001b[38;5;124m\"\u001b[39m\u001b[38;5;124myour data has a single feature or array.reshape(1, -1) \u001b[39m\u001b[38;5;124m\"\u001b[39m\n\u001b[0;32m    942\u001b[0m             \u001b[38;5;124m\"\u001b[39m\u001b[38;5;124mif it contains a single sample.\u001b[39m\u001b[38;5;124m\"\u001b[39m\u001b[38;5;241m.\u001b[39mformat(array)\n\u001b[0;32m    943\u001b[0m         )\n\u001b[0;32m    945\u001b[0m \u001b[38;5;28;01mif\u001b[39;00m dtype_numeric \u001b[38;5;129;01mand\u001b[39;00m \u001b[38;5;28mhasattr\u001b[39m(array\u001b[38;5;241m.\u001b[39mdtype, \u001b[38;5;124m\"\u001b[39m\u001b[38;5;124mkind\u001b[39m\u001b[38;5;124m\"\u001b[39m) \u001b[38;5;129;01mand\u001b[39;00m array\u001b[38;5;241m.\u001b[39mdtype\u001b[38;5;241m.\u001b[39mkind \u001b[38;5;129;01min\u001b[39;00m \u001b[38;5;124m\"\u001b[39m\u001b[38;5;124mUSV\u001b[39m\u001b[38;5;124m\"\u001b[39m:\n\u001b[0;32m    946\u001b[0m     \u001b[38;5;28;01mraise\u001b[39;00m \u001b[38;5;167;01mValueError\u001b[39;00m(\n\u001b[0;32m    947\u001b[0m         \u001b[38;5;124m\"\u001b[39m\u001b[38;5;124mdtype=\u001b[39m\u001b[38;5;124m'\u001b[39m\u001b[38;5;124mnumeric\u001b[39m\u001b[38;5;124m'\u001b[39m\u001b[38;5;124m is not compatible with arrays of bytes/strings.\u001b[39m\u001b[38;5;124m\"\u001b[39m\n\u001b[0;32m    948\u001b[0m         \u001b[38;5;124m\"\u001b[39m\u001b[38;5;124mConvert your data to numeric values explicitly instead.\u001b[39m\u001b[38;5;124m\"\u001b[39m\n\u001b[0;32m    949\u001b[0m     )\n",
      "\u001b[1;31mValueError\u001b[0m: Expected 2D array, got 1D array instead:\narray=[230.1  44.5  17.2 151.5 180.8   8.7  57.5 120.2   8.6 199.8  66.1 214.7\n  23.8  97.5 204.1 195.4  67.8 281.4  69.2 147.3 218.4 237.4  13.2 228.3\n  62.3 262.9 142.9 240.1 248.8  70.6 292.9 112.9  97.2 265.6  95.7 290.7\n 266.9  74.7  43.1 228.  202.5 177.  293.6 206.9  25.1 175.1  89.7 239.9\n 227.2  66.9 199.8 100.4 216.4 182.6 262.7 198.9   7.3 136.2 210.8 210.7\n  53.5 261.3 239.3 102.7 131.1  69.   31.5 139.3 237.4 216.8 199.1 109.8\n  26.8 129.4 213.4  16.9  27.5 120.5   5.4 116.   76.4 239.8  75.3  68.4\n 213.5 193.2  76.3 110.7  88.3 109.8 134.3  28.6 217.7 250.9 107.4 163.3\n 197.6 184.9 289.7 135.2 222.4 296.4 280.2 187.9 238.2 137.9  25.   90.4\n  13.1 255.4 225.8 241.7 175.7 209.6  78.2  75.1 139.2  76.4 125.7  19.4\n 141.3  18.8 224.  123.1 229.5  87.2   7.8  80.2 220.3  59.6   0.7 265.2\n   8.4 219.8  36.9  48.3  25.6 273.7  43.  184.9  73.4 193.7 220.5 104.6\n  96.2 140.3 240.1 243.2  38.   44.7 280.7 121.  197.6 171.3 187.8   4.1\n  93.9 149.8  11.7 131.7 172.5  85.7 188.4 163.5 117.2 234.5  17.9 206.8\n 215.4 284.3  50.  164.5  19.6 168.4 222.4 276.9 248.4 170.2 276.7 165.6\n 156.6 218.5  56.2 287.6 253.8 205.  139.5 191.1 286.   18.7  39.5  75.5\n  17.2 166.8 149.7  38.2  94.2 177.  283.6 232.1].\nReshape your data either using array.reshape(-1, 1) if your data has a single feature or array.reshape(1, -1) if it contains a single sample."
     ]
    }
   ],
   "source": [
    "model = LinearRegression()\n",
    "model.fit(X, y)"
   ]
  },
  {
   "cell_type": "code",
   "execution_count": 7,
   "id": "4cbef1cd-d31f-4474-8c35-3ae5b11e2ae8",
   "metadata": {},
   "outputs": [
    {
     "ename": "NotFittedError",
     "evalue": "This LinearRegression instance is not fitted yet. Call 'fit' with appropriate arguments before using this estimator.",
     "output_type": "error",
     "traceback": [
      "\u001b[1;31m---------------------------------------------------------------------------\u001b[0m",
      "\u001b[1;31mNotFittedError\u001b[0m                            Traceback (most recent call last)",
      "Cell \u001b[1;32mIn[7], line 2\u001b[0m\n\u001b[0;32m      1\u001b[0m plt\u001b[38;5;241m.\u001b[39mscatter(df[\u001b[38;5;124m'\u001b[39m\u001b[38;5;124mTV\u001b[39m\u001b[38;5;124m'\u001b[39m], df[\u001b[38;5;124m'\u001b[39m\u001b[38;5;124msales\u001b[39m\u001b[38;5;124m'\u001b[39m])\n\u001b[1;32m----> 2\u001b[0m plt\u001b[38;5;241m.\u001b[39mplot(df[\u001b[38;5;124m'\u001b[39m\u001b[38;5;124mTV\u001b[39m\u001b[38;5;124m'\u001b[39m], \u001b[43mmodel\u001b[49m\u001b[38;5;241;43m.\u001b[39;49m\u001b[43mpredict\u001b[49m\u001b[43m(\u001b[49m\u001b[43mX\u001b[49m\u001b[43m)\u001b[49m, color\u001b[38;5;241m=\u001b[39m\u001b[38;5;124m'\u001b[39m\u001b[38;5;124morange\u001b[39m\u001b[38;5;124m'\u001b[39m)\n\u001b[0;32m      3\u001b[0m plt\u001b[38;5;241m.\u001b[39mshow()\n",
      "File \u001b[1;32mD:\\Python\\Lib\\site-packages\\sklearn\\linear_model\\_base.py:386\u001b[0m, in \u001b[0;36mLinearModel.predict\u001b[1;34m(self, X)\u001b[0m\n\u001b[0;32m    372\u001b[0m \u001b[38;5;28;01mdef\u001b[39;00m \u001b[38;5;21mpredict\u001b[39m(\u001b[38;5;28mself\u001b[39m, X):\n\u001b[0;32m    373\u001b[0m \u001b[38;5;250m    \u001b[39m\u001b[38;5;124;03m\"\"\"\u001b[39;00m\n\u001b[0;32m    374\u001b[0m \u001b[38;5;124;03m    Predict using the linear model.\u001b[39;00m\n\u001b[0;32m    375\u001b[0m \n\u001b[1;32m   (...)\u001b[0m\n\u001b[0;32m    384\u001b[0m \u001b[38;5;124;03m        Returns predicted values.\u001b[39;00m\n\u001b[0;32m    385\u001b[0m \u001b[38;5;124;03m    \"\"\"\u001b[39;00m\n\u001b[1;32m--> 386\u001b[0m     \u001b[38;5;28;01mreturn\u001b[39;00m \u001b[38;5;28;43mself\u001b[39;49m\u001b[38;5;241;43m.\u001b[39;49m\u001b[43m_decision_function\u001b[49m\u001b[43m(\u001b[49m\u001b[43mX\u001b[49m\u001b[43m)\u001b[49m\n",
      "File \u001b[1;32mD:\\Python\\Lib\\site-packages\\sklearn\\linear_model\\_base.py:367\u001b[0m, in \u001b[0;36mLinearModel._decision_function\u001b[1;34m(self, X)\u001b[0m\n\u001b[0;32m    366\u001b[0m \u001b[38;5;28;01mdef\u001b[39;00m \u001b[38;5;21m_decision_function\u001b[39m(\u001b[38;5;28mself\u001b[39m, X):\n\u001b[1;32m--> 367\u001b[0m     \u001b[43mcheck_is_fitted\u001b[49m\u001b[43m(\u001b[49m\u001b[38;5;28;43mself\u001b[39;49m\u001b[43m)\u001b[49m\n\u001b[0;32m    369\u001b[0m     X \u001b[38;5;241m=\u001b[39m \u001b[38;5;28mself\u001b[39m\u001b[38;5;241m.\u001b[39m_validate_data(X, accept_sparse\u001b[38;5;241m=\u001b[39m[\u001b[38;5;124m\"\u001b[39m\u001b[38;5;124mcsr\u001b[39m\u001b[38;5;124m\"\u001b[39m, \u001b[38;5;124m\"\u001b[39m\u001b[38;5;124mcsc\u001b[39m\u001b[38;5;124m\"\u001b[39m, \u001b[38;5;124m\"\u001b[39m\u001b[38;5;124mcoo\u001b[39m\u001b[38;5;124m\"\u001b[39m], reset\u001b[38;5;241m=\u001b[39m\u001b[38;5;28;01mFalse\u001b[39;00m)\n\u001b[0;32m    370\u001b[0m     \u001b[38;5;28;01mreturn\u001b[39;00m safe_sparse_dot(X, \u001b[38;5;28mself\u001b[39m\u001b[38;5;241m.\u001b[39mcoef_\u001b[38;5;241m.\u001b[39mT, dense_output\u001b[38;5;241m=\u001b[39m\u001b[38;5;28;01mTrue\u001b[39;00m) \u001b[38;5;241m+\u001b[39m \u001b[38;5;28mself\u001b[39m\u001b[38;5;241m.\u001b[39mintercept_\n",
      "File \u001b[1;32mD:\\Python\\Lib\\site-packages\\sklearn\\utils\\validation.py:1461\u001b[0m, in \u001b[0;36mcheck_is_fitted\u001b[1;34m(estimator, attributes, msg, all_or_any)\u001b[0m\n\u001b[0;32m   1458\u001b[0m     \u001b[38;5;28;01mraise\u001b[39;00m \u001b[38;5;167;01mTypeError\u001b[39;00m(\u001b[38;5;124m\"\u001b[39m\u001b[38;5;132;01m%s\u001b[39;00m\u001b[38;5;124m is not an estimator instance.\u001b[39m\u001b[38;5;124m\"\u001b[39m \u001b[38;5;241m%\u001b[39m (estimator))\n\u001b[0;32m   1460\u001b[0m \u001b[38;5;28;01mif\u001b[39;00m \u001b[38;5;129;01mnot\u001b[39;00m _is_fitted(estimator, attributes, all_or_any):\n\u001b[1;32m-> 1461\u001b[0m     \u001b[38;5;28;01mraise\u001b[39;00m NotFittedError(msg \u001b[38;5;241m%\u001b[39m {\u001b[38;5;124m\"\u001b[39m\u001b[38;5;124mname\u001b[39m\u001b[38;5;124m\"\u001b[39m: \u001b[38;5;28mtype\u001b[39m(estimator)\u001b[38;5;241m.\u001b[39m\u001b[38;5;18m__name__\u001b[39m})\n",
      "\u001b[1;31mNotFittedError\u001b[0m: This LinearRegression instance is not fitted yet. Call 'fit' with appropriate arguments before using this estimator."
     ]
    },
    {
     "data": {
      "image/png": "[encoded data removed]",
      "text/plain": [
       "<Figure size 640x480 with 1 Axes>"
      ]
     },
     "metadata": {},
     "output_type": "display_data"
    }
   ],
   "source": [
    "plt.scatter(df['TV'], df['sales'])\n",
    "plt.plot(df['TV'], model.predict(X), color='orange')\n",
    "plt.show()"
   ]
  },
  {
   "cell_type": "code",
   "execution_count": null,
   "id": "9a1e5770-4e14-42b1-9e98-23bb37aa85d5",
   "metadata": {},
   "outputs": [],
   "source": [
    "## Display the fitted model (fitted equation)"
   ]
  },
  {
   "cell_type": "markdown",
   "id": "e84fb852-27cc-43bb-b7fd-c5e32b8fc973",
   "metadata": {},
   "source": [
    "## Model Fit ($R^2$)\n",
    "- One of the most common numerical measures of model fit is the $R^2$\n",
    "- $R^2 = 1 - \\frac{\\sum_{i} (y_i - \\hat{y}_i)^2}{\\sum_{i}(y_i - \\overline{y}_i)^2} = 1 - \\frac{RSS}{TSS}$\n",
    "- $R^2$ = The fraction of variance explained\n",
    "- An $R^2$ value close to 1 indicates that the model explains a large portion of the variance in the response variable"
   ]
  },
  {
   "cell_type": "code",
   "execution_count": null,
   "id": "09e79735-86a5-4d7c-ab7d-1362e125d385",
   "metadata": {},
   "outputs": [],
   "source": [
    "## compute R^2 (help model.score)\n",
    "display(Latex(f'$R^2 = {r_sq:.3f}$'))"
   ]
  },
  {
   "cell_type": "markdown",
   "id": "9ea95877-bbb6-4f36-93ba-354bbf9dcb54",
   "metadata": {},
   "source": [
    "## Using 2 variables (TV and Radio)  \n",
    "- $sales = \\beta_0 + \\beta_1 * TV + \\beta_2 * radio$"
   ]
  },
  {
   "cell_type": "code",
   "execution_count": null,
   "id": "8877ff98-5c69-44a9-9de2-840ba657189e",
   "metadata": {},
   "outputs": [],
   "source": [
    "## Train a regression model where predictors are TV and radio and the response is y"
   ]
  },
  {
   "cell_type": "code",
   "execution_count": null,
   "id": "179ae7bf-26a9-4d49-86bf-ff3be6197022",
   "metadata": {},
   "outputs": [],
   "source": [
    "model = LinearRegression()\n",
    "model.fit(X, y)"
   ]
  },
  {
   "cell_type": "code",
   "execution_count": null,
   "id": "5c622609-2ace-4142-8910-a15b68023e6a",
   "metadata": {},
   "outputs": [],
   "source": [
    "display(Latex(f'Fitted model is $sales = {model.intercept_:.3f} + {model.coef_[0]:.3f} * TV + {model.coef_[1]:.3f} * radio$'))"
   ]
  },
  {
   "cell_type": "code",
   "execution_count": null,
   "id": "018a2648-f694-4be0-bcc7-0e6070bdda27",
   "metadata": {},
   "outputs": [],
   "source": [
    "r_sq = model.score(X, y)\n",
    "display(Latex(f'$R^2 = {r_sq:.4f}$'))"
   ]
  },
  {
   "cell_type": "markdown",
   "id": "cd14210d-0def-4298-b546-78ffba61d9a4",
   "metadata": {},
   "source": [
    "## Using 2 variables (TV and newspaper)  \n",
    "- $sales = \\beta_0 + \\beta_1 * TV + \\beta_2 * newspaper$"
   ]
  },
  {
   "cell_type": "code",
   "execution_count": null,
   "id": "ab99938f-7bfe-49ca-9ede-004effe1c6c8",
   "metadata": {},
   "outputs": [],
   "source": [
    "X = ?\n",
    "y = ?"
   ]
  },
  {
   "cell_type": "code",
   "execution_count": null,
   "id": "d2e82caf-f822-46cc-80d7-dca4813b28a3",
   "metadata": {},
   "outputs": [],
   "source": [
    "model = LinearRegression()\n",
    "model.fit(X, y)"
   ]
  },
  {
   "cell_type": "code",
   "execution_count": null,
   "id": "d59dddf8-91c7-4a75-bdc3-86c8a7c1eda4",
   "metadata": {},
   "outputs": [],
   "source": [
    "display(Latex(f'Fitted model is $sales = {model.intercept_:.3f} + {model.coef_[0]:.3f} * TV + {model.coef_[1]:.3f} * newspaper$'))"
   ]
  },
  {
   "cell_type": "code",
   "execution_count": null,
   "id": "cbcfed96-a097-40ea-b3b4-81562695a65d",
   "metadata": {},
   "outputs": [],
   "source": [
    "r_sq = model.score(X, y)\n",
    "display(Latex(f'$R^2 = {r_sq:.4f}$'))"
   ]
  },
  {
   "cell_type": "markdown",
   "id": "acaa9db6-47b6-4295-8968-2028635f0100",
   "metadata": {},
   "source": [
    "## Using all the three variables (TV, radio and newspaper)  \n",
    "- $sales = \\beta_0 + \\beta_1 * TV + \\beta_2 * radio + \\beta_3 * newspaper$"
   ]
  },
  {
   "cell_type": "code",
   "execution_count": null,
   "id": "f8118c35-07c1-476c-b0be-c795d8c5c4d2",
   "metadata": {},
   "outputs": [],
   "source": [
    "X = df[['TV', 'radio', 'newspaper']]\n",
    "y = df['sales']"
   ]
  },
  {
   "cell_type": "code",
   "execution_count": null,
   "id": "7c0b7e21-bf25-4803-a650-37031aff50bf",
   "metadata": {},
   "outputs": [],
   "source": [
    "model = LinearRegression()\n",
    "model.fit(X, y)"
   ]
  },
  {
   "cell_type": "code",
   "execution_count": null,
   "id": "1488c3b0-0bde-4251-8e26-02619a490489",
   "metadata": {},
   "outputs": [],
   "source": [
    "display(Latex(f'Fitted model is $sales = {model.intercept_:.3f} + {model.coef_[0]:.3f} * TV + {model.coef_[1]:.3f} * radio + {model.coef_[2]:.3f} * newspaper$'))"
   ]
  },
  {
   "cell_type": "code",
   "execution_count": null,
   "id": "d50734d8-ada9-4c9d-a2cb-2a84efe27efe",
   "metadata": {},
   "outputs": [],
   "source": [
    "r_sq = model.score(X, y)\n",
    "display(Latex(f'$R^2 = {r_sq:.4f}$'))"
   ]
  },
  {
   "cell_type": "code",
   "execution_count": null,
   "id": "f2f7d81d-bf81-43d3-91f1-93a0c091ec87",
   "metadata": {},
   "outputs": [],
   "source": [
    "fig = plt.figure()\n",
    "ax = fig.add_subplot(projection='3d')\n",
    "ax.scatter(df['TV'], df['radio'], df['sales'])\n",
    "#ax.plot_surface(xx, yy, z, color = 'cyan')\n",
    "ax.set_xlabel('TV')\n",
    "ax.set_ylabel('Radio')\n",
    "ax.set_zlabel('Sales')\n",
    "plt.show()"
   ]
  },
  {
   "cell_type": "markdown",
   "id": "071104cd-b9b5-497a-bee6-dbf722855c10",
   "metadata": {},
   "source": [
    "## More details from statsmodel"
   ]
  },
  {
   "cell_type": "code",
   "execution_count": 8,
   "id": "01326884-853e-4e75-87dd-0d96b16ea971",
   "metadata": {},
   "outputs": [],
   "source": [
    "import statsmodels.api as sm"
   ]
  },
  {
   "cell_type": "code",
   "execution_count": 9,
   "id": "38adbfa6-cac3-4119-adc9-a10919a45cf7",
   "metadata": {},
   "outputs": [],
   "source": [
    "X = df[['TV', 'radio', 'newspaper']]\n",
    "X = sm.add_constant(X)\n",
    "y = df['sales']"
   ]
  },
  {
   "cell_type": "code",
   "execution_count": 10,
   "id": "6f427f46-6397-408b-8852-542597d6c333",
   "metadata": {},
   "outputs": [
    {
     "data": {
      "text/html": [
       "<table class=\"simpletable\">\n",
       "<caption>OLS Regression Results</caption>\n",
       "<tr>\n",
       "  <th>Dep. Variable:</th>          <td>sales</td>      <th>  R-squared:         </th> <td>   0.897</td>\n",
       "</tr>\n",
       "<tr>\n",
       "  <th>Model:</th>                   <td>OLS</td>       <th>  Adj. R-squared:    </th> <td>   0.896</td>\n",
       "</tr>\n",
       "<tr>\n",
       "  <th>Method:</th>             <td>Least Squares</td>  <th>  F-statistic:       </th> <td>   570.3</td>\n",
       "</tr>\n",
       "<tr>\n",
       "  <th>Date:</th>             <td>Sun, 26 Jan 2025</td> <th>  Prob (F-statistic):</th> <td>1.58e-96</td>\n",
       "</tr>\n",
       "<tr>\n",
       "  <th>Time:</th>                 <td>22:19:53</td>     <th>  Log-Likelihood:    </th> <td> -386.18</td>\n",
       "</tr>\n",
       "<tr>\n",
       "  <th>No. Observations:</th>      <td>   200</td>      <th>  AIC:               </th> <td>   780.4</td>\n",
       "</tr>\n",
       "<tr>\n",
       "  <th>Df Residuals:</th>          <td>   196</td>      <th>  BIC:               </th> <td>   793.6</td>\n",
       "</tr>\n",
       "<tr>\n",
       "  <th>Df Model:</th>              <td>     3</td>      <th>                     </th>     <td> </td>   \n",
       "</tr>\n",
       "<tr>\n",
       "  <th>Covariance Type:</th>      <td>nonrobust</td>    <th>                     </th>     <td> </td>   \n",
       "</tr>\n",
       "</table>\n",
       "<table class=\"simpletable\">\n",
       "<tr>\n",
       "      <td></td>         <th>coef</th>     <th>std err</th>      <th>t</th>      <th>P>|t|</th>  <th>[0.025</th>    <th>0.975]</th>  \n",
       "</tr>\n",
       "<tr>\n",
       "  <th>const</th>     <td>    2.9389</td> <td>    0.312</td> <td>    9.422</td> <td> 0.000</td> <td>    2.324</td> <td>    3.554</td>\n",
       "</tr>\n",
       "<tr>\n",
       "  <th>TV</th>        <td>    0.0458</td> <td>    0.001</td> <td>   32.809</td> <td> 0.000</td> <td>    0.043</td> <td>    0.049</td>\n",
       "</tr>\n",
       "<tr>\n",
       "  <th>radio</th>     <td>    0.1885</td> <td>    0.009</td> <td>   21.893</td> <td> 0.000</td> <td>    0.172</td> <td>    0.206</td>\n",
       "</tr>\n",
       "<tr>\n",
       "  <th>newspaper</th> <td>   -0.0010</td> <td>    0.006</td> <td>   -0.177</td> <td> 0.860</td> <td>   -0.013</td> <td>    0.011</td>\n",
       "</tr>\n",
       "</table>\n",
       "<table class=\"simpletable\">\n",
       "<tr>\n",
       "  <th>Omnibus:</th>       <td>60.414</td> <th>  Durbin-Watson:     </th> <td>   2.084</td>\n",
       "</tr>\n",
       "<tr>\n",
       "  <th>Prob(Omnibus):</th> <td> 0.000</td> <th>  Jarque-Bera (JB):  </th> <td> 151.241</td>\n",
       "</tr>\n",
       "<tr>\n",
       "  <th>Skew:</th>          <td>-1.327</td> <th>  Prob(JB):          </th> <td>1.44e-33</td>\n",
       "</tr>\n",
       "<tr>\n",
       "  <th>Kurtosis:</th>      <td> 6.332</td> <th>  Cond. No.          </th> <td>    454.</td>\n",
       "</tr>\n",
       "</table><br/><br/>Notes:<br/>[1] Standard Errors assume that the covariance matrix of the errors is correctly specified."
      ],
      "text/latex": [
       "\\begin{center}\n",
       "\\begin{tabular}{lclc}\n",
       "\\toprule\n",
       "\\textbf{Dep. Variable:}    &      sales       & \\textbf{  R-squared:         } &     0.897   \\\\\n",
       "\\textbf{Model:}            &       OLS        & \\textbf{  Adj. R-squared:    } &     0.896   \\\\\n",
       "\\textbf{Method:}           &  Least Squares   & \\textbf{  F-statistic:       } &     570.3   \\\\\n",
       "\\textbf{Date:}             & Sun, 26 Jan 2025 & \\textbf{  Prob (F-statistic):} &  1.58e-96   \\\\\n",
       "\\textbf{Time:}             &     22:19:53     & \\textbf{  Log-Likelihood:    } &   -386.18   \\\\\n",
       "\\textbf{No. Observations:} &         200      & \\textbf{  AIC:               } &     780.4   \\\\\n",
       "\\textbf{Df Residuals:}     &         196      & \\textbf{  BIC:               } &     793.6   \\\\\n",
       "\\textbf{Df Model:}         &           3      & \\textbf{                     } &             \\\\\n",
       "\\textbf{Covariance Type:}  &    nonrobust     & \\textbf{                     } &             \\\\\n",
       "\\bottomrule\n",
       "\\end{tabular}\n",
       "\\begin{tabular}{lcccccc}\n",
       "                   & \\textbf{coef} & \\textbf{std err} & \\textbf{t} & \\textbf{P$> |$t$|$} & \\textbf{[0.025} & \\textbf{0.975]}  \\\\\n",
       "\\midrule\n",
       "\\textbf{const}     &       2.9389  &        0.312     &     9.422  &         0.000        &        2.324    &        3.554     \\\\\n",
       "\\textbf{TV}        &       0.0458  &        0.001     &    32.809  &         0.000        &        0.043    &        0.049     \\\\\n",
       "\\textbf{radio}     &       0.1885  &        0.009     &    21.893  &         0.000        &        0.172    &        0.206     \\\\\n",
       "\\textbf{newspaper} &      -0.0010  &        0.006     &    -0.177  &         0.860        &       -0.013    &        0.011     \\\\\n",
       "\\bottomrule\n",
       "\\end{tabular}\n",
       "\\begin{tabular}{lclc}\n",
       "\\textbf{Omnibus:}       & 60.414 & \\textbf{  Durbin-Watson:     } &    2.084  \\\\\n",
       "\\textbf{Prob(Omnibus):} &  0.000 & \\textbf{  Jarque-Bera (JB):  } &  151.241  \\\\\n",
       "\\textbf{Skew:}          & -1.327 & \\textbf{  Prob(JB):          } & 1.44e-33  \\\\\n",
       "\\textbf{Kurtosis:}      &  6.332 & \\textbf{  Cond. No.          } &     454.  \\\\\n",
       "\\bottomrule\n",
       "\\end{tabular}\n",
       "%\\caption{OLS Regression Results}\n",
       "\\end{center}\n",
       "\n",
       "Notes: \\newline\n",
       " [1] Standard Errors assume that the covariance matrix of the errors is correctly specified."
      ],
      "text/plain": [
       "<class 'statsmodels.iolib.summary.Summary'>\n",
       "\"\"\"\n",
       "                            OLS Regression Results                            \n",
       "==============================================================================\n",
       "Dep. Variable:                  sales   R-squared:                       0.897\n",
       "Model:                            OLS   Adj. R-squared:                  0.896\n",
       "Method:                 Least Squares   F-statistic:                     570.3\n",
       "Date:                Sun, 26 Jan 2025   Prob (F-statistic):           1.58e-96\n",
       "Time:                        22:19:53   Log-Likelihood:                -386.18\n",
       "No. Observations:                 200   AIC:                             780.4\n",
       "Df Residuals:                     196   BIC:                             793.6\n",
       "Df Model:                           3                                         \n",
       "Covariance Type:            nonrobust                                         \n",
       "==============================================================================\n",
       "                 coef    std err          t      P>|t|      [0.025      0.975]\n",
       "------------------------------------------------------------------------------\n",
       "const          2.9389      0.312      9.422      0.000       2.324       3.554\n",
       "TV             0.0458      0.001     32.809      0.000       0.043       0.049\n",
       "radio          0.1885      0.009     21.893      0.000       0.172       0.206\n",
       "newspaper     -0.0010      0.006     -0.177      0.860      -0.013       0.011\n",
       "==============================================================================\n",
       "Omnibus:                       60.414   Durbin-Watson:                   2.084\n",
       "Prob(Omnibus):                  0.000   Jarque-Bera (JB):              151.241\n",
       "Skew:                          -1.327   Prob(JB):                     1.44e-33\n",
       "Kurtosis:                       6.332   Cond. No.                         454.\n",
       "==============================================================================\n",
       "\n",
       "Notes:\n",
       "[1] Standard Errors assume that the covariance matrix of the errors is correctly specified.\n",
       "\"\"\""
      ]
     },
     "execution_count": 10,
     "metadata": {},
     "output_type": "execute_result"
    }
   ],
   "source": [
    "model = sm.OLS(y, X, missing='drop')\n",
    "model_result = model.fit()\n",
    "model_result.summary()"
   ]
  },
  {
   "cell_type": "code",
   "execution_count": 11,
   "id": "fc7df2ec-ad3f-40ba-ac98-d58eea7ceb7a",
   "metadata": {},
   "outputs": [],
   "source": [
    "X = df[['TV', 'radio']]\n",
    "X = sm.add_constant(X)\n",
    "y = df['sales']"
   ]
  },
  {
   "cell_type": "code",
   "execution_count": 12,
   "id": "67bdfa13-c921-4762-b8d3-b9bfa1103a2c",
   "metadata": {},
   "outputs": [
    {
     "data": {
      "text/html": [
       "<table class=\"simpletable\">\n",
       "<caption>OLS Regression Results</caption>\n",
       "<tr>\n",
       "  <th>Dep. Variable:</th>          <td>sales</td>      <th>  R-squared:         </th> <td>   0.897</td>\n",
       "</tr>\n",
       "<tr>\n",
       "  <th>Model:</th>                   <td>OLS</td>       <th>  Adj. R-squared:    </th> <td>   0.896</td>\n",
       "</tr>\n",
       "<tr>\n",
       "  <th>Method:</th>             <td>Least Squares</td>  <th>  F-statistic:       </th> <td>   859.6</td>\n",
       "</tr>\n",
       "<tr>\n",
       "  <th>Date:</th>             <td>Sun, 26 Jan 2025</td> <th>  Prob (F-statistic):</th> <td>4.83e-98</td>\n",
       "</tr>\n",
       "<tr>\n",
       "  <th>Time:</th>                 <td>22:19:55</td>     <th>  Log-Likelihood:    </th> <td> -386.20</td>\n",
       "</tr>\n",
       "<tr>\n",
       "  <th>No. Observations:</th>      <td>   200</td>      <th>  AIC:               </th> <td>   778.4</td>\n",
       "</tr>\n",
       "<tr>\n",
       "  <th>Df Residuals:</th>          <td>   197</td>      <th>  BIC:               </th> <td>   788.3</td>\n",
       "</tr>\n",
       "<tr>\n",
       "  <th>Df Model:</th>              <td>     2</td>      <th>                     </th>     <td> </td>   \n",
       "</tr>\n",
       "<tr>\n",
       "  <th>Covariance Type:</th>      <td>nonrobust</td>    <th>                     </th>     <td> </td>   \n",
       "</tr>\n",
       "</table>\n",
       "<table class=\"simpletable\">\n",
       "<tr>\n",
       "    <td></td>       <th>coef</th>     <th>std err</th>      <th>t</th>      <th>P>|t|</th>  <th>[0.025</th>    <th>0.975]</th>  \n",
       "</tr>\n",
       "<tr>\n",
       "  <th>const</th> <td>    2.9211</td> <td>    0.294</td> <td>    9.919</td> <td> 0.000</td> <td>    2.340</td> <td>    3.502</td>\n",
       "</tr>\n",
       "<tr>\n",
       "  <th>TV</th>    <td>    0.0458</td> <td>    0.001</td> <td>   32.909</td> <td> 0.000</td> <td>    0.043</td> <td>    0.048</td>\n",
       "</tr>\n",
       "<tr>\n",
       "  <th>radio</th> <td>    0.1880</td> <td>    0.008</td> <td>   23.382</td> <td> 0.000</td> <td>    0.172</td> <td>    0.204</td>\n",
       "</tr>\n",
       "</table>\n",
       "<table class=\"simpletable\">\n",
       "<tr>\n",
       "  <th>Omnibus:</th>       <td>60.022</td> <th>  Durbin-Watson:     </th> <td>   2.081</td>\n",
       "</tr>\n",
       "<tr>\n",
       "  <th>Prob(Omnibus):</th> <td> 0.000</td> <th>  Jarque-Bera (JB):  </th> <td> 148.679</td>\n",
       "</tr>\n",
       "<tr>\n",
       "  <th>Skew:</th>          <td>-1.323</td> <th>  Prob(JB):          </th> <td>5.19e-33</td>\n",
       "</tr>\n",
       "<tr>\n",
       "  <th>Kurtosis:</th>      <td> 6.292</td> <th>  Cond. No.          </th> <td>    425.</td>\n",
       "</tr>\n",
       "</table><br/><br/>Notes:<br/>[1] Standard Errors assume that the covariance matrix of the errors is correctly specified."
      ],
      "text/latex": [
       "\\begin{center}\n",
       "\\begin{tabular}{lclc}\n",
       "\\toprule\n",
       "\\textbf{Dep. Variable:}    &      sales       & \\textbf{  R-squared:         } &     0.897   \\\\\n",
       "\\textbf{Model:}            &       OLS        & \\textbf{  Adj. R-squared:    } &     0.896   \\\\\n",
       "\\textbf{Method:}           &  Least Squares   & \\textbf{  F-statistic:       } &     859.6   \\\\\n",
       "\\textbf{Date:}             & Sun, 26 Jan 2025 & \\textbf{  Prob (F-statistic):} &  4.83e-98   \\\\\n",
       "\\textbf{Time:}             &     22:19:55     & \\textbf{  Log-Likelihood:    } &   -386.20   \\\\\n",
       "\\textbf{No. Observations:} &         200      & \\textbf{  AIC:               } &     778.4   \\\\\n",
       "\\textbf{Df Residuals:}     &         197      & \\textbf{  BIC:               } &     788.3   \\\\\n",
       "\\textbf{Df Model:}         &           2      & \\textbf{                     } &             \\\\\n",
       "\\textbf{Covariance Type:}  &    nonrobust     & \\textbf{                     } &             \\\\\n",
       "\\bottomrule\n",
       "\\end{tabular}\n",
       "\\begin{tabular}{lcccccc}\n",
       "               & \\textbf{coef} & \\textbf{std err} & \\textbf{t} & \\textbf{P$> |$t$|$} & \\textbf{[0.025} & \\textbf{0.975]}  \\\\\n",
       "\\midrule\n",
       "\\textbf{const} &       2.9211  &        0.294     &     9.919  &         0.000        &        2.340    &        3.502     \\\\\n",
       "\\textbf{TV}    &       0.0458  &        0.001     &    32.909  &         0.000        &        0.043    &        0.048     \\\\\n",
       "\\textbf{radio} &       0.1880  &        0.008     &    23.382  &         0.000        &        0.172    &        0.204     \\\\\n",
       "\\bottomrule\n",
       "\\end{tabular}\n",
       "\\begin{tabular}{lclc}\n",
       "\\textbf{Omnibus:}       & 60.022 & \\textbf{  Durbin-Watson:     } &    2.081  \\\\\n",
       "\\textbf{Prob(Omnibus):} &  0.000 & \\textbf{  Jarque-Bera (JB):  } &  148.679  \\\\\n",
       "\\textbf{Skew:}          & -1.323 & \\textbf{  Prob(JB):          } & 5.19e-33  \\\\\n",
       "\\textbf{Kurtosis:}      &  6.292 & \\textbf{  Cond. No.          } &     425.  \\\\\n",
       "\\bottomrule\n",
       "\\end{tabular}\n",
       "%\\caption{OLS Regression Results}\n",
       "\\end{center}\n",
       "\n",
       "Notes: \\newline\n",
       " [1] Standard Errors assume that the covariance matrix of the errors is correctly specified."
      ],
      "text/plain": [
       "<class 'statsmodels.iolib.summary.Summary'>\n",
       "\"\"\"\n",
       "                            OLS Regression Results                            \n",
       "==============================================================================\n",
       "Dep. Variable:                  sales   R-squared:                       0.897\n",
       "Model:                            OLS   Adj. R-squared:                  0.896\n",
       "Method:                 Least Squares   F-statistic:                     859.6\n",
       "Date:                Sun, 26 Jan 2025   Prob (F-statistic):           4.83e-98\n",
       "Time:                        22:19:55   Log-Likelihood:                -386.20\n",
       "No. Observations:                 200   AIC:                             778.4\n",
       "Df Residuals:                     197   BIC:                             788.3\n",
       "Df Model:                           2                                         \n",
       "Covariance Type:            nonrobust                                         \n",
       "==============================================================================\n",
       "                 coef    std err          t      P>|t|      [0.025      0.975]\n",
       "------------------------------------------------------------------------------\n",
       "const          2.9211      0.294      9.919      0.000       2.340       3.502\n",
       "TV             0.0458      0.001     32.909      0.000       0.043       0.048\n",
       "radio          0.1880      0.008     23.382      0.000       0.172       0.204\n",
       "==============================================================================\n",
       "Omnibus:                       60.022   Durbin-Watson:                   2.081\n",
       "Prob(Omnibus):                  0.000   Jarque-Bera (JB):              148.679\n",
       "Skew:                          -1.323   Prob(JB):                     5.19e-33\n",
       "Kurtosis:                       6.292   Cond. No.                         425.\n",
       "==============================================================================\n",
       "\n",
       "Notes:\n",
       "[1] Standard Errors assume that the covariance matrix of the errors is correctly specified.\n",
       "\"\"\""
      ]
     },
     "execution_count": 12,
     "metadata": {},
     "output_type": "execute_result"
    }
   ],
   "source": [
    "model = sm.OLS(y, X, missing='drop')\n",
    "model_result = model.fit()\n",
    "model_result.summary()"
   ]
  },
  {
   "cell_type": "markdown",
   "id": "f010f017-5cd9-4faa-aa60-d84d1b5b2fed",
   "metadata": {},
   "source": [
    "## Diagnostics plot / Identify problems with regression model\n",
    "https://www.statsmodels.org/dev/examples/notebooks/generated/linear_regression_diagnostics_plots.html   \n",
    "https://www.statsmodels.org/dev/examples/notebooks/generated/regression_diagnostics.html  \n",
    "### Non-linearity\n",
    "- Plot residual vs fitted values"
   ]
  },
  {
   "cell_type": "code",
   "execution_count": 13,
   "id": "3250a8c4-f602-4e60-8585-8232515b150e",
   "metadata": {},
   "outputs": [],
   "source": [
    "from scipy import signal"
   ]
  },
  {
   "cell_type": "code",
   "execution_count": 14,
   "id": "cc98c219-bf94-4bd6-b571-878bf9836e9d",
   "metadata": {},
   "outputs": [],
   "source": [
    "df_result = pd.DataFrame({'x': model_result.fittedvalues, 'y': model_result.resid})\n",
    "df_result = df_result.sort_values(by = ['x'])"
   ]
  },
  {
   "cell_type": "code",
   "execution_count": 15,
   "id": "6d644f01-d1db-4014-a95c-1e22f8e594dd",
   "metadata": {},
   "outputs": [],
   "source": [
    "y=signal.savgol_filter(df_result['y'], 53, 3)"
   ]
  },
  {
   "cell_type": "code",
   "execution_count": 16,
   "id": "0d49f589-cae1-412b-8128-b3dde88b1d0e",
   "metadata": {
    "scrolled": true
   },
   "outputs": [
    {
     "data": {
      "image/png": "[encoded data removed]",
      "text/plain": [
       "<Figure size 640x480 with 1 Axes>"
      ]
     },
     "metadata": {},
     "output_type": "display_data"
    }
   ],
   "source": [
    "plt.scatter(df_result['x'], df_result['y'])\n",
    "plt.plot(df_result['x'], y, color = 'orange')\n",
    "plt.show()"
   ]
  },
  {
   "cell_type": "code",
   "execution_count": 17,
   "id": "7478eaf2-9ca5-4e2b-bdb9-c41060b8dcd4",
   "metadata": {},
   "outputs": [
    {
     "data": {
      "text/plain": [
       "1.858069254012662e-14"
      ]
     },
     "execution_count": 17,
     "metadata": {},
     "output_type": "execute_result"
    }
   ],
   "source": [
    "model_result.resid.mean()"
   ]
  },
  {
   "cell_type": "markdown",
   "id": "5814aef4-5a10-412a-8aa8-91accadcaf67",
   "metadata": {},
   "source": [
    "### Heteroskedasticity (Non constant variance)  \n",
    "-  When both the assumption of linearity and homoscedasticity are met, the points in the residual plot (residuals against predicted values) will be randomly scattered\n",
    "-  Gauss–Markov theorem does not apply, meaning that OLS estimators are not the Best Linear Unbiased Estimators (BLUE) and their variance is not the lowest of all other unbiased estimators\n",
    "-  Residuals can be tested for homoscedasticity using the Breusch–Pagan test\n",
    "-  Heteroscedasticity usually does not cause bias in the model estimates (i.e. regression coefficients), but it reduces precision in the estimates. The standard errors are often underestimated, leading to incorrect p-values and inferences"
   ]
  },
  {
   "cell_type": "markdown",
   "id": "41e4b73b-b1d8-439f-a34b-195724e24fc4",
   "metadata": {},
   "source": [
    "![title](constant_variance_check.png)"
   ]
  },
  {
   "cell_type": "markdown",
   "id": "b65489a3-e959-41a8-b5e2-9781d053eb32",
   "metadata": {},
   "source": [
    "### Outliers  \n",
    "- An outlier is a point for which $y_i$ is far from the value predicted by the model\n",
    "- Outliers can arise for a variety of reasons, such as incorrect recording of an observation during data collection\n",
    "- We can plot the studentized residuals, computed by dividing each residual $e_i$ by its estimated standard error\n",
    "- Typically we expect values between −3 and 3\n",
    "- One solution is to simply remove the outlier observation if it is due to incorrect data collection\n",
    "- Care should be taken, since an outlier may instead indicate a deficiency with the model"
   ]
  },
  {
   "cell_type": "code",
   "execution_count": 18,
   "id": "204fbb7c-7df0-4424-a472-99a6d053d801",
   "metadata": {},
   "outputs": [
    {
     "data": {
      "text/html": [
       "<div>\n",
       "<style scoped>\n",
       "    .dataframe tbody tr th:only-of-type {\n",
       "        vertical-align: middle;\n",
       "    }\n",
       "\n",
       "    .dataframe tbody tr th {\n",
       "        vertical-align: top;\n",
       "    }\n",
       "\n",
       "    .dataframe thead th {\n",
       "        text-align: right;\n",
       "    }\n",
       "</style>\n",
       "<table border=\"1\" class=\"dataframe\">\n",
       "  <thead>\n",
       "    <tr style=\"text-align: right;\">\n",
       "      <th></th>\n",
       "      <th>student_resid</th>\n",
       "      <th>unadj_p</th>\n",
       "      <th>bonf(p)</th>\n",
       "    </tr>\n",
       "  </thead>\n",
       "  <tbody>\n",
       "    <tr>\n",
       "      <th>0</th>\n",
       "      <td>0.924793</td>\n",
       "      <td>0.356211</td>\n",
       "      <td>1.0</td>\n",
       "    </tr>\n",
       "    <tr>\n",
       "      <th>1</th>\n",
       "      <td>-1.169125</td>\n",
       "      <td>0.243773</td>\n",
       "      <td>1.0</td>\n",
       "    </tr>\n",
       "    <tr>\n",
       "      <th>2</th>\n",
       "      <td>-1.844698</td>\n",
       "      <td>0.066590</td>\n",
       "      <td>1.0</td>\n",
       "    </tr>\n",
       "    <tr>\n",
       "      <th>3</th>\n",
       "      <td>0.527423</td>\n",
       "      <td>0.598497</td>\n",
       "      <td>1.0</td>\n",
       "    </tr>\n",
       "    <tr>\n",
       "      <th>4</th>\n",
       "      <td>-0.193096</td>\n",
       "      <td>0.847084</td>\n",
       "      <td>1.0</td>\n",
       "    </tr>\n",
       "    <tr>\n",
       "      <th>...</th>\n",
       "      <td>...</td>\n",
       "      <td>...</td>\n",
       "      <td>...</td>\n",
       "    </tr>\n",
       "    <tr>\n",
       "      <th>195</th>\n",
       "      <td>1.346476</td>\n",
       "      <td>0.179704</td>\n",
       "      <td>1.0</td>\n",
       "    </tr>\n",
       "    <tr>\n",
       "      <th>196</th>\n",
       "      <td>0.926733</td>\n",
       "      <td>0.355205</td>\n",
       "      <td>1.0</td>\n",
       "    </tr>\n",
       "    <tr>\n",
       "      <th>197</th>\n",
       "      <td>0.019053</td>\n",
       "      <td>0.984818</td>\n",
       "      <td>1.0</td>\n",
       "    </tr>\n",
       "    <tr>\n",
       "      <th>198</th>\n",
       "      <td>1.028204</td>\n",
       "      <td>0.305121</td>\n",
       "      <td>1.0</td>\n",
       "    </tr>\n",
       "    <tr>\n",
       "      <th>199</th>\n",
       "      <td>-1.053750</td>\n",
       "      <td>0.293295</td>\n",
       "      <td>1.0</td>\n",
       "    </tr>\n",
       "  </tbody>\n",
       "</table>\n",
       "<p>200 rows × 3 columns</p>\n",
       "</div>"
      ],
      "text/plain": [
       "     student_resid   unadj_p  bonf(p)\n",
       "0         0.924793  0.356211      1.0\n",
       "1        -1.169125  0.243773      1.0\n",
       "2        -1.844698  0.066590      1.0\n",
       "3         0.527423  0.598497      1.0\n",
       "4        -0.193096  0.847084      1.0\n",
       "..             ...       ...      ...\n",
       "195       1.346476  0.179704      1.0\n",
       "196       0.926733  0.355205      1.0\n",
       "197       0.019053  0.984818      1.0\n",
       "198       1.028204  0.305121      1.0\n",
       "199      -1.053750  0.293295      1.0\n",
       "\n",
       "[200 rows x 3 columns]"
      ]
     },
     "execution_count": 18,
     "metadata": {},
     "output_type": "execute_result"
    }
   ],
   "source": [
    "df_outlier = model_result.outlier_test()\n",
    "df_outlier"
   ]
  },
  {
   "cell_type": "code",
   "execution_count": 19,
   "id": "c0fc90e0-b736-4978-b1a6-0cdbf60e84d1",
   "metadata": {},
   "outputs": [
    {
     "data": {
      "text/html": [
       "<div>\n",
       "<style scoped>\n",
       "    .dataframe tbody tr th:only-of-type {\n",
       "        vertical-align: middle;\n",
       "    }\n",
       "\n",
       "    .dataframe tbody tr th {\n",
       "        vertical-align: top;\n",
       "    }\n",
       "\n",
       "    .dataframe thead th {\n",
       "        text-align: right;\n",
       "    }\n",
       "</style>\n",
       "<table border=\"1\" class=\"dataframe\">\n",
       "  <thead>\n",
       "    <tr style=\"text-align: right;\">\n",
       "      <th></th>\n",
       "      <th>student_resid</th>\n",
       "      <th>unadj_p</th>\n",
       "      <th>bonf(p)</th>\n",
       "    </tr>\n",
       "  </thead>\n",
       "  <tbody>\n",
       "    <tr>\n",
       "      <th>5</th>\n",
       "      <td>-3.295069</td>\n",
       "      <td>1.167795e-03</td>\n",
       "      <td>0.233559</td>\n",
       "    </tr>\n",
       "    <tr>\n",
       "      <th>130</th>\n",
       "      <td>-5.714235</td>\n",
       "      <td>4.049876e-08</td>\n",
       "      <td>0.000008</td>\n",
       "    </tr>\n",
       "  </tbody>\n",
       "</table>\n",
       "</div>"
      ],
      "text/plain": [
       "     student_resid       unadj_p   bonf(p)\n",
       "5        -3.295069  1.167795e-03  0.233559\n",
       "130      -5.714235  4.049876e-08  0.000008"
      ]
     },
     "execution_count": 19,
     "metadata": {},
     "output_type": "execute_result"
    }
   ],
   "source": [
    "df_outlier.loc[(df_outlier['student_resid'] < -3) |  (df_outlier['student_resid'] > 3)]"
   ]
  },
  {
   "cell_type": "code",
   "execution_count": 20,
   "id": "3183057b-72b5-4e80-8475-a27a41f968eb",
   "metadata": {},
   "outputs": [
    {
     "data": {
      "image/png": "[encoded data removed]",
      "text/plain": [
       "<Figure size 640x480 with 1 Axes>"
      ]
     },
     "metadata": {},
     "output_type": "display_data"
    }
   ],
   "source": [
    "plt.plot(df_outlier['student_resid']) ## draw a line y = -3 and y = 3\n",
    "plt.show()"
   ]
  },
  {
   "cell_type": "code",
   "execution_count": 21,
   "id": "6c89062b-8e79-427b-8f41-6cca14e87125",
   "metadata": {},
   "outputs": [
    {
     "data": {
      "image/png": "[encoded data removed]",
      "text/plain": [
       "<Figure size 640x480 with 1 Axes>"
      ]
     },
     "metadata": {},
     "output_type": "display_data"
    }
   ],
   "source": [
    "plt.scatter(model_result.fittedvalues, model_result.resid)\n",
    "plt.text(model_result.fittedvalues[5], model_result.resid[5], '1', color = 'orange')\n",
    "plt.text(model_result.fittedvalues[130], model_result.resid[130], '2', color = 'orange')\n",
    "plt.show()"
   ]
  },
  {
   "cell_type": "code",
   "execution_count": 22,
   "id": "df886c05-2a50-4710-84c8-949d800404bb",
   "metadata": {},
   "outputs": [
    {
     "data": {
      "text/plain": [
       "(198, 4)"
      ]
     },
     "execution_count": 22,
     "metadata": {},
     "output_type": "execute_result"
    }
   ],
   "source": [
    "df = df.drop([5, 130], axis = 0)\n",
    "df.shape"
   ]
  },
  {
   "cell_type": "code",
   "execution_count": 23,
   "id": "2fa4d147-22ae-4da9-9f0c-d8d94194ab8f",
   "metadata": {},
   "outputs": [],
   "source": [
    "X = df[['TV', 'radio']]\n",
    "X = sm.add_constant(X)\n",
    "y = df['sales']"
   ]
  },
  {
   "cell_type": "code",
   "execution_count": 24,
   "id": "274cadfe",
   "metadata": {},
   "outputs": [
    {
     "data": {
      "text/html": [
       "<table class=\"simpletable\">\n",
       "<caption>OLS Regression Results</caption>\n",
       "<tr>\n",
       "  <th>Dep. Variable:</th>          <td>sales</td>      <th>  R-squared:         </th> <td>   0.915</td> \n",
       "</tr>\n",
       "<tr>\n",
       "  <th>Model:</th>                   <td>OLS</td>       <th>  Adj. R-squared:    </th> <td>   0.914</td> \n",
       "</tr>\n",
       "<tr>\n",
       "  <th>Method:</th>             <td>Least Squares</td>  <th>  F-statistic:       </th> <td>   1045.</td> \n",
       "</tr>\n",
       "<tr>\n",
       "  <th>Date:</th>             <td>Sun, 26 Jan 2025</td> <th>  Prob (F-statistic):</th> <td>6.26e-105</td>\n",
       "</tr>\n",
       "<tr>\n",
       "  <th>Time:</th>                 <td>22:20:09</td>     <th>  Log-Likelihood:    </th> <td> -361.14</td> \n",
       "</tr>\n",
       "<tr>\n",
       "  <th>No. Observations:</th>      <td>   198</td>      <th>  AIC:               </th> <td>   728.3</td> \n",
       "</tr>\n",
       "<tr>\n",
       "  <th>Df Residuals:</th>          <td>   195</td>      <th>  BIC:               </th> <td>   738.1</td> \n",
       "</tr>\n",
       "<tr>\n",
       "  <th>Df Model:</th>              <td>     2</td>      <th>                     </th>     <td> </td>    \n",
       "</tr>\n",
       "<tr>\n",
       "  <th>Covariance Type:</th>      <td>nonrobust</td>    <th>                     </th>     <td> </td>    \n",
       "</tr>\n",
       "</table>\n",
       "<table class=\"simpletable\">\n",
       "<tr>\n",
       "    <td></td>       <th>coef</th>     <th>std err</th>      <th>t</th>      <th>P>|t|</th>  <th>[0.025</th>    <th>0.975]</th>  \n",
       "</tr>\n",
       "<tr>\n",
       "  <th>const</th> <td>    3.0519</td> <td>    0.265</td> <td>   11.505</td> <td> 0.000</td> <td>    2.529</td> <td>    3.575</td>\n",
       "</tr>\n",
       "<tr>\n",
       "  <th>TV</th>    <td>    0.0442</td> <td>    0.001</td> <td>   34.837</td> <td> 0.000</td> <td>    0.042</td> <td>    0.047</td>\n",
       "</tr>\n",
       "<tr>\n",
       "  <th>radio</th> <td>    0.1953</td> <td>    0.007</td> <td>   26.697</td> <td> 0.000</td> <td>    0.181</td> <td>    0.210</td>\n",
       "</tr>\n",
       "</table>\n",
       "<table class=\"simpletable\">\n",
       "<tr>\n",
       "  <th>Omnibus:</th>       <td>16.435</td> <th>  Durbin-Watson:     </th> <td>   2.164</td>\n",
       "</tr>\n",
       "<tr>\n",
       "  <th>Prob(Omnibus):</th> <td> 0.000</td> <th>  Jarque-Bera (JB):  </th> <td>  18.512</td>\n",
       "</tr>\n",
       "<tr>\n",
       "  <th>Skew:</th>          <td>-0.747</td> <th>  Prob(JB):          </th> <td>9.55e-05</td>\n",
       "</tr>\n",
       "<tr>\n",
       "  <th>Kurtosis:</th>      <td> 3.105</td> <th>  Cond. No.          </th> <td>    426.</td>\n",
       "</tr>\n",
       "</table><br/><br/>Notes:<br/>[1] Standard Errors assume that the covariance matrix of the errors is correctly specified."
      ],
      "text/latex": [
       "\\begin{center}\n",
       "\\begin{tabular}{lclc}\n",
       "\\toprule\n",
       "\\textbf{Dep. Variable:}    &      sales       & \\textbf{  R-squared:         } &     0.915   \\\\\n",
       "\\textbf{Model:}            &       OLS        & \\textbf{  Adj. R-squared:    } &     0.914   \\\\\n",
       "\\textbf{Method:}           &  Least Squares   & \\textbf{  F-statistic:       } &     1045.   \\\\\n",
       "\\textbf{Date:}             & Sun, 26 Jan 2025 & \\textbf{  Prob (F-statistic):} & 6.26e-105   \\\\\n",
       "\\textbf{Time:}             &     22:20:09     & \\textbf{  Log-Likelihood:    } &   -361.14   \\\\\n",
       "\\textbf{No. Observations:} &         198      & \\textbf{  AIC:               } &     728.3   \\\\\n",
       "\\textbf{Df Residuals:}     &         195      & \\textbf{  BIC:               } &     738.1   \\\\\n",
       "\\textbf{Df Model:}         &           2      & \\textbf{                     } &             \\\\\n",
       "\\textbf{Covariance Type:}  &    nonrobust     & \\textbf{                     } &             \\\\\n",
       "\\bottomrule\n",
       "\\end{tabular}\n",
       "\\begin{tabular}{lcccccc}\n",
       "               & \\textbf{coef} & \\textbf{std err} & \\textbf{t} & \\textbf{P$> |$t$|$} & \\textbf{[0.025} & \\textbf{0.975]}  \\\\\n",
       "\\midrule\n",
       "\\textbf{const} &       3.0519  &        0.265     &    11.505  &         0.000        &        2.529    &        3.575     \\\\\n",
       "\\textbf{TV}    &       0.0442  &        0.001     &    34.837  &         0.000        &        0.042    &        0.047     \\\\\n",
       "\\textbf{radio} &       0.1953  &        0.007     &    26.697  &         0.000        &        0.181    &        0.210     \\\\\n",
       "\\bottomrule\n",
       "\\end{tabular}\n",
       "\\begin{tabular}{lclc}\n",
       "\\textbf{Omnibus:}       & 16.435 & \\textbf{  Durbin-Watson:     } &    2.164  \\\\\n",
       "\\textbf{Prob(Omnibus):} &  0.000 & \\textbf{  Jarque-Bera (JB):  } &   18.512  \\\\\n",
       "\\textbf{Skew:}          & -0.747 & \\textbf{  Prob(JB):          } & 9.55e-05  \\\\\n",
       "\\textbf{Kurtosis:}      &  3.105 & \\textbf{  Cond. No.          } &     426.  \\\\\n",
       "\\bottomrule\n",
       "\\end{tabular}\n",
       "%\\caption{OLS Regression Results}\n",
       "\\end{center}\n",
       "\n",
       "Notes: \\newline\n",
       " [1] Standard Errors assume that the covariance matrix of the errors is correctly specified."
      ],
      "text/plain": [
       "<class 'statsmodels.iolib.summary.Summary'>\n",
       "\"\"\"\n",
       "                            OLS Regression Results                            \n",
       "==============================================================================\n",
       "Dep. Variable:                  sales   R-squared:                       0.915\n",
       "Model:                            OLS   Adj. R-squared:                  0.914\n",
       "Method:                 Least Squares   F-statistic:                     1045.\n",
       "Date:                Sun, 26 Jan 2025   Prob (F-statistic):          6.26e-105\n",
       "Time:                        22:20:09   Log-Likelihood:                -361.14\n",
       "No. Observations:                 198   AIC:                             728.3\n",
       "Df Residuals:                     195   BIC:                             738.1\n",
       "Df Model:                           2                                         \n",
       "Covariance Type:            nonrobust                                         \n",
       "==============================================================================\n",
       "                 coef    std err          t      P>|t|      [0.025      0.975]\n",
       "------------------------------------------------------------------------------\n",
       "const          3.0519      0.265     11.505      0.000       2.529       3.575\n",
       "TV             0.0442      0.001     34.837      0.000       0.042       0.047\n",
       "radio          0.1953      0.007     26.697      0.000       0.181       0.210\n",
       "==============================================================================\n",
       "Omnibus:                       16.435   Durbin-Watson:                   2.164\n",
       "Prob(Omnibus):                  0.000   Jarque-Bera (JB):               18.512\n",
       "Skew:                          -0.747   Prob(JB):                     9.55e-05\n",
       "Kurtosis:                       3.105   Cond. No.                         426.\n",
       "==============================================================================\n",
       "\n",
       "Notes:\n",
       "[1] Standard Errors assume that the covariance matrix of the errors is correctly specified.\n",
       "\"\"\""
      ]
     },
     "execution_count": 24,
     "metadata": {},
     "output_type": "execute_result"
    }
   ],
   "source": [
    "## Notice the R^2\n",
    "model = sm.OLS(y, X, missing='drop')\n",
    "model_result = model.fit()\n",
    "model_result.summary()"
   ]
  },
  {
   "attachments": {
    "39bbd319-0b59-49d3-a4c9-f2512338fd41.png": {
     "image/png": "[encoded data removed]"
    }
   },
   "cell_type": "markdown",
   "id": "1019a4bc-9f29-4225-b7d7-2e454fee4db1",
   "metadata": {},
   "source": [
    "### Leverage Points   \n",
    "- observations with high leverage high have an unusual value for xi\n",
    "- For simple linear regression:\n",
    "  \n",
    "  ![image.png](attachment:39bbd319-0b59-49d3-a4c9-f2512338fd41.png)\n",
    "\n",
    "- $h_i$ lies between 0 and 1\n",
    "- The $i^{th}$ leverage score can be viewed as the 'weighted' distance between $x_i$ to the mean of $x_i$'s\n",
    "- A common rule is to identify $x_{i}$ whose leverage value ${h}_{i}$ is more than 2 times larger than the mean leverage i.e. $\\frac{p}{n}$"
   ]
  },
  {
   "cell_type": "code",
   "execution_count": 25,
   "id": "ceb5d167-89d1-48ed-814b-550686f67195",
   "metadata": {},
   "outputs": [
    {
     "data": {
      "image/png": "[encoded data removed]",
      "text/plain": [
       "<Figure size 640x480 with 1 Axes>"
      ]
     },
     "metadata": {},
     "output_type": "display_data"
    }
   ],
   "source": [
    "sm.graphics.influence_plot(model_result)\n",
    "plt.show()"
   ]
  },
  {
   "cell_type": "code",
   "execution_count": 26,
   "id": "e8052793-2568-4fa7-aa9d-6c158188b82e",
   "metadata": {},
   "outputs": [
    {
     "data": {
      "text/plain": [
       "array([0.01406452, 0.01997743, 0.03141784, 0.01282755, 0.00956626,\n",
       "       0.01370166, 0.00583055, 0.0272363 , 0.01740288, 0.01588881,\n",
       "       0.0081259 , 0.02040988, 0.01196729, 0.00914948, 0.02009062,\n",
       "       0.01466387, 0.02250257, 0.00950763, 0.005069  , 0.00879529,\n",
       "       0.01923197, 0.01853507, 0.01075658, 0.01226495, 0.02471835,\n",
       "       0.0060105 , 0.01230273, 0.01227313, 0.01013853, 0.0199232 ,\n",
       "       0.00656148, 0.01707314, 0.01518565, 0.01726001, 0.02951289,\n",
       "       0.02343389, 0.0264406 , 0.01345309, 0.0137822 , 0.00715026,\n",
       "       0.00794196, 0.01998165, 0.01305284, 0.0161744 , 0.00556747,\n",
       "       0.01103885, 0.01782517, 0.01103138, 0.01216369, 0.01691246,\n",
       "       0.01050148, 0.0156307 , 0.01791753, 0.01460472, 0.02225102,\n",
       "       0.02018421, 0.00547387, 0.02323273, 0.00849544, 0.0205003 ,\n",
       "       0.02163528, 0.01265886, 0.00773132, 0.01463119, 0.01322821,\n",
       "       0.014885  , 0.00677326, 0.01083686, 0.01760302, 0.0079449 ,\n",
       "       0.00768089, 0.01861437, 0.01214972, 0.00801598, 0.02904515,\n",
       "       0.02447265, 0.00639874, 0.02124228, 0.01099434, 0.00920212,\n",
       "       0.02049046, 0.00887662, 0.02148604, 0.01651494, 0.0071057 ,\n",
       "       0.00940218, 0.01371114, 0.00784394, 0.0210918 , 0.01274878,\n",
       "       0.02439404, 0.01051864, 0.01579376, 0.00791943, 0.00683566,\n",
       "       0.01634444, 0.00613443, 0.0260352 , 0.01348973, 0.01805862,\n",
       "       0.02332804, 0.02234726, 0.00710125, 0.01303843, 0.01807129,\n",
       "       0.01824506, 0.01870298, 0.02801086, 0.01319813, 0.01519349,\n",
       "       0.01551126, 0.00708256, 0.00792651, 0.02285115, 0.01277206,\n",
       "       0.00685393, 0.0192769 , 0.01011909, 0.01738223, 0.00543384,\n",
       "       0.01684973, 0.02009615, 0.00882344, 0.01119891, 0.01021835,\n",
       "       0.02636816, 0.01976968, 0.023257  , 0.01284773, 0.02572738,\n",
       "       0.01968565, 0.01071262, 0.02064178, 0.02715039, 0.02295449,\n",
       "       0.01644156, 0.01329116, 0.01567969, 0.00959104, 0.00970315,\n",
       "       0.01064794, 0.01297031, 0.00829402, 0.01547365, 0.01773751,\n",
       "       0.02556027, 0.02188815, 0.01301696, 0.02014665, 0.01035313,\n",
       "       0.00674713, 0.01166718, 0.00628141, 0.02175813, 0.01768624,\n",
       "       0.01616317, 0.02399244, 0.00570555, 0.00611052, 0.0121664 ,\n",
       "       0.00687969, 0.00950574, 0.00720561, 0.02043419, 0.02329195,\n",
       "       0.01560427, 0.00819474, 0.02281409, 0.01423323, 0.0053628 ,\n",
       "       0.01673093, 0.01150433, 0.01891248, 0.03018323, 0.01282863,\n",
       "       0.01105399, 0.02849314, 0.00939747, 0.01501209, 0.01662528,\n",
       "       0.01707272, 0.0262256 , 0.01307324, 0.01788656, 0.01527602,\n",
       "       0.00692307, 0.02118756, 0.01882185, 0.02235789, 0.01174434,\n",
       "       0.02400885, 0.01347734, 0.00873288, 0.02101877, 0.01421033,\n",
       "       0.01031505, 0.02468001, 0.01567376])"
      ]
     },
     "execution_count": 26,
     "metadata": {},
     "output_type": "execute_result"
    }
   ],
   "source": [
    "influence = model_result.get_influence()\n",
    "leverage = influence.hat_matrix_diag\n",
    "leverage "
   ]
  },
  {
   "attachments": {
    "f605235a-c1b9-4c6c-a69a-ad2f2e144861.png": {
     "image/png": "[encoded data removed]"
    }
   },
   "cell_type": "markdown",
   "id": "7beecb64-c94f-4b97-a55f-d4b8fbe780e7",
   "metadata": {},
   "source": [
    "### Multicollinearity  \n",
    "- A simple way to detect collinearity is to look at the correlation matrix of the predictors\n",
    "- it is possible for collinearity to exist between three or more variables even if no pair of variables has a particularly high correlation, this is called multicollinearity  \n",
    "- Multicollinearity is assessed using the `variance inflation factor` (`VIF`).\n",
    "- The VIF for each variable can be computed\n",
    "\n",
    "  ![image.png](attachment:f605235a-c1b9-4c6c-a69a-ad2f2e144861.png)\n",
    "\n",
    "- where $R^{2}_{X_j |X_−j}$ is the $R^2$ from a regression of $X_j$ onto all of the other predictors\n",
    "- `VIF` value that exceeds 10 indicates a problematic amount of collinearity"
   ]
  },
  {
   "cell_type": "code",
   "execution_count": 27,
   "id": "5d89aaa5-ed0f-401a-8320-433ae29f102b",
   "metadata": {},
   "outputs": [
    {
     "data": {
      "text/plain": [
       "3.0528491366852726"
      ]
     },
     "execution_count": 27,
     "metadata": {},
     "output_type": "execute_result"
    }
   ],
   "source": [
    "from statsmodels.stats.outliers_influence import variance_inflation_factor\n",
    "variance_inflation_factor(df[['TV', 'radio', 'newspaper']], 2)"
   ]
  },
  {
   "cell_type": "markdown",
   "id": "f7f2ae8a-45dd-406c-8ba7-17bc0abd25c8",
   "metadata": {},
   "source": [
    "## Inference   \n",
    "- Is there a relationship between sales and advertising budget?\n",
    "- How strong is the relationship?\n",
    "- Which media are associated with sales?\n",
    "- How large is the association between each medium and sales?\n",
    "- How accurately can we predict future sales?\n",
    "- Is the relationship linear?\n",
    "- Is there synergy among the advertising media?  "
   ]
  },
  {
   "cell_type": "code",
   "execution_count": 28,
   "id": "3cb9b10b-24b1-4512-bc22-a9ce0abfe4bf",
   "metadata": {},
   "outputs": [
    {
     "data": {
      "text/plain": [
       "2.2825184335466067"
      ]
     },
     "execution_count": 28,
     "metadata": {},
     "output_type": "execute_result"
    }
   ],
   "source": [
    "x = model_result.resid ** 2\n",
    "x.sum() / (x.shape[0]-3)"
   ]
  },
  {
   "cell_type": "code",
   "execution_count": 29,
   "id": "74616bd2-574b-4edd-a0d5-9fd980c8e876",
   "metadata": {},
   "outputs": [
    {
     "data": {
      "text/plain": [
       "(198,)"
      ]
     },
     "execution_count": 29,
     "metadata": {},
     "output_type": "execute_result"
    }
   ],
   "source": [
    "x.shape"
   ]
  },
  {
   "cell_type": "code",
   "execution_count": 30,
   "id": "1e6a9456-ae02-4ba3-ae09-8772674fb7fe",
   "metadata": {},
   "outputs": [
    {
     "data": {
      "text/plain": [
       "1.5108005935750115"
      ]
     },
     "execution_count": 30,
     "metadata": {},
     "output_type": "execute_result"
    }
   ],
   "source": [
    "model_result.mse_resid ** .5"
   ]
  },
  {
   "cell_type": "markdown",
   "id": "91b79ab4-ae73-4f9f-9bd5-b29143ebcfc0",
   "metadata": {},
   "source": [
    "## Non-linear relationship  "
   ]
  },
  {
   "cell_type": "code",
   "execution_count": 31,
   "id": "75b5d827-506d-4c35-80b5-269b7bbd6585",
   "metadata": {},
   "outputs": [
    {
     "data": {
      "text/html": [
       "<div>\n",
       "<style scoped>\n",
       "    .dataframe tbody tr th:only-of-type {\n",
       "        vertical-align: middle;\n",
       "    }\n",
       "\n",
       "    .dataframe tbody tr th {\n",
       "        vertical-align: top;\n",
       "    }\n",
       "\n",
       "    .dataframe thead th {\n",
       "        text-align: right;\n",
       "    }\n",
       "</style>\n",
       "<table border=\"1\" class=\"dataframe\">\n",
       "  <thead>\n",
       "    <tr style=\"text-align: right;\">\n",
       "      <th></th>\n",
       "      <th>TV</th>\n",
       "      <th>radio</th>\n",
       "      <th>newspaper</th>\n",
       "      <th>sales</th>\n",
       "      <th>radio_TV</th>\n",
       "    </tr>\n",
       "  </thead>\n",
       "  <tbody>\n",
       "    <tr>\n",
       "      <th>0</th>\n",
       "      <td>230.1</td>\n",
       "      <td>37.8</td>\n",
       "      <td>69.2</td>\n",
       "      <td>22.1</td>\n",
       "      <td>8697.78</td>\n",
       "    </tr>\n",
       "    <tr>\n",
       "      <th>1</th>\n",
       "      <td>44.5</td>\n",
       "      <td>39.3</td>\n",
       "      <td>45.1</td>\n",
       "      <td>10.4</td>\n",
       "      <td>1748.85</td>\n",
       "    </tr>\n",
       "    <tr>\n",
       "      <th>2</th>\n",
       "      <td>17.2</td>\n",
       "      <td>45.9</td>\n",
       "      <td>69.3</td>\n",
       "      <td>9.3</td>\n",
       "      <td>789.48</td>\n",
       "    </tr>\n",
       "    <tr>\n",
       "      <th>3</th>\n",
       "      <td>151.5</td>\n",
       "      <td>41.3</td>\n",
       "      <td>58.5</td>\n",
       "      <td>18.5</td>\n",
       "      <td>6256.95</td>\n",
       "    </tr>\n",
       "    <tr>\n",
       "      <th>4</th>\n",
       "      <td>180.8</td>\n",
       "      <td>10.8</td>\n",
       "      <td>58.4</td>\n",
       "      <td>12.9</td>\n",
       "      <td>1952.64</td>\n",
       "    </tr>\n",
       "  </tbody>\n",
       "</table>\n",
       "</div>"
      ],
      "text/plain": [
       "      TV  radio  newspaper  sales  radio_TV\n",
       "0  230.1   37.8       69.2   22.1   8697.78\n",
       "1   44.5   39.3       45.1   10.4   1748.85\n",
       "2   17.2   45.9       69.3    9.3    789.48\n",
       "3  151.5   41.3       58.5   18.5   6256.95\n",
       "4  180.8   10.8       58.4   12.9   1952.64"
      ]
     },
     "execution_count": 31,
     "metadata": {},
     "output_type": "execute_result"
    }
   ],
   "source": [
    "df['radio_TV'] = df['radio'] * df['TV']\n",
    "df.head()"
   ]
  },
  {
   "cell_type": "code",
   "execution_count": 32,
   "id": "d1f9d18a-77f9-4609-8fd2-4bca5789f5cf",
   "metadata": {},
   "outputs": [
    {
     "data": {
      "text/html": [
       "<table class=\"simpletable\">\n",
       "<caption>OLS Regression Results</caption>\n",
       "<tr>\n",
       "  <th>Dep. Variable:</th>          <td>sales</td>      <th>  R-squared:         </th> <td>   0.975</td> \n",
       "</tr>\n",
       "<tr>\n",
       "  <th>Model:</th>                   <td>OLS</td>       <th>  Adj. R-squared:    </th> <td>   0.975</td> \n",
       "</tr>\n",
       "<tr>\n",
       "  <th>Method:</th>             <td>Least Squares</td>  <th>  F-statistic:       </th> <td>   2560.</td> \n",
       "</tr>\n",
       "<tr>\n",
       "  <th>Date:</th>             <td>Sun, 26 Jan 2025</td> <th>  Prob (F-statistic):</th> <td>1.05e-155</td>\n",
       "</tr>\n",
       "<tr>\n",
       "  <th>Time:</th>                 <td>22:20:17</td>     <th>  Log-Likelihood:    </th> <td> -238.12</td> \n",
       "</tr>\n",
       "<tr>\n",
       "  <th>No. Observations:</th>      <td>   198</td>      <th>  AIC:               </th> <td>   484.2</td> \n",
       "</tr>\n",
       "<tr>\n",
       "  <th>Df Residuals:</th>          <td>   194</td>      <th>  BIC:               </th> <td>   497.4</td> \n",
       "</tr>\n",
       "<tr>\n",
       "  <th>Df Model:</th>              <td>     3</td>      <th>                     </th>     <td> </td>    \n",
       "</tr>\n",
       "<tr>\n",
       "  <th>Covariance Type:</th>      <td>nonrobust</td>    <th>                     </th>     <td> </td>    \n",
       "</tr>\n",
       "</table>\n",
       "<table class=\"simpletable\">\n",
       "<tr>\n",
       "      <td></td>        <th>coef</th>     <th>std err</th>      <th>t</th>      <th>P>|t|</th>  <th>[0.025</th>    <th>0.975]</th>  \n",
       "</tr>\n",
       "<tr>\n",
       "  <th>const</th>    <td>    6.5901</td> <td>    0.216</td> <td>   30.530</td> <td> 0.000</td> <td>    6.164</td> <td>    7.016</td>\n",
       "</tr>\n",
       "<tr>\n",
       "  <th>TV</th>       <td>    0.0199</td> <td>    0.001</td> <td>   15.235</td> <td> 0.000</td> <td>    0.017</td> <td>    0.022</td>\n",
       "</tr>\n",
       "<tr>\n",
       "  <th>radio</th>    <td>    0.0430</td> <td>    0.008</td> <td>    5.379</td> <td> 0.000</td> <td>    0.027</td> <td>    0.059</td>\n",
       "</tr>\n",
       "<tr>\n",
       "  <th>radio_TV</th> <td>    0.0010</td> <td> 4.65e-05</td> <td>   21.867</td> <td> 0.000</td> <td>    0.001</td> <td>    0.001</td>\n",
       "</tr>\n",
       "</table>\n",
       "<table class=\"simpletable\">\n",
       "<tr>\n",
       "  <th>Omnibus:</th>       <td>65.198</td> <th>  Durbin-Watson:     </th> <td>   2.240</td>\n",
       "</tr>\n",
       "<tr>\n",
       "  <th>Prob(Omnibus):</th> <td> 0.000</td> <th>  Jarque-Bera (JB):  </th> <td> 174.371</td>\n",
       "</tr>\n",
       "<tr>\n",
       "  <th>Skew:</th>          <td>-1.419</td> <th>  Prob(JB):          </th> <td>1.37e-38</td>\n",
       "</tr>\n",
       "<tr>\n",
       "  <th>Kurtosis:</th>      <td> 6.617</td> <th>  Cond. No.          </th> <td>1.82e+04</td>\n",
       "</tr>\n",
       "</table><br/><br/>Notes:<br/>[1] Standard Errors assume that the covariance matrix of the errors is correctly specified.<br/>[2] The condition number is large, 1.82e+04. This might indicate that there are<br/>strong multicollinearity or other numerical problems."
      ],
      "text/latex": [
       "\\begin{center}\n",
       "\\begin{tabular}{lclc}\n",
       "\\toprule\n",
       "\\textbf{Dep. Variable:}    &      sales       & \\textbf{  R-squared:         } &     0.975   \\\\\n",
       "\\textbf{Model:}            &       OLS        & \\textbf{  Adj. R-squared:    } &     0.975   \\\\\n",
       "\\textbf{Method:}           &  Least Squares   & \\textbf{  F-statistic:       } &     2560.   \\\\\n",
       "\\textbf{Date:}             & Sun, 26 Jan 2025 & \\textbf{  Prob (F-statistic):} & 1.05e-155   \\\\\n",
       "\\textbf{Time:}             &     22:20:17     & \\textbf{  Log-Likelihood:    } &   -238.12   \\\\\n",
       "\\textbf{No. Observations:} &         198      & \\textbf{  AIC:               } &     484.2   \\\\\n",
       "\\textbf{Df Residuals:}     &         194      & \\textbf{  BIC:               } &     497.4   \\\\\n",
       "\\textbf{Df Model:}         &           3      & \\textbf{                     } &             \\\\\n",
       "\\textbf{Covariance Type:}  &    nonrobust     & \\textbf{                     } &             \\\\\n",
       "\\bottomrule\n",
       "\\end{tabular}\n",
       "\\begin{tabular}{lcccccc}\n",
       "                   & \\textbf{coef} & \\textbf{std err} & \\textbf{t} & \\textbf{P$> |$t$|$} & \\textbf{[0.025} & \\textbf{0.975]}  \\\\\n",
       "\\midrule\n",
       "\\textbf{const}     &       6.5901  &        0.216     &    30.530  &         0.000        &        6.164    &        7.016     \\\\\n",
       "\\textbf{TV}        &       0.0199  &        0.001     &    15.235  &         0.000        &        0.017    &        0.022     \\\\\n",
       "\\textbf{radio}     &       0.0430  &        0.008     &     5.379  &         0.000        &        0.027    &        0.059     \\\\\n",
       "\\textbf{radio\\_TV} &       0.0010  &     4.65e-05     &    21.867  &         0.000        &        0.001    &        0.001     \\\\\n",
       "\\bottomrule\n",
       "\\end{tabular}\n",
       "\\begin{tabular}{lclc}\n",
       "\\textbf{Omnibus:}       & 65.198 & \\textbf{  Durbin-Watson:     } &    2.240  \\\\\n",
       "\\textbf{Prob(Omnibus):} &  0.000 & \\textbf{  Jarque-Bera (JB):  } &  174.371  \\\\\n",
       "\\textbf{Skew:}          & -1.419 & \\textbf{  Prob(JB):          } & 1.37e-38  \\\\\n",
       "\\textbf{Kurtosis:}      &  6.617 & \\textbf{  Cond. No.          } & 1.82e+04  \\\\\n",
       "\\bottomrule\n",
       "\\end{tabular}\n",
       "%\\caption{OLS Regression Results}\n",
       "\\end{center}\n",
       "\n",
       "Notes: \\newline\n",
       " [1] Standard Errors assume that the covariance matrix of the errors is correctly specified. \\newline\n",
       " [2] The condition number is large, 1.82e+04. This might indicate that there are \\newline\n",
       " strong multicollinearity or other numerical problems."
      ],
      "text/plain": [
       "<class 'statsmodels.iolib.summary.Summary'>\n",
       "\"\"\"\n",
       "                            OLS Regression Results                            \n",
       "==============================================================================\n",
       "Dep. Variable:                  sales   R-squared:                       0.975\n",
       "Model:                            OLS   Adj. R-squared:                  0.975\n",
       "Method:                 Least Squares   F-statistic:                     2560.\n",
       "Date:                Sun, 26 Jan 2025   Prob (F-statistic):          1.05e-155\n",
       "Time:                        22:20:17   Log-Likelihood:                -238.12\n",
       "No. Observations:                 198   AIC:                             484.2\n",
       "Df Residuals:                     194   BIC:                             497.4\n",
       "Df Model:                           3                                         \n",
       "Covariance Type:            nonrobust                                         \n",
       "==============================================================================\n",
       "                 coef    std err          t      P>|t|      [0.025      0.975]\n",
       "------------------------------------------------------------------------------\n",
       "const          6.5901      0.216     30.530      0.000       6.164       7.016\n",
       "TV             0.0199      0.001     15.235      0.000       0.017       0.022\n",
       "radio          0.0430      0.008      5.379      0.000       0.027       0.059\n",
       "radio_TV       0.0010   4.65e-05     21.867      0.000       0.001       0.001\n",
       "==============================================================================\n",
       "Omnibus:                       65.198   Durbin-Watson:                   2.240\n",
       "Prob(Omnibus):                  0.000   Jarque-Bera (JB):              174.371\n",
       "Skew:                          -1.419   Prob(JB):                     1.37e-38\n",
       "Kurtosis:                       6.617   Cond. No.                     1.82e+04\n",
       "==============================================================================\n",
       "\n",
       "Notes:\n",
       "[1] Standard Errors assume that the covariance matrix of the errors is correctly specified.\n",
       "[2] The condition number is large, 1.82e+04. This might indicate that there are\n",
       "strong multicollinearity or other numerical problems.\n",
       "\"\"\""
      ]
     },
     "execution_count": 32,
     "metadata": {},
     "output_type": "execute_result"
    }
   ],
   "source": [
    "X = df[['TV', 'radio', 'radio_TV']]\n",
    "X = sm.add_constant(X)\n",
    "y = df['sales']\n",
    "\n",
    "## Notice the R^2\n",
    "model = sm.OLS(y, X, missing='drop')\n",
    "model_result = model.fit()\n",
    "model_result.summary()"
   ]
  },
  {
   "cell_type": "code",
   "execution_count": 33,
   "id": "a5dc600c-dfad-40c0-82bb-23436ebebc0b",
   "metadata": {},
   "outputs": [
    {
     "data": {
      "text/plain": [
       "0.8137291358353756"
      ]
     },
     "execution_count": 33,
     "metadata": {},
     "output_type": "execute_result"
    }
   ],
   "source": [
    "rse = model_result.mse_resid ** .5\n",
    "rse"
   ]
  },
  {
   "cell_type": "code",
   "execution_count": 34,
   "id": "54d4fc66-0611-4752-a4d0-a6c7ed9244b3",
   "metadata": {},
   "outputs": [
    {
     "data": {
      "text/plain": [
       "array([[21.4295951 , 21.85336239],\n",
       "       [10.66923501, 11.22185182],\n",
       "       [ 9.31393083, 10.10736428],\n",
       "       [17.56385687, 17.9276199 ],\n",
       "       [12.47394503, 12.80151582],\n",
       "       [10.85795641, 11.26989143],\n",
       "       [12.09856736, 12.3437056 ],\n",
       "       [ 6.48948319,  7.25031224],\n",
       "       [10.96765368, 11.4423801 ],\n",
       "       [ 8.30432975,  8.78483831],\n",
       "       [16.99039334, 17.28027215],\n",
       "       [ 9.15598476,  9.69169057],\n",
       "       [ 9.42189157,  9.79902501],\n",
       "       [18.73884861, 19.05398995],\n",
       "       [21.76595418, 22.25554296],\n",
       "       [11.81736769, 12.25877816],\n",
       "       [24.92642483, 25.52786057],\n",
       "       [10.13459995, 10.44918985],\n",
       "       [14.0152137 , 14.24449811],\n",
       "       [18.12924991, 18.43167431],\n",
       "       [12.48919127, 13.0382619 ],\n",
       "       [ 7.51371309,  7.98713551],\n",
       "       [15.60664238, 15.96045423],\n",
       "       [ 8.97464492,  9.36563097],\n",
       "       [12.57089636, 13.24222395],\n",
       "       [14.82760813, 15.07774082],\n",
       "       [15.9727028 , 16.35465968],\n",
       "       [19.38521771, 19.7429721 ],\n",
       "       [ 9.6635064 , 10.00072538],\n",
       "       [21.83457127, 22.29780629],\n",
       "       [11.45243314, 11.71366796],\n",
       "       [ 8.50480622,  8.96827703],\n",
       "       [17.93345109, 18.34191408],\n",
       "       [ 8.45606439,  8.92468602],\n",
       "       [13.37891672, 14.14468239],\n",
       "       [25.35596621, 25.99527378],\n",
       "       [13.63599749, 14.27534096],\n",
       "       [ 9.57737913,  9.95677727],\n",
       "       [21.28278433, 21.70014345],\n",
       "       [16.03469163, 16.30826636],\n",
       "       [17.41819306, 17.70569727],\n",
       "       [21.66478265, 22.12572883],\n",
       "       [12.63069491, 13.03987514],\n",
       "       [ 8.64531873,  9.05783456],\n",
       "       [14.92870511, 15.16953061],\n",
       "       [ 9.52208503,  9.88557876],\n",
       "       [23.0214511 , 23.52925311],\n",
       "       [15.25980031, 15.62260431],\n",
       "       [ 9.02493048,  9.41631933],\n",
       "       [11.09450645, 11.56179668],\n",
       "       [ 9.80734048, 10.15443947],\n",
       "       [21.64451176, 22.09246408],\n",
       "       [20.56939609, 21.01441442],\n",
       "       [20.55289335, 20.94950016],\n",
       "       [22.40558377, 22.9290055 ],\n",
       "       [ 7.91645567,  8.39007908],\n",
       "       [12.66699422, 12.90457399],\n",
       "       [23.27422668, 23.83272342],\n",
       "       [18.2240303 , 18.5231142 ],\n",
       "       [ 7.55483622,  8.14369093],\n",
       "       [24.67631434, 25.27371662],\n",
       "       [15.59354164, 15.98733747],\n",
       "       [12.85401314, 13.14423335],\n",
       "       [16.54898949, 16.94602243],\n",
       "       [ 8.8062597 ,  9.22506017],\n",
       "       [ 8.8670966 ,  9.26013006],\n",
       "       [11.90768246, 12.17184795],\n",
       "       [18.96866496, 19.30507755],\n",
       "       [22.2318485 , 22.71464536],\n",
       "       [17.92026398, 18.20942681],\n",
       "       [10.84386035, 11.12988734],\n",
       "       [ 9.19718407,  9.68882164],\n",
       "       [ 9.98120031, 10.33840183],\n",
       "       [17.09000979, 17.37758505],\n",
       "       [ 9.18740183,  9.92894639],\n",
       "       [ 6.90284081,  7.59864977],\n",
       "       [13.57680473, 13.83716762],\n",
       "       [ 7.89841649,  8.39861477],\n",
       "       [ 9.96444541, 10.31075427],\n",
       "       [11.17742104, 11.49039072],\n",
       "       [12.24929294, 12.8246346 ],\n",
       "       [10.36453097, 10.66850008],\n",
       "       [12.67588342, 13.24807282],\n",
       "       [21.79578621, 22.2563262 ],\n",
       "       [14.70238445, 14.98011831],\n",
       "       [11.26654743, 11.58488977],\n",
       "       [14.91097264, 15.31134689],\n",
       "       [11.5910952 , 11.87770281],\n",
       "       [15.91774661, 16.4224405 ],\n",
       "       [ 9.9599174 , 10.32402686],\n",
       "       [ 6.9203815 ,  7.61402887],\n",
       "       [19.60861375, 19.95294586],\n",
       "       [22.23871764, 22.69584898],\n",
       "       [10.71276988, 11.00430239],\n",
       "       [16.31482168, 16.58020088],\n",
       "       [11.14722278, 11.60290148],\n",
       "       [14.99460091, 15.24877728],\n",
       "       [26.29416194, 26.98265964],\n",
       "       [16.61965686, 16.99823818],\n",
       "       [11.91488973, 12.42932858],\n",
       "       [24.70151049, 25.2840886 ],\n",
       "       [15.18062796, 15.77424542],\n",
       "       [14.21644668, 14.49480208],\n",
       "       [20.91739104, 21.31341267],\n",
       "       [17.62037082, 18.05707052],\n",
       "       [ 7.58331385,  8.09773353],\n",
       "       [ 8.17917439,  8.67863668],\n",
       "       [ 6.48132648,  7.26510276],\n",
       "       [19.63134176, 20.00217375],\n",
       "       [13.0873229 , 13.54909647],\n",
       "       [22.14808823, 22.60397332],\n",
       "       [13.36204482, 13.63860182],\n",
       "       [15.89265076, 16.18368216],\n",
       "       [13.59217588, 14.17273981],\n",
       "       [12.06360929, 12.46435187],\n",
       "       [11.86650886, 12.13224184],\n",
       "       [ 7.94005058,  8.47295774],\n",
       "       [15.23087649, 15.56253272],\n",
       "       [ 7.75217232,  8.20845257],\n",
       "       [14.28738455, 14.52511439],\n",
       "       [ 8.10387815,  8.52196253],\n",
       "       [11.42039365, 11.97211552],\n",
       "       [14.70556824, 15.01526297],\n",
       "       [19.90819449, 20.26347573],\n",
       "       [ 9.7061989 , 10.05224048],\n",
       "       [ 8.39680949,  9.05916233],\n",
       "       [ 7.91827062,  8.4527269 ],\n",
       "       [23.77274956, 24.35021625],\n",
       "       [ 8.81703613,  9.22221529],\n",
       "       [12.42626476, 13.11938891],\n",
       "       [ 7.929094  ,  8.39124249],\n",
       "       [19.71995729, 20.06827094],\n",
       "       [10.15277529, 10.71551367],\n",
       "       [11.53614288, 12.22930445],\n",
       "       [ 9.49016755, 10.09644897],\n",
       "       [21.11323671, 21.53557983],\n",
       "       [ 9.50571164,  9.88019402],\n",
       "       [20.20576784, 20.62260119],\n",
       "       [ 9.88912309, 10.2130448 ],\n",
       "       [18.77927972, 19.1040266 ],\n",
       "       [19.67841393, 20.0249755 ],\n",
       "       [ 9.32832398,  9.71700146],\n",
       "       [10.4385607 , 10.7393402 ],\n",
       "       [ 9.53412477,  9.93386515],\n",
       "       [13.20392643, 13.72291464],\n",
       "       [25.32944546, 25.98738513],\n",
       "       [10.34182395, 10.93435265],\n",
       "       [ 9.57755455,  9.94785989],\n",
       "       [16.47891036, 17.00318084],\n",
       "       [10.22619555, 10.55881997],\n",
       "       [16.07451214, 16.33926138],\n",
       "       [18.44902526, 18.79850502],\n",
       "       [15.13610007, 15.39336364],\n",
       "       [ 6.93616943,  7.50229328],\n",
       "       [14.245046  , 14.7248544 ],\n",
       "       [ 9.61983318, 10.02835409],\n",
       "       [ 8.54676035,  9.15326145],\n",
       "       [12.34555529, 12.58800694],\n",
       "       [13.84920807, 14.10377064],\n",
       "       [12.76250854, 13.15027008],\n",
       "       [14.44907601, 14.72197365],\n",
       "       [17.38988609, 17.7031456 ],\n",
       "       [11.16918463, 11.44405779],\n",
       "       [11.92741576, 12.49724613],\n",
       "       [ 8.94804405,  9.5498158 ],\n",
       "       [11.79416795, 12.24902104],\n",
       "       [16.91577628, 17.20720699],\n",
       "       [15.46897402, 16.06548721],\n",
       "       [ 8.45634703,  8.89148128],\n",
       "       [14.14078115, 14.3773635 ],\n",
       "       [ 8.03500875,  8.45646334],\n",
       "       [11.2854917 , 11.63813685],\n",
       "       [11.66505048, 12.19450405],\n",
       "       [27.57926156, 28.37277182],\n",
       "       [20.27389286, 20.64969714],\n",
       "       [11.48860392, 11.83526413],\n",
       "       [12.46451041, 13.21714241],\n",
       "       [11.84081296, 12.15756495],\n",
       "       [10.03342492, 10.42934307],\n",
       "       [12.12690251, 12.61167258],\n",
       "       [ 8.02317119,  8.5352594 ],\n",
       "       [26.39270536, 27.08966165],\n",
       "       [17.86776536, 18.24112482],\n",
       "       [21.77742904, 22.24948678],\n",
       "       [ 9.55485376,  9.95218823],\n",
       "       [17.07176804, 17.339425  ],\n",
       "       [16.65181703, 17.19101289],\n",
       "       [ 7.45590418,  7.97003536],\n",
       "       [10.49418857, 11.09778884],\n",
       "       [ 9.19478308,  9.57762562],\n",
       "       [ 6.84063286,  7.52019267],\n",
       "       [18.65445295, 19.0290309 ],\n",
       "       [16.37078975, 16.67131988],\n",
       "       [ 7.34782519,  7.95815615],\n",
       "       [ 8.93402355,  9.35475988],\n",
       "       [12.01642663, 12.35512338],\n",
       "       [25.82518758, 26.48510547],\n",
       "       [13.37103717, 13.84443027]])"
      ]
     },
     "execution_count": 34,
     "metadata": {},
     "output_type": "execute_result"
    }
   ],
   "source": [
    "## confidence interval of prediction\n",
    "y = model_result.get_prediction(X)\n",
    "y.conf_int()"
   ]
  },
  {
   "cell_type": "code",
   "execution_count": null,
   "id": "4447ea7a-ba3e-41de-9aba-c6bd0d5e7279",
   "metadata": {},
   "outputs": [],
   "source": []
  }
 ],
 "metadata": {
  "kernelspec": {
   "display_name": "Python 3 (ipykernel)",
   "language": "python",
   "name": "python3"
  },
  "language_info": {
   "codemirror_mode": {
    "name": "ipython",
    "version": 3
   },
   "file_extension": ".py",
   "mimetype": "text/x-python",
   "name": "python",
   "nbconvert_exporter": "python",
   "pygments_lexer": "ipython3",
   "version": "3.12.1"
  }
 },
 "nbformat": 4,
 "nbformat_minor": 5
}
