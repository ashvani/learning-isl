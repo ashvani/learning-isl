{
 "cells": [
  {
   "cell_type": "markdown",
   "id": "0e55550f-40f4-481f-854b-0c9942793dcf",
   "metadata": {},
   "source": [
    "## Bayes Theorem  \n",
    "- Mathematical way to invert conditional probabilities\n",
    "- $P(A|B) = \\frac{P(A\\cap{B})}{P(B)} = \\frac{P(B|A)P(A)}{P(B)}$\n",
    "- P(A|B) and P(B|A) are called conditional probabilities, P(A) and P(B) are called\n",
    "- Let $f_k(X) = P(X | Y = k)$ denote the density function of X for an observation that comes from kth class then\n",
    "  $P(Y = k | X = x) = \\frac{P(Y = k, X = x)}{P(X = x)} = \\frac{P(X = x | Y = k) P(Y = k)}{P(X = x)}$\n",
    "  = $\\frac{P(X = x | Y = k) P(Y = k)}{\\Sigma^{K}_{l=1}P(X = x| Y = k)P(Y = k)}$ = $\\frac{\\pi_k f_k(x)}{\\Sigma^{K}_{l = 1}\\pi_l f_k(l)}$\n",
    "- Pr(Y = k|X = x) is the posterior probability that an observation X = x belongs to the kth class and $\\pi_k$ represent the overall or `prior probability` that a randomly chosen observation comes from the kth class\n",
    "- To compute Pr(Y = k|X = x), we need to have estimates of $\\pi_k$'s and $f_k$'s for k = 1, 2, ...., K\n",
    "- Estimating the prior probabilities $\\pi_1$, $\\pi_2$, ..., $\\pi_K$ is typically straightforward: for instance, we can estimate $\\hat{\\pi_k}$ as the proportion of training observations belonging to the kth class, for k = 1, . . . ,K.\n",
    "- We assume that features are independent. Stated mathematically, this assumption means that for k = 1, . . . ,K,\n",
    "  </br> $f_k(x) = f_{k1}(x_1) × f_{k2}(x_2)×· · ·×f_{kp}(x_p)$\n",
    "  "
   ]
  },
  {
   "cell_type": "code",
   "execution_count": 1,
   "id": "51493205-61e7-4e5c-97f3-20b87f510a62",
   "metadata": {},
   "outputs": [],
   "source": [
    "import pandas as pd"
   ]
  },
  {
   "cell_type": "code",
   "execution_count": 10,
   "id": "e0fe13a5-a5f1-475f-a272-02923c8842e8",
   "metadata": {},
   "outputs": [
    {
     "data": {
      "text/html": [
       "<div>\n",
       "<style scoped>\n",
       "    .dataframe tbody tr th:only-of-type {\n",
       "        vertical-align: middle;\n",
       "    }\n",
       "\n",
       "    .dataframe tbody tr th {\n",
       "        vertical-align: top;\n",
       "    }\n",
       "\n",
       "    .dataframe thead th {\n",
       "        text-align: right;\n",
       "    }\n",
       "</style>\n",
       "<table border=\"1\" class=\"dataframe\">\n",
       "  <thead>\n",
       "    <tr style=\"text-align: right;\">\n",
       "      <th></th>\n",
       "      <th>default</th>\n",
       "      <th>student</th>\n",
       "      <th>balance</th>\n",
       "      <th>income</th>\n",
       "    </tr>\n",
       "  </thead>\n",
       "  <tbody>\n",
       "    <tr>\n",
       "      <th>0</th>\n",
       "      <td>No</td>\n",
       "      <td>0</td>\n",
       "      <td>729.526495</td>\n",
       "      <td>44361.62507</td>\n",
       "    </tr>\n",
       "    <tr>\n",
       "      <th>1</th>\n",
       "      <td>No</td>\n",
       "      <td>1</td>\n",
       "      <td>817.180407</td>\n",
       "      <td>12106.13470</td>\n",
       "    </tr>\n",
       "    <tr>\n",
       "      <th>2</th>\n",
       "      <td>No</td>\n",
       "      <td>0</td>\n",
       "      <td>1073.549164</td>\n",
       "      <td>31767.13895</td>\n",
       "    </tr>\n",
       "    <tr>\n",
       "      <th>3</th>\n",
       "      <td>No</td>\n",
       "      <td>0</td>\n",
       "      <td>529.250605</td>\n",
       "      <td>35704.49394</td>\n",
       "    </tr>\n",
       "    <tr>\n",
       "      <th>4</th>\n",
       "      <td>No</td>\n",
       "      <td>0</td>\n",
       "      <td>785.655883</td>\n",
       "      <td>38463.49588</td>\n",
       "    </tr>\n",
       "  </tbody>\n",
       "</table>\n",
       "</div>"
      ],
      "text/plain": [
       "  default  student      balance       income\n",
       "0      No        0   729.526495  44361.62507\n",
       "1      No        1   817.180407  12106.13470\n",
       "2      No        0  1073.549164  31767.13895\n",
       "3      No        0   529.250605  35704.49394\n",
       "4      No        0   785.655883  38463.49588"
      ]
     },
     "execution_count": 10,
     "metadata": {},
     "output_type": "execute_result"
    }
   ],
   "source": [
    "df = pd.read_csv(r'Default.csv')\n",
    "df['student'] = df['student'].factorize()[0]\n",
    "df.head()"
   ]
  },
  {
   "cell_type": "code",
   "execution_count": 21,
   "id": "ebf83e6f-4b09-4dae-9528-6059e0cde356",
   "metadata": {},
   "outputs": [],
   "source": [
    "from sklearn.naive_bayes import GaussianNB\n",
    "## https://scikit-learn.org/1.5/modules/naive_bayes.html"
   ]
  },
  {
   "cell_type": "code",
   "execution_count": 13,
   "id": "a3a0230b-dbf0-41d8-b65d-0d97512ab976",
   "metadata": {},
   "outputs": [
    {
     "data": {
      "text/html": [
       "<style>#sk-container-id-1 {color: black;}#sk-container-id-1 pre{padding: 0;}#sk-container-id-1 div.sk-toggleable {background-color: white;}#sk-container-id-1 label.sk-toggleable__label {cursor: pointer;display: block;width: 100%;margin-bottom: 0;padding: 0.3em;box-sizing: border-box;text-align: center;}#sk-container-id-1 label.sk-toggleable__label-arrow:before {content: \"▸\";float: left;margin-right: 0.25em;color: #696969;}#sk-container-id-1 label.sk-toggleable__label-arrow:hover:before {color: black;}#sk-container-id-1 div.sk-estimator:hover label.sk-toggleable__label-arrow:before {color: black;}#sk-container-id-1 div.sk-toggleable__content {max-height: 0;max-width: 0;overflow: hidden;text-align: left;background-color: #f0f8ff;}#sk-container-id-1 div.sk-toggleable__content pre {margin: 0.2em;color: black;border-radius: 0.25em;background-color: #f0f8ff;}#sk-container-id-1 input.sk-toggleable__control:checked~div.sk-toggleable__content {max-height: 200px;max-width: 100%;overflow: auto;}#sk-container-id-1 input.sk-toggleable__control:checked~label.sk-toggleable__label-arrow:before {content: \"▾\";}#sk-container-id-1 div.sk-estimator input.sk-toggleable__control:checked~label.sk-toggleable__label {background-color: #d4ebff;}#sk-container-id-1 div.sk-label input.sk-toggleable__control:checked~label.sk-toggleable__label {background-color: #d4ebff;}#sk-container-id-1 input.sk-hidden--visually {border: 0;clip: rect(1px 1px 1px 1px);clip: rect(1px, 1px, 1px, 1px);height: 1px;margin: -1px;overflow: hidden;padding: 0;position: absolute;width: 1px;}#sk-container-id-1 div.sk-estimator {font-family: monospace;background-color: #f0f8ff;border: 1px dotted black;border-radius: 0.25em;box-sizing: border-box;margin-bottom: 0.5em;}#sk-container-id-1 div.sk-estimator:hover {background-color: #d4ebff;}#sk-container-id-1 div.sk-parallel-item::after {content: \"\";width: 100%;border-bottom: 1px solid gray;flex-grow: 1;}#sk-container-id-1 div.sk-label:hover label.sk-toggleable__label {background-color: #d4ebff;}#sk-container-id-1 div.sk-serial::before {content: \"\";position: absolute;border-left: 1px solid gray;box-sizing: border-box;top: 0;bottom: 0;left: 50%;z-index: 0;}#sk-container-id-1 div.sk-serial {display: flex;flex-direction: column;align-items: center;background-color: white;padding-right: 0.2em;padding-left: 0.2em;position: relative;}#sk-container-id-1 div.sk-item {position: relative;z-index: 1;}#sk-container-id-1 div.sk-parallel {display: flex;align-items: stretch;justify-content: center;background-color: white;position: relative;}#sk-container-id-1 div.sk-item::before, #sk-container-id-1 div.sk-parallel-item::before {content: \"\";position: absolute;border-left: 1px solid gray;box-sizing: border-box;top: 0;bottom: 0;left: 50%;z-index: -1;}#sk-container-id-1 div.sk-parallel-item {display: flex;flex-direction: column;z-index: 1;position: relative;background-color: white;}#sk-container-id-1 div.sk-parallel-item:first-child::after {align-self: flex-end;width: 50%;}#sk-container-id-1 div.sk-parallel-item:last-child::after {align-self: flex-start;width: 50%;}#sk-container-id-1 div.sk-parallel-item:only-child::after {width: 0;}#sk-container-id-1 div.sk-dashed-wrapped {border: 1px dashed gray;margin: 0 0.4em 0.5em 0.4em;box-sizing: border-box;padding-bottom: 0.4em;background-color: white;}#sk-container-id-1 div.sk-label label {font-family: monospace;font-weight: bold;display: inline-block;line-height: 1.2em;}#sk-container-id-1 div.sk-label-container {text-align: center;}#sk-container-id-1 div.sk-container {/* jupyter's `normalize.less` sets `[hidden] { display: none; }` but bootstrap.min.css set `[hidden] { display: none !important; }` so we also need the `!important` here to be able to override the default hidden behavior on the sphinx rendered scikit-learn.org. See: https://github.com/scikit-learn/scikit-learn/issues/21755 */display: inline-block !important;position: relative;}#sk-container-id-1 div.sk-text-repr-fallback {display: none;}</style><div id=\"sk-container-id-1\" class=\"sk-top-container\"><div class=\"sk-text-repr-fallback\"><pre>GaussianNB()</pre><b>In a Jupyter environment, please rerun this cell to show the HTML representation or trust the notebook. <br />On GitHub, the HTML representation is unable to render, please try loading this page with nbviewer.org.</b></div><div class=\"sk-container\" hidden><div class=\"sk-item\"><div class=\"sk-estimator sk-toggleable\"><input class=\"sk-toggleable__control sk-hidden--visually\" id=\"sk-estimator-id-1\" type=\"checkbox\" checked><label for=\"sk-estimator-id-1\" class=\"sk-toggleable__label sk-toggleable__label-arrow\">GaussianNB</label><div class=\"sk-toggleable__content\"><pre>GaussianNB()</pre></div></div></div></div></div>"
      ],
      "text/plain": [
       "GaussianNB()"
      ]
     },
     "execution_count": 13,
     "metadata": {},
     "output_type": "execute_result"
    }
   ],
   "source": [
    "model = GaussianNB()\n",
    "model.fit(df[['student', 'balance', 'income']], df['default'])"
   ]
  },
  {
   "cell_type": "code",
   "execution_count": 15,
   "id": "8cf05070-5ebe-4573-a2af-cc4494e84f9d",
   "metadata": {},
   "outputs": [
    {
     "data": {
      "text/plain": [
       "0.9707"
      ]
     },
     "execution_count": 15,
     "metadata": {},
     "output_type": "execute_result"
    }
   ],
   "source": [
    "model.score(df[['student', 'balance', 'income']], df['default'])"
   ]
  },
  {
   "cell_type": "code",
   "execution_count": 16,
   "id": "912c24e7-fa2e-48e9-88bd-9cd0aad7f9bb",
   "metadata": {},
   "outputs": [],
   "source": [
    "from sklearn.metrics import confusion_matrix"
   ]
  },
  {
   "cell_type": "code",
   "execution_count": 17,
   "id": "ed14998c-8864-4ed1-a0fb-22e5751798af",
   "metadata": {},
   "outputs": [
    {
     "data": {
      "text/plain": [
       "array([[9620,   47],\n",
       "       [ 246,   87]], dtype=int64)"
      ]
     },
     "execution_count": 17,
     "metadata": {},
     "output_type": "execute_result"
    }
   ],
   "source": [
    "y_pred = model.predict(df[['student', 'balance', 'income']])\n",
    "confusion_matrix(df['default'], y_pred)"
   ]
  },
  {
   "cell_type": "code",
   "execution_count": 18,
   "id": "e39d7ea9-acce-4c00-a402-0529508f44df",
   "metadata": {},
   "outputs": [],
   "source": [
    "from sklearn.metrics import classification_report"
   ]
  },
  {
   "cell_type": "code",
   "execution_count": 20,
   "id": "c5780839-da29-4bd0-b0e3-0bc673748898",
   "metadata": {},
   "outputs": [
    {
     "name": "stdout",
     "output_type": "stream",
     "text": [
      "              precision    recall  f1-score   support\n",
      "\n",
      "          No       0.98      1.00      0.98      9667\n",
      "         Yes       0.65      0.26      0.37       333\n",
      "\n",
      "    accuracy                           0.97     10000\n",
      "   macro avg       0.81      0.63      0.68     10000\n",
      "weighted avg       0.96      0.97      0.96     10000\n",
      "\n"
     ]
    }
   ],
   "source": [
    "print(classification_report(df['default'], y_pred))"
   ]
  },
  {
   "cell_type": "code",
   "execution_count": 25,
   "id": "75e664a7-73cf-4ad4-8610-f5428ea181c6",
   "metadata": {},
   "outputs": [
    {
     "data": {
      "text/plain": [
       "array([[2.91403745e-01, 8.03943750e+02, 3.35661666e+04],\n",
       "       [3.81381381e-01, 1.74782169e+03, 3.20891471e+04]])"
      ]
     },
     "execution_count": 25,
     "metadata": {},
     "output_type": "execute_result"
    }
   ],
   "source": [
    "model."
   ]
  },
  {
   "cell_type": "markdown",
   "id": "c11c3d33-ae7a-42ec-96a6-53df44fdb29c",
   "metadata": {},
   "source": [
    "## LDA (Linear Discriminant Analysis)   \n",
    "- If we assume that X's follow a multivariate Gaussian distribution (with a class-specific mean vector and a common variance matrix). then the model that we get is called LDA.\n",
    "- With above assumption and some manipulation we get\n",
    "  $δ_k(x) = x^TΣ^{−1}μ_k − \\frac{1}{2}μ^{T}_kΣ^{−1}μ_k + log π_k$ </br>\n",
    "  We assign class k for which $δ_k$ is the largest. $δ_k$ is also called the `discriminant` function and $δ_k$ is linear in x and hence the name LDA.\n",
    "- If class has its own covariance matrix then we get `QDA (Quadratic Discriminant Analysis)`."
   ]
  },
  {
   "cell_type": "code",
   "execution_count": null,
   "id": "3adbddf7-22c8-454f-b56d-c82d175b9d6f",
   "metadata": {},
   "outputs": [],
   "source": []
  }
 ],
 "metadata": {
  "kernelspec": {
   "display_name": "Python 3 (ipykernel)",
   "language": "python",
   "name": "python3"
  },
  "language_info": {
   "codemirror_mode": {
    "name": "ipython",
    "version": 3
   },
   "file_extension": ".py",
   "mimetype": "text/x-python",
   "name": "python",
   "nbconvert_exporter": "python",
   "pygments_lexer": "ipython3",
   "version": "3.12.1"
  }
 },
 "nbformat": 4,
 "nbformat_minor": 5
}
